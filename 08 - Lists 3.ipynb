{
 "cells": [
  {
   "cell_type": "markdown",
   "id": "c9129e47",
   "metadata": {},
   "source": [
    "# Lists 3\n",
    "\n",
    "![](https://scaler.com/topics/images/2d-array-python.webp)"
   ]
  },
  {
   "cell_type": "code",
   "execution_count": null,
   "id": "e25e2199",
   "metadata": {},
   "outputs": [],
   "source": []
  },
  {
   "cell_type": "code",
   "execution_count": null,
   "id": "9d592d0e",
   "metadata": {},
   "outputs": [],
   "source": [
    "# Reverse array\n",
    "# Input\n",
    "# 4 10 20 30 40"
   ]
  },
  {
   "cell_type": "code",
   "execution_count": 1,
   "id": "2b57c7d3",
   "metadata": {},
   "outputs": [
    {
     "name": "stdout",
     "output_type": "stream",
     "text": [
      "4 10 20 30 40\n"
     ]
    }
   ],
   "source": [
    "s = input()\n",
    "# s = \"4 10 20 30 40\""
   ]
  },
  {
   "cell_type": "code",
   "execution_count": 3,
   "id": "652e63aa",
   "metadata": {},
   "outputs": [
    {
     "name": "stdout",
     "output_type": "stream",
     "text": [
      "['4', '10', '20', '30', '40']\n"
     ]
    }
   ],
   "source": [
    "l = s.split()\n",
    "print(l)"
   ]
  },
  {
   "cell_type": "code",
   "execution_count": 4,
   "id": "780d0027",
   "metadata": {},
   "outputs": [
    {
     "name": "stdout",
     "output_type": "stream",
     "text": [
      "[4, 10, 20, 30, 40]\n"
     ]
    }
   ],
   "source": [
    "for i in range(len(l)):\n",
    "    l[i] = int(l[i])\n",
    "print(l)"
   ]
  },
  {
   "cell_type": "code",
   "execution_count": 5,
   "id": "4a4fa1c1",
   "metadata": {},
   "outputs": [
    {
     "name": "stdout",
     "output_type": "stream",
     "text": [
      "4 [10, 20, 30, 40]\n"
     ]
    }
   ],
   "source": [
    "n = l[0]\n",
    "arr = l[1:]\n",
    "print(n, arr)"
   ]
  },
  {
   "cell_type": "code",
   "execution_count": 6,
   "id": "2020bfc7",
   "metadata": {
    "scrolled": true
   },
   "outputs": [
    {
     "name": "stdout",
     "output_type": "stream",
     "text": [
      "40 30 20 10 "
     ]
    }
   ],
   "source": [
    "for x in arr[::-1]:\n",
    "    print(x, end=' ')"
   ]
  },
  {
   "cell_type": "code",
   "execution_count": null,
   "id": "02bbfaf9",
   "metadata": {},
   "outputs": [],
   "source": []
  },
  {
   "cell_type": "code",
   "execution_count": null,
   "id": "37e66578",
   "metadata": {},
   "outputs": [],
   "source": []
  },
  {
   "cell_type": "code",
   "execution_count": null,
   "id": "0e176d68",
   "metadata": {},
   "outputs": [],
   "source": []
  },
  {
   "cell_type": "markdown",
   "id": "231ef4a1",
   "metadata": {},
   "source": [
    "### 2D Lists Intro"
   ]
  },
  {
   "cell_type": "code",
   "execution_count": 8,
   "id": "c17eaea1",
   "metadata": {},
   "outputs": [
    {
     "name": "stdout",
     "output_type": "stream",
     "text": [
      "[4, 3, 'hello', True, [9, 0]]\n"
     ]
    }
   ],
   "source": [
    "l = [4, 3, 'hello', True, [9, 0]]\n",
    "print(l)"
   ]
  },
  {
   "cell_type": "code",
   "execution_count": 9,
   "id": "db444d37",
   "metadata": {},
   "outputs": [
    {
     "name": "stdout",
     "output_type": "stream",
     "text": [
      "[[1, 2], [3, 4, 5, 6], [7]]\n"
     ]
    }
   ],
   "source": [
    "# 2-dimensional list\n",
    "# 2D list\n",
    "l = [\n",
    "    [1, 2],\n",
    "    [3, 4, 5, 6],\n",
    "    [7]\n",
    "]\n",
    "print(l)"
   ]
  },
  {
   "cell_type": "code",
   "execution_count": 10,
   "id": "29f70b23",
   "metadata": {},
   "outputs": [
    {
     "name": "stdout",
     "output_type": "stream",
     "text": [
      "[1, 2]\n"
     ]
    }
   ],
   "source": [
    "print(l[0])"
   ]
  },
  {
   "cell_type": "code",
   "execution_count": 11,
   "id": "af4f37c7",
   "metadata": {},
   "outputs": [
    {
     "name": "stdout",
     "output_type": "stream",
     "text": [
      "5\n"
     ]
    }
   ],
   "source": [
    "print(l[1][2])"
   ]
  },
  {
   "cell_type": "code",
   "execution_count": null,
   "id": "3bfb170a",
   "metadata": {},
   "outputs": [],
   "source": [
    "# Matrices"
   ]
  },
  {
   "cell_type": "code",
   "execution_count": 12,
   "id": "f77e0287",
   "metadata": {},
   "outputs": [],
   "source": [
    "l = [\n",
    "    [1, 2, 3],\n",
    "    [4, 5, 6]\n",
    "]\n",
    "# Row by row"
   ]
  },
  {
   "cell_type": "code",
   "execution_count": 13,
   "id": "9aca849b",
   "metadata": {},
   "outputs": [],
   "source": [
    "n = 2 # no of rows\n",
    "m = 3 # no of columns"
   ]
  },
  {
   "cell_type": "code",
   "execution_count": 14,
   "id": "58ccdb42",
   "metadata": {},
   "outputs": [],
   "source": [
    "# Given a N * M matrix"
   ]
  },
  {
   "cell_type": "code",
   "execution_count": 15,
   "id": "30565e1a",
   "metadata": {},
   "outputs": [
    {
     "name": "stdout",
     "output_type": "stream",
     "text": [
      "2\n"
     ]
    }
   ],
   "source": [
    "l = [\n",
    "    [1, 2, 3],\n",
    "    [4, 5, 6]\n",
    "]\n",
    "n = len(l)\n",
    "print(n)"
   ]
  },
  {
   "cell_type": "code",
   "execution_count": 16,
   "id": "2a379375",
   "metadata": {},
   "outputs": [
    {
     "name": "stdout",
     "output_type": "stream",
     "text": [
      "3\n"
     ]
    }
   ],
   "source": [
    "# How to compute no of columns ?\n",
    "m = len(l[0])\n",
    "print(m)"
   ]
  },
  {
   "cell_type": "code",
   "execution_count": null,
   "id": "7ef2a2c2",
   "metadata": {},
   "outputs": [],
   "source": []
  },
  {
   "cell_type": "code",
   "execution_count": null,
   "id": "dfe1113c",
   "metadata": {},
   "outputs": [],
   "source": []
  },
  {
   "cell_type": "code",
   "execution_count": null,
   "id": "49f7535b",
   "metadata": {},
   "outputs": [],
   "source": []
  },
  {
   "cell_type": "markdown",
   "id": "f6a5d567",
   "metadata": {},
   "source": [
    "#### Quiz 1\n",
    "Given the list `nums = [[10, 20, 30], [98, 99]]`, what does `nums[0][0]` evaluate to?"
   ]
  },
  {
   "cell_type": "code",
   "execution_count": 17,
   "id": "c858b741",
   "metadata": {},
   "outputs": [
    {
     "name": "stdout",
     "output_type": "stream",
     "text": [
      "10\n"
     ]
    }
   ],
   "source": [
    "nums = [\n",
    "    [10, 20, 30],\n",
    "    [98, 99]\n",
    "]\n",
    "print(nums[0][0])"
   ]
  },
  {
   "cell_type": "code",
   "execution_count": null,
   "id": "02fe2ac5",
   "metadata": {},
   "outputs": [],
   "source": []
  },
  {
   "cell_type": "code",
   "execution_count": null,
   "id": "85cf164d",
   "metadata": {},
   "outputs": [],
   "source": []
  },
  {
   "cell_type": "markdown",
   "id": "c3edc336",
   "metadata": {},
   "source": [
    "#### Quiz 2\n",
    "Given the list `nums = [[10, 20, 30], [98, 99]]`, what does `nums[1][1]` evaluate to?"
   ]
  },
  {
   "cell_type": "code",
   "execution_count": 18,
   "id": "34b56275",
   "metadata": {},
   "outputs": [
    {
     "name": "stdout",
     "output_type": "stream",
     "text": [
      "99\n"
     ]
    }
   ],
   "source": [
    "nums = [\n",
    "    [10, 20, 30],\n",
    "    [98, 99]\n",
    "]\n",
    "print(nums[1][1])"
   ]
  },
  {
   "cell_type": "code",
   "execution_count": null,
   "id": "fa9ccd5d",
   "metadata": {},
   "outputs": [],
   "source": []
  },
  {
   "cell_type": "code",
   "execution_count": null,
   "id": "59accf4f",
   "metadata": {},
   "outputs": [],
   "source": []
  },
  {
   "cell_type": "markdown",
   "id": "eb336160",
   "metadata": {},
   "source": [
    "### Reading 2D Array Input\n",
    "![](https://scaler.com/topics/images/raw-input-in-python.webp)"
   ]
  },
  {
   "cell_type": "markdown",
   "id": "24d831dc",
   "metadata": {},
   "source": [
    "### Sample Input\n",
    "```\n",
    "2 3\n",
    "10 20 30\n",
    "40 50 60\n",
    "```\n",
    "\n",
    "2 Rows \\\n",
    "3 Columns\n"
   ]
  },
  {
   "cell_type": "code",
   "execution_count": 23,
   "id": "34152d2f",
   "metadata": {},
   "outputs": [
    {
     "name": "stdout",
     "output_type": "stream",
     "text": [
      "2 3\n"
     ]
    }
   ],
   "source": [
    "n, m = input().split()\n",
    "# n, m = \"2 3\".split()\n",
    "# n, m = ['2', '3']"
   ]
  },
  {
   "cell_type": "code",
   "execution_count": 20,
   "id": "25387738",
   "metadata": {},
   "outputs": [
    {
     "name": "stdout",
     "output_type": "stream",
     "text": [
      "2 3 <class 'str'> <class 'str'>\n"
     ]
    }
   ],
   "source": [
    "print(n, m, type(n), type(m))"
   ]
  },
  {
   "cell_type": "code",
   "execution_count": 25,
   "id": "6b47a0f9",
   "metadata": {},
   "outputs": [
    {
     "name": "stdout",
     "output_type": "stream",
     "text": [
      "2 3 <class 'int'> <class 'int'>\n"
     ]
    }
   ],
   "source": [
    "n, m = int(n), int(m)\n",
    "print(n, m, type(n), type(m))"
   ]
  },
  {
   "cell_type": "code",
   "execution_count": null,
   "id": "12efc3b8",
   "metadata": {},
   "outputs": [],
   "source": [
    "# n - no of rows\n",
    "# m - no of cols"
   ]
  },
  {
   "cell_type": "markdown",
   "id": "db4bf09a",
   "metadata": {},
   "source": [
    "```\n",
    "2 3\n",
    "10 20 30\n",
    "40 50 60\n",
    "```"
   ]
  },
  {
   "cell_type": "code",
   "execution_count": null,
   "id": "dc46c82e",
   "metadata": {},
   "outputs": [],
   "source": [
    "# Read n rows of input"
   ]
  },
  {
   "cell_type": "code",
   "execution_count": 26,
   "id": "fbc73469",
   "metadata": {},
   "outputs": [
    {
     "name": "stdout",
     "output_type": "stream",
     "text": [
      "10 20 30\n",
      "40 50 60\n",
      "[[10, 20, 30], [40, 50, 60]]\n"
     ]
    }
   ],
   "source": [
    "l = []\n",
    "\n",
    "for i in range(n):\n",
    "    # For every iteration, we have to read and store one row of input\n",
    "    row = list(map(int, input().split()))\n",
    "    \n",
    "    # Append the row into my big list - l\n",
    "    l.append(row)\n",
    "    \n",
    "print(l)"
   ]
  },
  {
   "cell_type": "code",
   "execution_count": null,
   "id": "9d4d3570",
   "metadata": {},
   "outputs": [],
   "source": []
  },
  {
   "cell_type": "code",
   "execution_count": null,
   "id": "ea6743a3",
   "metadata": {},
   "outputs": [],
   "source": []
  },
  {
   "cell_type": "code",
   "execution_count": null,
   "id": "31f9e212",
   "metadata": {},
   "outputs": [],
   "source": []
  },
  {
   "cell_type": "code",
   "execution_count": null,
   "id": "15713f5d",
   "metadata": {},
   "outputs": [],
   "source": []
  },
  {
   "cell_type": "code",
   "execution_count": null,
   "id": "95325e7b",
   "metadata": {},
   "outputs": [],
   "source": []
  },
  {
   "cell_type": "code",
   "execution_count": 27,
   "id": "d6df5490",
   "metadata": {},
   "outputs": [],
   "source": [
    "def readMatrixInput():\n",
    "    n, m = input().split()\n",
    "    n, m = int(n), int(m)\n",
    "    \n",
    "    l = []\n",
    "\n",
    "    for i in range(n):\n",
    "        row = list(map(int, input().split()))\n",
    "        l.append(row)\n",
    "\n",
    "    return l"
   ]
  },
  {
   "cell_type": "code",
   "execution_count": 28,
   "id": "a3e78624",
   "metadata": {},
   "outputs": [
    {
     "name": "stdout",
     "output_type": "stream",
     "text": [
      "3 4\n",
      "2 8 9 0\n",
      "7 1 4 9\n",
      "0 0 1 5\n"
     ]
    }
   ],
   "source": [
    "a = readMatrixInput()"
   ]
  },
  {
   "cell_type": "code",
   "execution_count": 29,
   "id": "4ffb7f5e",
   "metadata": {},
   "outputs": [
    {
     "name": "stdout",
     "output_type": "stream",
     "text": [
      "[[2, 8, 9, 0], [7, 1, 4, 9], [0, 0, 1, 5]]\n"
     ]
    }
   ],
   "source": [
    "print(a)"
   ]
  },
  {
   "cell_type": "code",
   "execution_count": null,
   "id": "aa9f443b",
   "metadata": {},
   "outputs": [],
   "source": []
  },
  {
   "cell_type": "code",
   "execution_count": null,
   "id": "2889b99b",
   "metadata": {},
   "outputs": [],
   "source": []
  },
  {
   "cell_type": "code",
   "execution_count": 34,
   "id": "5943eb98",
   "metadata": {},
   "outputs": [],
   "source": [
    "def generateMatrix(n, m):\n",
    "    \"\"\"\n",
    "    This function takes the dimensions and returns the matrix of those\n",
    "    dimensions with initial value = 0\n",
    "    n = no of rows\n",
    "    m = no of columns\n",
    "    \"\"\"\n",
    "    l = []\n",
    "    \n",
    "    for i in range(n):\n",
    "        # Row of size m, with initial value 0\n",
    "        row = []\n",
    "        for j in range(m):\n",
    "            row.append(0)\n",
    "        l.append(row)\n",
    "        \n",
    "    return l"
   ]
  },
  {
   "cell_type": "code",
   "execution_count": 36,
   "id": "f6b99e77",
   "metadata": {},
   "outputs": [
    {
     "name": "stdout",
     "output_type": "stream",
     "text": [
      "[[0, 0, 0, 0, 0, 0, 0, 0, 0, 0], [0, 0, 0, 0, 0, 0, 0, 0, 0, 0], [0, 0, 0, 0, 0, 0, 0, 0, 0, 0], [0, 0, 0, 0, 0, 0, 0, 0, 0, 0]]\n"
     ]
    }
   ],
   "source": [
    "arr = generateMatrix(4, 10)\n",
    "print(arr)"
   ]
  },
  {
   "cell_type": "code",
   "execution_count": null,
   "id": "20d65b0b",
   "metadata": {},
   "outputs": [],
   "source": []
  },
  {
   "cell_type": "code",
   "execution_count": null,
   "id": "be6b3f2b",
   "metadata": {},
   "outputs": [],
   "source": []
  },
  {
   "cell_type": "markdown",
   "id": "c3abcbe5",
   "metadata": {},
   "source": [
    "## Output"
   ]
  },
  {
   "cell_type": "code",
   "execution_count": 37,
   "id": "602377fb",
   "metadata": {},
   "outputs": [
    {
     "name": "stdout",
     "output_type": "stream",
     "text": [
      "[[10, 20, 30], [40, 50, 60]]\n"
     ]
    }
   ],
   "source": [
    "l = [[10, 20, 30], [40, 50, 60]]\n",
    "print(l)\n",
    "# 10 20 30\n",
    "# 40 50 60"
   ]
  },
  {
   "cell_type": "code",
   "execution_count": 38,
   "id": "0c8eebc9",
   "metadata": {},
   "outputs": [
    {
     "name": "stdout",
     "output_type": "stream",
     "text": [
      "[10, 20, 30]\n",
      "[40, 50, 60]\n"
     ]
    }
   ],
   "source": [
    "for row in l:\n",
    "    print(row)"
   ]
  },
  {
   "cell_type": "code",
   "execution_count": 39,
   "id": "89400e88",
   "metadata": {},
   "outputs": [
    {
     "name": "stdout",
     "output_type": "stream",
     "text": [
      "10 20 30\n",
      "40 50 60\n"
     ]
    }
   ],
   "source": [
    "for row in l:\n",
    "    print(*row)"
   ]
  },
  {
   "cell_type": "code",
   "execution_count": null,
   "id": "893c06f3",
   "metadata": {},
   "outputs": [],
   "source": [
    "l = [[10, 20, 30], [40, 50, 60]]"
   ]
  },
  {
   "cell_type": "code",
   "execution_count": 40,
   "id": "31a1eb8d",
   "metadata": {},
   "outputs": [],
   "source": [
    "n = len(l)\n",
    "m = len(l[0])"
   ]
  },
  {
   "cell_type": "code",
   "execution_count": 43,
   "id": "e6fe82fd",
   "metadata": {},
   "outputs": [
    {
     "name": "stdout",
     "output_type": "stream",
     "text": [
      "Row  0  =  [10, 20, 30]\n",
      "Row  1  =  [40, 50, 60]\n"
     ]
    }
   ],
   "source": [
    "# Loop with indexes\n",
    "for i in range(n):\n",
    "    print(\"Row \", i, \" = \", l[i])"
   ]
  },
  {
   "cell_type": "code",
   "execution_count": 46,
   "id": "f28444b7",
   "metadata": {},
   "outputs": [
    {
     "name": "stdout",
     "output_type": "stream",
     "text": [
      "10 20 30 \n",
      "40 50 60 \n"
     ]
    }
   ],
   "source": [
    "# Loop with indexes\n",
    "for i in range(n):\n",
    "    for j in range(m):\n",
    "        print(l[i][j], end=' ')\n",
    "    \n",
    "    print()"
   ]
  },
  {
   "cell_type": "code",
   "execution_count": null,
   "id": "5fe420b6",
   "metadata": {},
   "outputs": [],
   "source": []
  },
  {
   "cell_type": "code",
   "execution_count": null,
   "id": "c91a8eab",
   "metadata": {},
   "outputs": [],
   "source": [
    "l = [[10, 20, 30], [40, 50, 60]]"
   ]
  },
  {
   "cell_type": "code",
   "execution_count": 52,
   "id": "82e55ac4",
   "metadata": {},
   "outputs": [
    {
     "name": "stdout",
     "output_type": "stream",
     "text": [
      "10 20 30\n",
      "40 50 60\n"
     ]
    }
   ],
   "source": [
    "for [a, b, c] in l:\n",
    "    print(a, b, c)"
   ]
  },
  {
   "cell_type": "code",
   "execution_count": 53,
   "id": "7d9baf4d",
   "metadata": {},
   "outputs": [
    {
     "name": "stdout",
     "output_type": "stream",
     "text": [
      "[10, 20, 30]\n",
      "[40, 50, 60]\n"
     ]
    }
   ],
   "source": [
    "for row in l:\n",
    "    print(row)"
   ]
  },
  {
   "cell_type": "code",
   "execution_count": null,
   "id": "52549719",
   "metadata": {},
   "outputs": [],
   "source": []
  },
  {
   "cell_type": "code",
   "execution_count": null,
   "id": "056e12b3",
   "metadata": {},
   "outputs": [],
   "source": []
  },
  {
   "cell_type": "code",
   "execution_count": null,
   "id": "7fb17e65",
   "metadata": {},
   "outputs": [],
   "source": []
  },
  {
   "cell_type": "markdown",
   "id": "4b475127",
   "metadata": {},
   "source": [
    "### Sum of all matrix values\n",
    "![](https://scaler.com/topics/images/sum-in-python.webp)"
   ]
  },
  {
   "cell_type": "code",
   "execution_count": 54,
   "id": "a4b71736",
   "metadata": {},
   "outputs": [],
   "source": [
    "l = [[10, 20, 30], [40, 50, 60]]"
   ]
  },
  {
   "cell_type": "code",
   "execution_count": 57,
   "id": "1c33d677",
   "metadata": {},
   "outputs": [
    {
     "name": "stdout",
     "output_type": "stream",
     "text": [
      "210\n"
     ]
    }
   ],
   "source": [
    "total = 0\n",
    "\n",
    "for row in l:\n",
    "    for x in row:\n",
    "        total += x\n",
    "        \n",
    "print(total)"
   ]
  },
  {
   "cell_type": "code",
   "execution_count": 58,
   "id": "c900d1e0",
   "metadata": {},
   "outputs": [
    {
     "name": "stdout",
     "output_type": "stream",
     "text": [
      "210\n"
     ]
    }
   ],
   "source": [
    "total = 0\n",
    "\n",
    "for i in range(len(l)):\n",
    "    for j in range(len(l[0])):\n",
    "        total += l[i][j]\n",
    "        \n",
    "print(total)"
   ]
  },
  {
   "cell_type": "code",
   "execution_count": null,
   "id": "433e3b12",
   "metadata": {},
   "outputs": [],
   "source": []
  },
  {
   "cell_type": "code",
   "execution_count": null,
   "id": "167ee758",
   "metadata": {},
   "outputs": [],
   "source": []
  },
  {
   "cell_type": "markdown",
   "id": "3453d9a2",
   "metadata": {},
   "source": [
    "### Sum of matrices\n",
    "Given two matrices, return a third matrix which contains their sum"
   ]
  },
  {
   "cell_type": "code",
   "execution_count": 59,
   "id": "4fce60d3",
   "metadata": {},
   "outputs": [],
   "source": [
    "a = [\n",
    "    [10, 20, 30],\n",
    "    [40, 50, 60]\n",
    "]\n",
    "b = [\n",
    "    [9, 2, 4],\n",
    "    [0, 7, 3]\n",
    "]\n",
    "n = 2 # rows\n",
    "m = 3 # columns"
   ]
  },
  {
   "cell_type": "code",
   "execution_count": 61,
   "id": "c44c3372",
   "metadata": {},
   "outputs": [
    {
     "name": "stdout",
     "output_type": "stream",
     "text": [
      "[[0, 0, 0], [0, 0, 0]]\n"
     ]
    }
   ],
   "source": [
    "# generateMatrix() definition above\n",
    "c = generateMatrix(n, m)\n",
    "print(c)"
   ]
  },
  {
   "cell_type": "code",
   "execution_count": 65,
   "id": "11b0fcc5",
   "metadata": {},
   "outputs": [],
   "source": [
    "for i in range(n):\n",
    "    for j in range(m):\n",
    "        # print(a[i][j], b[i][j], a[i][j] + b[i][j])\n",
    "        c[i][j] = a[i][j] + b[i][j]"
   ]
  },
  {
   "cell_type": "code",
   "execution_count": 66,
   "id": "5cf3ac35",
   "metadata": {},
   "outputs": [
    {
     "name": "stdout",
     "output_type": "stream",
     "text": [
      "[[19, 22, 34], [40, 57, 63]]\n"
     ]
    }
   ],
   "source": [
    "print(c)"
   ]
  },
  {
   "cell_type": "code",
   "execution_count": null,
   "id": "2cb0885f",
   "metadata": {},
   "outputs": [],
   "source": []
  },
  {
   "cell_type": "markdown",
   "id": "9fe3d964",
   "metadata": {},
   "source": [
    "### Print max of each row\n",
    "![](https://scaler.com/topics/images/two-dimensional-array-in-c.webp)"
   ]
  },
  {
   "cell_type": "code",
   "execution_count": 67,
   "id": "3556d3d1",
   "metadata": {},
   "outputs": [],
   "source": [
    "a = [\n",
    "    [10, 5, 9, 4],\n",
    "    [20, 40, 7, 1],\n",
    "    [-4, -9, -1, -3]\n",
    "]"
   ]
  },
  {
   "cell_type": "code",
   "execution_count": null,
   "id": "989843e3",
   "metadata": {},
   "outputs": [],
   "source": [
    "# Expected output:\n",
    "# 10\n",
    "# 40\n",
    "# -1"
   ]
  },
  {
   "cell_type": "code",
   "execution_count": 68,
   "id": "78a0dbee",
   "metadata": {},
   "outputs": [
    {
     "name": "stdout",
     "output_type": "stream",
     "text": [
      "10\n",
      "40\n",
      "-1\n"
     ]
    }
   ],
   "source": [
    "for row in a:\n",
    "    print(max(row))"
   ]
  },
  {
   "cell_type": "code",
   "execution_count": null,
   "id": "d00e6fb0",
   "metadata": {},
   "outputs": [],
   "source": [
    "# Without using the inbuilt max function"
   ]
  },
  {
   "cell_type": "code",
   "execution_count": null,
   "id": "4b48602f",
   "metadata": {},
   "outputs": [],
   "source": [
    "a = [\n",
    "    [10, 5, 9, 4],\n",
    "    [20, 40, 7, 1],\n",
    "    [-4, -9, -1, -3]\n",
    "]"
   ]
  },
  {
   "cell_type": "code",
   "execution_count": 71,
   "id": "fd11ca0b",
   "metadata": {},
   "outputs": [
    {
     "name": "stdout",
     "output_type": "stream",
     "text": [
      "10\n",
      "40\n",
      "-1\n"
     ]
    }
   ],
   "source": [
    "for row in a:\n",
    "    maxValue = row[0]\n",
    "\n",
    "    for x in row:\n",
    "        if x > maxValue:\n",
    "            maxValue = x\n",
    "\n",
    "    print(maxValue)"
   ]
  },
  {
   "cell_type": "code",
   "execution_count": null,
   "id": "5679331e",
   "metadata": {},
   "outputs": [],
   "source": []
  },
  {
   "cell_type": "code",
   "execution_count": null,
   "id": "80bc8506",
   "metadata": {},
   "outputs": [],
   "source": []
  },
  {
   "cell_type": "code",
   "execution_count": null,
   "id": "47839484",
   "metadata": {},
   "outputs": [],
   "source": []
  },
  {
   "cell_type": "markdown",
   "id": "ff8c6ba8",
   "metadata": {},
   "source": [
    "### Transpose\n",
    "![](https://scaler.com/topics/images/transpose-of-a-matrix-in-python-featured-image.webp)\n",
    "<img src=\"https://scaler.com/topics/images/transpose-of-matrix.webp\" width=\"600px\" />"
   ]
  },
  {
   "cell_type": "markdown",
   "id": "3bde7e7f",
   "metadata": {},
   "source": [
    "Given a matrix, create a new matrix that contains its transpose."
   ]
  },
  {
   "cell_type": "code",
   "execution_count": 72,
   "id": "11c79dc6",
   "metadata": {},
   "outputs": [
    {
     "name": "stdout",
     "output_type": "stream",
     "text": [
      "2 3\n"
     ]
    }
   ],
   "source": [
    "a = [\n",
    "    [10, 20, 30],\n",
    "    [40, 50, 60]\n",
    "]\n",
    "n = len(a)\n",
    "m = len(a[0])\n",
    "print(n, m)"
   ]
  },
  {
   "cell_type": "code",
   "execution_count": 74,
   "id": "dae6119b",
   "metadata": {},
   "outputs": [
    {
     "name": "stdout",
     "output_type": "stream",
     "text": [
      "[[0, 0], [0, 0], [0, 0]]\n"
     ]
    }
   ],
   "source": [
    "b = generateMatrix(m, n)\n",
    "print(b)"
   ]
  },
  {
   "cell_type": "code",
   "execution_count": 75,
   "id": "0ddc58fe",
   "metadata": {},
   "outputs": [
    {
     "name": "stdout",
     "output_type": "stream",
     "text": [
      "[[10, 40], [20, 50], [30, 60]]\n"
     ]
    }
   ],
   "source": [
    "for i in range(n):\n",
    "    for j in range(m):\n",
    "        b[j][i] = a[i][j]\n",
    "        \n",
    "print(b)"
   ]
  },
  {
   "cell_type": "code",
   "execution_count": null,
   "id": "0f72b66e",
   "metadata": {},
   "outputs": [],
   "source": []
  },
  {
   "cell_type": "code",
   "execution_count": null,
   "id": "a73345fb",
   "metadata": {},
   "outputs": [],
   "source": []
  },
  {
   "cell_type": "code",
   "execution_count": null,
   "id": "50030ef4",
   "metadata": {},
   "outputs": [],
   "source": []
  },
  {
   "cell_type": "markdown",
   "id": "bb8b3a48",
   "metadata": {},
   "source": [
    "## Bonus Reading Material\n",
    "- Wtf Python: A tic-tac-toe where X wins in the first attempt! - https://github.com/satwikkansal/wtfpython#-a-tic-tac-toe-where-x-wins-in-the-first-attempt\n",
    "- Swapping of Two Numbers in Python - https://www.scaler.com/topics/swapping-of-two-numbers-in-python/\n",
    "- Transpose of a Matrix in Python - https://www.scaler.com/topics/transpose-of-a-matrix-in-python/\n",
    "- Matrix Multiplication in Python - https://www.scaler.com/topics/matrix-multiplication-in-python/\n",
    "- What is List Comprehension in Python? - https://www.scaler.com/topics/list-comprehension-in-python/"
   ]
  },
  {
   "cell_type": "code",
   "execution_count": null,
   "id": "c58bd12d",
   "metadata": {},
   "outputs": [],
   "source": []
  },
  {
   "cell_type": "code",
   "execution_count": null,
   "id": "544effc9",
   "metadata": {},
   "outputs": [],
   "source": []
  },
  {
   "cell_type": "markdown",
   "id": "6c14182c",
   "metadata": {},
   "source": [
    "# Doubts"
   ]
  },
  {
   "cell_type": "code",
   "execution_count": 89,
   "id": "4e0118b8",
   "metadata": {},
   "outputs": [
    {
     "name": "stdout",
     "output_type": "stream",
     "text": [
      "30 20 10 "
     ]
    }
   ],
   "source": [
    "n = 4\n",
    "l = [10,20,30,40]\n",
    "for i in range(n-2,-1,-1):\n",
    "    print(l[i], end=\" \")"
   ]
  },
  {
   "cell_type": "code",
   "execution_count": 88,
   "id": "21951ad8",
   "metadata": {},
   "outputs": [
    {
     "name": "stdout",
     "output_type": "stream",
     "text": [
      "30 20 10 "
     ]
    }
   ],
   "source": [
    "# print(l[3], end=\" \")\n",
    "print(l[2], end=\" \")\n",
    "print(l[1], end=\" \")\n",
    "print(l[0], end=\" \")\n",
    "# print(l[-1], end=\" \")"
   ]
  },
  {
   "cell_type": "code",
   "execution_count": null,
   "id": "91b0865d",
   "metadata": {},
   "outputs": [],
   "source": []
  },
  {
   "cell_type": "code",
   "execution_count": 87,
   "id": "a4196da2",
   "metadata": {},
   "outputs": [
    {
     "name": "stdout",
     "output_type": "stream",
     "text": [
      "2 1 0\n"
     ]
    }
   ],
   "source": [
    "n = 4\n",
    "print(*range(n-2,-1,-1))"
   ]
  },
  {
   "cell_type": "code",
   "execution_count": null,
   "id": "02ab7c52",
   "metadata": {},
   "outputs": [],
   "source": []
  }
 ],
 "metadata": {
  "kernelspec": {
   "display_name": "Python 3 (ipykernel)",
   "language": "python",
   "name": "python3"
  },
  "language_info": {
   "codemirror_mode": {
    "name": "ipython",
    "version": 3
   },
   "file_extension": ".py",
   "mimetype": "text/x-python",
   "name": "python",
   "nbconvert_exporter": "python",
   "pygments_lexer": "ipython3",
   "version": "3.9.18"
  }
 },
 "nbformat": 4,
 "nbformat_minor": 5
}
