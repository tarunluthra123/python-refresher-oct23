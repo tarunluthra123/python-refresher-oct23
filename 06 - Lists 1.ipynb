{
 "cells": [
  {
   "cell_type": "markdown",
   "id": "68e8061f",
   "metadata": {},
   "source": [
    "# Lists 1\n",
    "![](https://scaler.com/topics/images/array-data-structure.webp)"
   ]
  },
  {
   "cell_type": "code",
   "execution_count": null,
   "id": "d85f8a1a",
   "metadata": {},
   "outputs": [],
   "source": [
    "movie1 = 'Interstellar'\n",
    "movie2 = 'The Dark Knight'\n",
    "movie3 = 'Godfather'"
   ]
  },
  {
   "cell_type": "code",
   "execution_count": 1,
   "id": "4f19dd8f",
   "metadata": {},
   "outputs": [],
   "source": [
    "movies = []"
   ]
  },
  {
   "cell_type": "code",
   "execution_count": 2,
   "id": "431c02e4",
   "metadata": {},
   "outputs": [
    {
     "name": "stdout",
     "output_type": "stream",
     "text": [
      "[] <class 'list'>\n"
     ]
    }
   ],
   "source": [
    "print(movies, type(movies))"
   ]
  },
  {
   "cell_type": "code",
   "execution_count": 3,
   "id": "b581612a",
   "metadata": {},
   "outputs": [
    {
     "name": "stdout",
     "output_type": "stream",
     "text": [
      "['Interstellar', 'The Dark Knight', 'Godfather'] <class 'list'>\n"
     ]
    }
   ],
   "source": [
    "movies = ['Interstellar', 'The Dark Knight', 'Godfather']\n",
    "print(movies, type(movies))"
   ]
  },
  {
   "cell_type": "code",
   "execution_count": 7,
   "id": "a1e4e5bd",
   "metadata": {},
   "outputs": [
    {
     "name": "stdout",
     "output_type": "stream",
     "text": [
      "['Interstellar', 'The Dark Knight', 300, 2.0, True, ['Godfather', 'Godfather: Part 2', 'Godfather: Part 3']] <class 'list'>\n"
     ]
    }
   ],
   "source": [
    "movies = [\n",
    "    'Interstellar',\n",
    "    'The Dark Knight',\n",
    "    300,\n",
    "    2.0,\n",
    "    True,\n",
    "    ['Godfather', 'Godfather: Part 2', 'Godfather: Part 3']\n",
    "]\n",
    "print(movies, type(movies))"
   ]
  },
  {
   "cell_type": "code",
   "execution_count": 8,
   "id": "08a5ca54",
   "metadata": {},
   "outputs": [],
   "source": [
    "movie1 = 'Interstellar'\n",
    "movie2 = 'The Dark Knight'\n",
    "\n",
    "movies = [\n",
    "    movie1,\n",
    "    movie2,\n",
    "    300,\n",
    "    2.0,\n",
    "    True,\n",
    "    ['Godfather', 'Godfather: Part 2', 'Godfather: Part 3']\n",
    "]"
   ]
  },
  {
   "cell_type": "code",
   "execution_count": null,
   "id": "6497030b",
   "metadata": {},
   "outputs": [],
   "source": []
  },
  {
   "cell_type": "code",
   "execution_count": null,
   "id": "0e009674",
   "metadata": {},
   "outputs": [],
   "source": []
  },
  {
   "cell_type": "code",
   "execution_count": null,
   "id": "451866b4",
   "metadata": {},
   "outputs": [],
   "source": []
  },
  {
   "cell_type": "markdown",
   "id": "4591c18f",
   "metadata": {},
   "source": [
    "### Length of List\n",
    "![](https://scaler.com/topics/images/length-of-array-in-python-fi.webp)"
   ]
  },
  {
   "cell_type": "code",
   "execution_count": 9,
   "id": "0bbd1681",
   "metadata": {},
   "outputs": [
    {
     "name": "stdout",
     "output_type": "stream",
     "text": [
      "8\n"
     ]
    }
   ],
   "source": [
    "runs = [20, 15, 7, 3, 90, 20, 10, 3]\n",
    "print(len(runs))"
   ]
  },
  {
   "cell_type": "code",
   "execution_count": null,
   "id": "894101bc",
   "metadata": {},
   "outputs": [],
   "source": []
  },
  {
   "cell_type": "code",
   "execution_count": null,
   "id": "d94342d7",
   "metadata": {},
   "outputs": [],
   "source": []
  },
  {
   "cell_type": "code",
   "execution_count": null,
   "id": "19cdf799",
   "metadata": {},
   "outputs": [],
   "source": []
  },
  {
   "cell_type": "markdown",
   "id": "f168b445",
   "metadata": {},
   "source": [
    "## Indexing\n",
    "![](https://scaler.com/topics/images/lists-in-python.webp)\n"
   ]
  },
  {
   "cell_type": "code",
   "execution_count": 11,
   "id": "3204a0d7",
   "metadata": {},
   "outputs": [
    {
     "name": "stdout",
     "output_type": "stream",
     "text": [
      "20\n",
      "15\n",
      "7\n",
      "10\n"
     ]
    }
   ],
   "source": [
    "runs = [20, 15, 7, 3, 90, 20, 10, 3]\n",
    "print(runs[0])\n",
    "print(runs[1])\n",
    "print(runs[2])\n",
    "print(runs[6])"
   ]
  },
  {
   "cell_type": "code",
   "execution_count": null,
   "id": "8950bba1",
   "metadata": {},
   "outputs": [],
   "source": []
  },
  {
   "cell_type": "code",
   "execution_count": null,
   "id": "e3378a2f",
   "metadata": {},
   "outputs": [],
   "source": []
  },
  {
   "cell_type": "markdown",
   "id": "7761c00c",
   "metadata": {},
   "source": [
    "#### Quiz 1\n",
    "```py\n",
    "odi_scores = [100, 20, 340, 345, 45]\n",
    "odi_scores[4]\n",
    "```"
   ]
  },
  {
   "cell_type": "code",
   "execution_count": 12,
   "id": "3c3885f8",
   "metadata": {},
   "outputs": [
    {
     "name": "stdout",
     "output_type": "stream",
     "text": [
      "45\n"
     ]
    }
   ],
   "source": [
    "odi_scores = [100, 20, 340, 345, 45]\n",
    "print(odi_scores[4])"
   ]
  },
  {
   "cell_type": "code",
   "execution_count": null,
   "id": "ccc63ff5",
   "metadata": {},
   "outputs": [],
   "source": []
  },
  {
   "cell_type": "code",
   "execution_count": 13,
   "id": "758c1a40",
   "metadata": {},
   "outputs": [
    {
     "ename": "IndexError",
     "evalue": "list index out of range",
     "output_type": "error",
     "traceback": [
      "\u001b[0;31m---------------------------------------------------------------------------\u001b[0m",
      "\u001b[0;31mIndexError\u001b[0m                                Traceback (most recent call last)",
      "\u001b[0;32m/var/folders/jn/1bsrct314hv5xmfm7vrcdrzc0000gn/T/ipykernel_19183/4234429.py\u001b[0m in \u001b[0;36m<module>\u001b[0;34m\u001b[0m\n\u001b[0;32m----> 1\u001b[0;31m \u001b[0mprint\u001b[0m\u001b[0;34m(\u001b[0m\u001b[0modi_scores\u001b[0m\u001b[0;34m[\u001b[0m\u001b[0;36m10\u001b[0m\u001b[0;34m]\u001b[0m\u001b[0;34m)\u001b[0m\u001b[0;34m\u001b[0m\u001b[0;34m\u001b[0m\u001b[0m\n\u001b[0m",
      "\u001b[0;31mIndexError\u001b[0m: list index out of range"
     ]
    }
   ],
   "source": [
    "print(odi_scores[10])"
   ]
  },
  {
   "cell_type": "code",
   "execution_count": null,
   "id": "5f6ef885",
   "metadata": {},
   "outputs": [],
   "source": []
  },
  {
   "cell_type": "code",
   "execution_count": null,
   "id": "38ca5a8c",
   "metadata": {},
   "outputs": [],
   "source": [
    "movies = [\n",
    "    'Interstellar',\n",
    "    'The Dark Knight',\n",
    "    300,\n",
    "    2.0,\n",
    "    True,\n",
    "    ['Godfather', 'Godfather: Part 2', 'Godfather: Part 3']\n",
    "]"
   ]
  },
  {
   "cell_type": "code",
   "execution_count": 14,
   "id": "cfee3649",
   "metadata": {},
   "outputs": [
    {
     "name": "stdout",
     "output_type": "stream",
     "text": [
      "['Godfather', 'Godfather: Part 2', 'Godfather: Part 3']\n"
     ]
    }
   ],
   "source": [
    "print(movies[5])"
   ]
  },
  {
   "cell_type": "code",
   "execution_count": 15,
   "id": "75c47c39",
   "metadata": {},
   "outputs": [
    {
     "name": "stdout",
     "output_type": "stream",
     "text": [
      "Godfather: Part 2\n"
     ]
    }
   ],
   "source": [
    "print(movies[5][1])"
   ]
  },
  {
   "cell_type": "code",
   "execution_count": null,
   "id": "284d7222",
   "metadata": {},
   "outputs": [],
   "source": []
  },
  {
   "cell_type": "markdown",
   "id": "fc728ceb",
   "metadata": {},
   "source": [
    "#### Quiz 2\n",
    "```py\n",
    "l = [\"Rahul\", 1, 1, \"Sweta\"]  \n",
    "print(type(l[0]))\n",
    "```"
   ]
  },
  {
   "cell_type": "code",
   "execution_count": 16,
   "id": "1f385fa8",
   "metadata": {},
   "outputs": [
    {
     "name": "stdout",
     "output_type": "stream",
     "text": [
      "<class 'str'>\n"
     ]
    }
   ],
   "source": [
    "l = [\"Rahul\", 1, 1, \"Sweta\"]\n",
    "print(type(l[0]))"
   ]
  },
  {
   "cell_type": "code",
   "execution_count": 17,
   "id": "4bb5e4c5",
   "metadata": {},
   "outputs": [
    {
     "name": "stdout",
     "output_type": "stream",
     "text": [
      "Rahul\n"
     ]
    }
   ],
   "source": [
    "print(l[0])"
   ]
  },
  {
   "cell_type": "code",
   "execution_count": null,
   "id": "a7eeb74f",
   "metadata": {},
   "outputs": [],
   "source": []
  },
  {
   "cell_type": "code",
   "execution_count": null,
   "id": "c5946faa",
   "metadata": {},
   "outputs": [],
   "source": []
  },
  {
   "cell_type": "markdown",
   "id": "3c93f316",
   "metadata": {},
   "source": [
    "#### Quiz 3\n",
    "What is the index for last element of a list of size `N`?"
   ]
  },
  {
   "cell_type": "code",
   "execution_count": null,
   "id": "77a69b67",
   "metadata": {},
   "outputs": [],
   "source": [
    "# N - 1"
   ]
  },
  {
   "cell_type": "code",
   "execution_count": null,
   "id": "b8a27335",
   "metadata": {},
   "outputs": [],
   "source": []
  },
  {
   "cell_type": "markdown",
   "id": "6e5f1a04",
   "metadata": {},
   "source": [
    "## Negative Indexing\n",
    "![](https://scaler.com/topics/images/what-is-list-in-python.webp)"
   ]
  },
  {
   "cell_type": "code",
   "execution_count": 18,
   "id": "5be8a71b",
   "metadata": {},
   "outputs": [
    {
     "name": "stdout",
     "output_type": "stream",
     "text": [
      "3\n"
     ]
    }
   ],
   "source": [
    "runs = [20, 15, 7, 3, 90, 20, 10, 3]\n",
    "print(runs[-1])"
   ]
  },
  {
   "cell_type": "code",
   "execution_count": 19,
   "id": "86de0774",
   "metadata": {},
   "outputs": [
    {
     "name": "stdout",
     "output_type": "stream",
     "text": [
      "20\n",
      "90\n",
      "7\n"
     ]
    }
   ],
   "source": [
    "print(runs[-3])\n",
    "print(runs[-4])\n",
    "print(runs[-6])"
   ]
  },
  {
   "cell_type": "code",
   "execution_count": null,
   "id": "e2a1c2ef",
   "metadata": {},
   "outputs": [],
   "source": []
  },
  {
   "cell_type": "code",
   "execution_count": 20,
   "id": "069ca2a7",
   "metadata": {},
   "outputs": [
    {
     "ename": "IndexError",
     "evalue": "list index out of range",
     "output_type": "error",
     "traceback": [
      "\u001b[0;31m---------------------------------------------------------------------------\u001b[0m",
      "\u001b[0;31mIndexError\u001b[0m                                Traceback (most recent call last)",
      "\u001b[0;32m/var/folders/jn/1bsrct314hv5xmfm7vrcdrzc0000gn/T/ipykernel_19183/3125373583.py\u001b[0m in \u001b[0;36m<module>\u001b[0;34m\u001b[0m\n\u001b[0;32m----> 1\u001b[0;31m \u001b[0mprint\u001b[0m\u001b[0;34m(\u001b[0m\u001b[0mruns\u001b[0m\u001b[0;34m[\u001b[0m\u001b[0;34m-\u001b[0m\u001b[0;36m10\u001b[0m\u001b[0;34m]\u001b[0m\u001b[0;34m)\u001b[0m\u001b[0;34m\u001b[0m\u001b[0;34m\u001b[0m\u001b[0m\n\u001b[0m",
      "\u001b[0;31mIndexError\u001b[0m: list index out of range"
     ]
    }
   ],
   "source": [
    "print(runs[-10])"
   ]
  },
  {
   "cell_type": "code",
   "execution_count": null,
   "id": "e5f79979",
   "metadata": {},
   "outputs": [],
   "source": []
  },
  {
   "cell_type": "code",
   "execution_count": 23,
   "id": "43a22f46",
   "metadata": {},
   "outputs": [
    {
     "name": "stdout",
     "output_type": "stream",
     "text": [
      "15\n"
     ]
    }
   ],
   "source": [
    "runs = [20, 15, 7, 3, 90, 20, 10, 3]\n",
    "print(runs[-1+2])"
   ]
  },
  {
   "cell_type": "code",
   "execution_count": 24,
   "id": "6862baae",
   "metadata": {},
   "outputs": [
    {
     "name": "stdout",
     "output_type": "stream",
     "text": [
      "10\n"
     ]
    }
   ],
   "source": [
    "print(runs[-1] + runs[2])"
   ]
  },
  {
   "cell_type": "code",
   "execution_count": null,
   "id": "2426b6ef",
   "metadata": {},
   "outputs": [],
   "source": []
  },
  {
   "cell_type": "code",
   "execution_count": 25,
   "id": "16f8fb8a",
   "metadata": {},
   "outputs": [
    {
     "name": "stdout",
     "output_type": "stream",
     "text": [
      "[20, 15, 7, 3, 90, 20, 10, 40]\n"
     ]
    }
   ],
   "source": [
    "runs[-1] = 40\n",
    "print(runs)"
   ]
  },
  {
   "cell_type": "code",
   "execution_count": 26,
   "id": "d449928a",
   "metadata": {},
   "outputs": [
    {
     "name": "stdout",
     "output_type": "stream",
     "text": [
      "[20, 15, 65, 3, 90, 20, 89, 40]\n"
     ]
    }
   ],
   "source": [
    "runs[2] = 65\n",
    "runs[-2] = 89\n",
    "print(runs)"
   ]
  },
  {
   "cell_type": "code",
   "execution_count": null,
   "id": "6b1f3263",
   "metadata": {},
   "outputs": [],
   "source": []
  },
  {
   "cell_type": "code",
   "execution_count": null,
   "id": "3d512fc5",
   "metadata": {},
   "outputs": [],
   "source": []
  },
  {
   "cell_type": "code",
   "execution_count": null,
   "id": "e94d10fe",
   "metadata": {},
   "outputs": [],
   "source": []
  },
  {
   "cell_type": "markdown",
   "id": "ed4e1313",
   "metadata": {},
   "source": [
    "#### Quiz 4\n",
    "```py\n",
    "runs = [10, 55, 4, 67, 17]\n",
    "print(runs[0] + runs[-1] + runs[-3])\n",
    "```\n"
   ]
  },
  {
   "cell_type": "code",
   "execution_count": 27,
   "id": "00991c1c",
   "metadata": {},
   "outputs": [
    {
     "name": "stdout",
     "output_type": "stream",
     "text": [
      "31\n"
     ]
    }
   ],
   "source": [
    "runs = [10, 55, 4, 67, 17]\n",
    "print(runs[0] + runs[-1] + runs[-3])\n",
    "# 10 + 17 + 4 = 31"
   ]
  },
  {
   "cell_type": "code",
   "execution_count": null,
   "id": "a4aa9c7c",
   "metadata": {},
   "outputs": [],
   "source": []
  },
  {
   "cell_type": "markdown",
   "id": "2308b3d3",
   "metadata": {},
   "source": [
    "## Inserting Data\n",
    "- append()\n",
    "- insert()\n",
    "- extend()\n",
    "- list concatenation"
   ]
  },
  {
   "cell_type": "code",
   "execution_count": 28,
   "id": "a956eaa6",
   "metadata": {},
   "outputs": [],
   "source": [
    "l = [10, 20, 30]"
   ]
  },
  {
   "cell_type": "code",
   "execution_count": 29,
   "id": "7a24f4eb",
   "metadata": {},
   "outputs": [
    {
     "name": "stdout",
     "output_type": "stream",
     "text": [
      "[10, 20, 30, 80]\n"
     ]
    }
   ],
   "source": [
    "l.append(80)\n",
    "print(l)"
   ]
  },
  {
   "cell_type": "code",
   "execution_count": 30,
   "id": "c1df7a96",
   "metadata": {},
   "outputs": [
    {
     "name": "stdout",
     "output_type": "stream",
     "text": [
      "[10, 20, 30, 80, 140]\n"
     ]
    }
   ],
   "source": [
    "l.append(140)\n",
    "print(l)"
   ]
  },
  {
   "cell_type": "code",
   "execution_count": null,
   "id": "973ffd26",
   "metadata": {},
   "outputs": [],
   "source": []
  },
  {
   "cell_type": "code",
   "execution_count": null,
   "id": "96682179",
   "metadata": {},
   "outputs": [],
   "source": [
    "# insert"
   ]
  },
  {
   "cell_type": "code",
   "execution_count": 31,
   "id": "15e140bb",
   "metadata": {},
   "outputs": [],
   "source": [
    "l = [10, 20, 30, 40, 50, 60]"
   ]
  },
  {
   "cell_type": "code",
   "execution_count": 32,
   "id": "ddf17d01",
   "metadata": {},
   "outputs": [],
   "source": [
    "l.insert(1, 200)\n",
    "# index, value"
   ]
  },
  {
   "cell_type": "code",
   "execution_count": 33,
   "id": "0c7ae186",
   "metadata": {},
   "outputs": [
    {
     "name": "stdout",
     "output_type": "stream",
     "text": [
      "[10, 200, 20, 30, 40, 50, 60]\n"
     ]
    }
   ],
   "source": [
    "print(l)"
   ]
  },
  {
   "cell_type": "code",
   "execution_count": 34,
   "id": "b2a9a40a",
   "metadata": {},
   "outputs": [
    {
     "name": "stdout",
     "output_type": "stream",
     "text": [
      "200\n"
     ]
    }
   ],
   "source": [
    "print(l[1])"
   ]
  },
  {
   "cell_type": "code",
   "execution_count": null,
   "id": "832e2114",
   "metadata": {},
   "outputs": [],
   "source": []
  },
  {
   "cell_type": "code",
   "execution_count": null,
   "id": "1225d297",
   "metadata": {},
   "outputs": [],
   "source": []
  },
  {
   "cell_type": "markdown",
   "id": "948b0dbe",
   "metadata": {},
   "source": [
    "#### Quiz 5\n",
    "```py\n",
    "runs = [10, 55, 4, 67, 17]\n",
    "runs.append(6)\n",
    "runs.append(200)\n",
    "print(runs[-1] + runs[2])\n",
    "```"
   ]
  },
  {
   "cell_type": "code",
   "execution_count": 35,
   "id": "2f816ffa",
   "metadata": {},
   "outputs": [
    {
     "name": "stdout",
     "output_type": "stream",
     "text": [
      "204\n"
     ]
    }
   ],
   "source": [
    "runs = [10, 55, 4, 67, 17]\n",
    "runs.append(6) # [10, 55, 4, 67, 17, 6]\n",
    "runs.append(200) # [10, 55, 4, 67, 17, 6, 200]\n",
    "print(runs[-1] + runs[2]) # 200 + 4"
   ]
  },
  {
   "cell_type": "code",
   "execution_count": null,
   "id": "b90f5c14",
   "metadata": {},
   "outputs": [],
   "source": []
  },
  {
   "cell_type": "code",
   "execution_count": null,
   "id": "a770f2ea",
   "metadata": {},
   "outputs": [],
   "source": []
  },
  {
   "cell_type": "markdown",
   "id": "6f9cc800",
   "metadata": {},
   "source": [
    "#### Quiz 6\n",
    "```py\n",
    "l = [1, 2, 3, 3, 5, 6, 7, 5]\n",
    "l.insert(5, 10)\n",
    "print(l)\n",
    "```"
   ]
  },
  {
   "cell_type": "code",
   "execution_count": 36,
   "id": "98ec0942",
   "metadata": {},
   "outputs": [
    {
     "name": "stdout",
     "output_type": "stream",
     "text": [
      "[1, 2, 3, 3, 5, 10, 6, 7, 5]\n"
     ]
    }
   ],
   "source": [
    "l = [1, 2, 3, 3, 5, 6, 7, 5]\n",
    "l.insert(5, 10)\n",
    "# Insert 10 at index 5\n",
    "# [1, 2, 3, 3, 5, 10, 6, 7, 5]\n",
    "print(l)"
   ]
  },
  {
   "cell_type": "code",
   "execution_count": null,
   "id": "bb5fb0bb",
   "metadata": {},
   "outputs": [],
   "source": []
  },
  {
   "cell_type": "code",
   "execution_count": 37,
   "id": "094111c9",
   "metadata": {},
   "outputs": [
    {
     "name": "stdout",
     "output_type": "stream",
     "text": [
      "[40, 10, 20, 30]\n"
     ]
    }
   ],
   "source": [
    "l = [10, 20, 30]\n",
    "l.insert(0, 40)\n",
    "print(l)"
   ]
  },
  {
   "cell_type": "code",
   "execution_count": null,
   "id": "25c2a119",
   "metadata": {},
   "outputs": [],
   "source": []
  },
  {
   "cell_type": "code",
   "execution_count": null,
   "id": "0d65d5f8",
   "metadata": {},
   "outputs": [],
   "source": []
  },
  {
   "cell_type": "code",
   "execution_count": 38,
   "id": "32784dac",
   "metadata": {},
   "outputs": [
    {
     "name": "stdout",
     "output_type": "stream",
     "text": [
      "[10, 20, 30, 70, 80, 90, 100]\n"
     ]
    }
   ],
   "source": [
    "a = [10, 20, 30]\n",
    "b = [70, 80, 90, 100]\n",
    "\n",
    "# Insert all the entries from list b and add them to list a\n",
    "a.extend(b)\n",
    "print(a)"
   ]
  },
  {
   "cell_type": "code",
   "execution_count": 39,
   "id": "c9184f89",
   "metadata": {},
   "outputs": [
    {
     "name": "stdout",
     "output_type": "stream",
     "text": [
      "[70, 80, 90, 100]\n"
     ]
    }
   ],
   "source": [
    "print(b)"
   ]
  },
  {
   "cell_type": "code",
   "execution_count": null,
   "id": "0970431a",
   "metadata": {},
   "outputs": [],
   "source": []
  },
  {
   "cell_type": "code",
   "execution_count": 40,
   "id": "f3e2fb35",
   "metadata": {},
   "outputs": [
    {
     "name": "stdout",
     "output_type": "stream",
     "text": [
      "[10, 20, 30, 70, 80, 90, 100]\n"
     ]
    }
   ],
   "source": [
    "a = [10, 20, 30]\n",
    "b = [70, 80, 90, 100]\n",
    "\n",
    "a = a + b # concatenation\n",
    "print(a)"
   ]
  },
  {
   "cell_type": "code",
   "execution_count": null,
   "id": "7dfa44c4",
   "metadata": {},
   "outputs": [],
   "source": []
  },
  {
   "cell_type": "code",
   "execution_count": 41,
   "id": "6c609acb",
   "metadata": {},
   "outputs": [
    {
     "name": "stdout",
     "output_type": "stream",
     "text": [
      "[10, 20, 30, 70, 80, 90, 100]\n"
     ]
    }
   ],
   "source": [
    "a = [10, 20, 30]\n",
    "b = [70, 80, 90, 100]\n",
    "\n",
    "a += b\n",
    "print(a)"
   ]
  },
  {
   "cell_type": "code",
   "execution_count": null,
   "id": "99d76aea",
   "metadata": {},
   "outputs": [],
   "source": []
  },
  {
   "cell_type": "code",
   "execution_count": null,
   "id": "4c59825d",
   "metadata": {},
   "outputs": [],
   "source": []
  },
  {
   "cell_type": "markdown",
   "id": "06cc598c",
   "metadata": {},
   "source": [
    "# Removing data\n",
    "- remove - Removes the first occurence\n",
    "- pop - Pops the value at the given index. If no index is given, it pops the last element.\n",
    "- del - keyword which allows us to delete the specified value\n",
    "![](https://scaler.com/topics/images/How-to-remove-element-from-list-Python.webp)"
   ]
  },
  {
   "cell_type": "code",
   "execution_count": 42,
   "id": "27ad4aed",
   "metadata": {},
   "outputs": [
    {
     "name": "stdout",
     "output_type": "stream",
     "text": [
      "[10, 20, 30, 40, 50, 30, 20]\n"
     ]
    }
   ],
   "source": [
    "l = [10, 20, 30, 40, 50, 30, 20]\n",
    "print(l)"
   ]
  },
  {
   "cell_type": "code",
   "execution_count": 43,
   "id": "dc4351aa",
   "metadata": {},
   "outputs": [
    {
     "name": "stdout",
     "output_type": "stream",
     "text": [
      "[10, 30, 40, 50, 30, 20]\n"
     ]
    }
   ],
   "source": [
    "l.remove(20)\n",
    "print(l)"
   ]
  },
  {
   "cell_type": "code",
   "execution_count": 44,
   "id": "c1683923",
   "metadata": {},
   "outputs": [
    {
     "name": "stdout",
     "output_type": "stream",
     "text": [
      "[10, 30, 40, 50, 30]\n"
     ]
    }
   ],
   "source": [
    "l = [10, 30, 40, 50, 30, 20]\n",
    "l.pop() # pops the last value\n",
    "print(l)"
   ]
  },
  {
   "cell_type": "code",
   "execution_count": 45,
   "id": "608035c8",
   "metadata": {},
   "outputs": [
    {
     "name": "stdout",
     "output_type": "stream",
     "text": [
      "[10, 40, 50, 30]\n"
     ]
    }
   ],
   "source": [
    "l = [10, 30, 40, 50, 30]\n",
    "l.pop(1)\n",
    "print(l)"
   ]
  },
  {
   "cell_type": "code",
   "execution_count": null,
   "id": "771b44d1",
   "metadata": {},
   "outputs": [],
   "source": []
  },
  {
   "cell_type": "code",
   "execution_count": 46,
   "id": "bed020b2",
   "metadata": {},
   "outputs": [
    {
     "name": "stdout",
     "output_type": "stream",
     "text": [
      "[10, '20', 30]\n"
     ]
    }
   ],
   "source": [
    "l = [10, \"20\", 20, 30]\n",
    "l.remove(20)\n",
    "print(l)"
   ]
  },
  {
   "cell_type": "code",
   "execution_count": null,
   "id": "e496b70f",
   "metadata": {},
   "outputs": [],
   "source": []
  },
  {
   "cell_type": "code",
   "execution_count": 47,
   "id": "8035e868",
   "metadata": {},
   "outputs": [
    {
     "ename": "TypeError",
     "evalue": "list.remove() takes exactly one argument (0 given)",
     "output_type": "error",
     "traceback": [
      "\u001b[0;31m---------------------------------------------------------------------------\u001b[0m",
      "\u001b[0;31mTypeError\u001b[0m                                 Traceback (most recent call last)",
      "\u001b[0;32m/var/folders/jn/1bsrct314hv5xmfm7vrcdrzc0000gn/T/ipykernel_19183/844590585.py\u001b[0m in \u001b[0;36m<module>\u001b[0;34m\u001b[0m\n\u001b[1;32m      1\u001b[0m \u001b[0ml\u001b[0m \u001b[0;34m=\u001b[0m \u001b[0;34m[\u001b[0m\u001b[0;36m10\u001b[0m\u001b[0;34m,\u001b[0m \u001b[0;34m\"20\"\u001b[0m\u001b[0;34m,\u001b[0m \u001b[0;36m20\u001b[0m\u001b[0;34m,\u001b[0m \u001b[0;36m30\u001b[0m\u001b[0;34m]\u001b[0m\u001b[0;34m\u001b[0m\u001b[0;34m\u001b[0m\u001b[0m\n\u001b[0;32m----> 2\u001b[0;31m \u001b[0ml\u001b[0m\u001b[0;34m.\u001b[0m\u001b[0mremove\u001b[0m\u001b[0;34m(\u001b[0m\u001b[0;34m)\u001b[0m\u001b[0;34m\u001b[0m\u001b[0;34m\u001b[0m\u001b[0m\n\u001b[0m\u001b[1;32m      3\u001b[0m \u001b[0mprint\u001b[0m\u001b[0;34m(\u001b[0m\u001b[0ml\u001b[0m\u001b[0;34m)\u001b[0m\u001b[0;34m\u001b[0m\u001b[0;34m\u001b[0m\u001b[0m\n",
      "\u001b[0;31mTypeError\u001b[0m: list.remove() takes exactly one argument (0 given)"
     ]
    }
   ],
   "source": [
    "l = [10, \"20\", 20, 30]\n",
    "l.remove()\n",
    "print(l)"
   ]
  },
  {
   "cell_type": "code",
   "execution_count": null,
   "id": "522fad15",
   "metadata": {},
   "outputs": [],
   "source": []
  },
  {
   "cell_type": "code",
   "execution_count": 48,
   "id": "e8213b99",
   "metadata": {},
   "outputs": [
    {
     "name": "stdout",
     "output_type": "stream",
     "text": [
      "[10, 20, 40, 50]\n"
     ]
    }
   ],
   "source": [
    "l = [10, 20, 30, 40, 50]\n",
    "del l[2]\n",
    "print(l)"
   ]
  },
  {
   "cell_type": "code",
   "execution_count": 49,
   "id": "14bc477e",
   "metadata": {},
   "outputs": [
    {
     "name": "stdout",
     "output_type": "stream",
     "text": [
      "[10, 20, 40]\n"
     ]
    }
   ],
   "source": [
    "l = [10, 20, 40, 50]\n",
    "del l[-1]\n",
    "print(l)"
   ]
  },
  {
   "cell_type": "code",
   "execution_count": 50,
   "id": "336e311f",
   "metadata": {},
   "outputs": [
    {
     "name": "stdout",
     "output_type": "stream",
     "text": [
      "[10, 20, 25]\n"
     ]
    }
   ],
   "source": [
    "l[2] = 25\n",
    "print(l)"
   ]
  },
  {
   "cell_type": "code",
   "execution_count": null,
   "id": "bac006c2",
   "metadata": {},
   "outputs": [],
   "source": []
  },
  {
   "cell_type": "code",
   "execution_count": 51,
   "id": "dee1d9a1",
   "metadata": {},
   "outputs": [
    {
     "name": "stdout",
     "output_type": "stream",
     "text": [
      "3\n"
     ]
    }
   ],
   "source": [
    "print(len(l))"
   ]
  },
  {
   "cell_type": "code",
   "execution_count": null,
   "id": "beff3025",
   "metadata": {},
   "outputs": [],
   "source": []
  },
  {
   "cell_type": "code",
   "execution_count": 52,
   "id": "69bb2648",
   "metadata": {},
   "outputs": [
    {
     "ename": "NameError",
     "evalue": "name 'l' is not defined",
     "output_type": "error",
     "traceback": [
      "\u001b[0;31m---------------------------------------------------------------------------\u001b[0m",
      "\u001b[0;31mNameError\u001b[0m                                 Traceback (most recent call last)",
      "\u001b[0;32m/var/folders/jn/1bsrct314hv5xmfm7vrcdrzc0000gn/T/ipykernel_19183/2630627642.py\u001b[0m in \u001b[0;36m<module>\u001b[0;34m\u001b[0m\n\u001b[1;32m      1\u001b[0m \u001b[0ml\u001b[0m \u001b[0;34m=\u001b[0m \u001b[0;34m[\u001b[0m\u001b[0;36m10\u001b[0m\u001b[0;34m,\u001b[0m \u001b[0;36m20\u001b[0m\u001b[0;34m,\u001b[0m \u001b[0;36m30\u001b[0m\u001b[0;34m,\u001b[0m \u001b[0;36m40\u001b[0m\u001b[0;34m]\u001b[0m\u001b[0;34m\u001b[0m\u001b[0;34m\u001b[0m\u001b[0m\n\u001b[1;32m      2\u001b[0m \u001b[0;32mdel\u001b[0m \u001b[0ml\u001b[0m\u001b[0;34m\u001b[0m\u001b[0;34m\u001b[0m\u001b[0m\n\u001b[0;32m----> 3\u001b[0;31m \u001b[0mprint\u001b[0m\u001b[0;34m(\u001b[0m\u001b[0ml\u001b[0m\u001b[0;34m)\u001b[0m\u001b[0;34m\u001b[0m\u001b[0;34m\u001b[0m\u001b[0m\n\u001b[0m",
      "\u001b[0;31mNameError\u001b[0m: name 'l' is not defined"
     ]
    }
   ],
   "source": [
    "l = [10, 20, 30, 40]\n",
    "del l   # Delete the entire list\n",
    "print(l)"
   ]
  },
  {
   "cell_type": "code",
   "execution_count": null,
   "id": "677bcae6",
   "metadata": {},
   "outputs": [],
   "source": []
  },
  {
   "cell_type": "markdown",
   "id": "274e4fa2",
   "metadata": {},
   "source": [
    "#### Quiz 7\n",
    "```py\n",
    "l = [1, 2, 3, 3, 5, 6, 7, 5]\n",
    "l.pop(5)\n",
    "print(l)\n",
    "```"
   ]
  },
  {
   "cell_type": "code",
   "execution_count": 53,
   "id": "52523e8d",
   "metadata": {},
   "outputs": [
    {
     "name": "stdout",
     "output_type": "stream",
     "text": [
      "[1, 2, 3, 3, 5, 7, 5]\n"
     ]
    }
   ],
   "source": [
    "l = [1, 2, 3, 3, 5, 6, 7, 5]\n",
    "l.pop(5) # index\n",
    "print(l)"
   ]
  },
  {
   "cell_type": "code",
   "execution_count": null,
   "id": "102169ad",
   "metadata": {},
   "outputs": [],
   "source": []
  },
  {
   "cell_type": "code",
   "execution_count": null,
   "id": "1f745cfb",
   "metadata": {},
   "outputs": [],
   "source": []
  },
  {
   "cell_type": "markdown",
   "id": "03188e80",
   "metadata": {},
   "source": [
    "#### Quiz 8\n",
    "```py\n",
    "l = [1, 2, 3, 3, 5, 6, 7, 5]\n",
    "l.remove(5)\n",
    "```"
   ]
  },
  {
   "cell_type": "code",
   "execution_count": 54,
   "id": "9afaccaa",
   "metadata": {},
   "outputs": [
    {
     "name": "stdout",
     "output_type": "stream",
     "text": [
      "[1, 2, 3, 3, 6, 7, 5]\n"
     ]
    }
   ],
   "source": [
    "l = [1, 2, 3, 3, 5, 6, 7, 5]\n",
    "l.remove(5) # value\n",
    "# Only remove the first occurence\n",
    "print(l)"
   ]
  },
  {
   "cell_type": "code",
   "execution_count": null,
   "id": "5a8800f3",
   "metadata": {},
   "outputs": [],
   "source": []
  },
  {
   "cell_type": "code",
   "execution_count": null,
   "id": "a9a62fc5",
   "metadata": {},
   "outputs": [],
   "source": []
  },
  {
   "cell_type": "markdown",
   "id": "7f4298a8",
   "metadata": {},
   "source": [
    "### in operator (Membership operator)"
   ]
  },
  {
   "cell_type": "code",
   "execution_count": 57,
   "id": "db12ab73",
   "metadata": {},
   "outputs": [
    {
     "name": "stdout",
     "output_type": "stream",
     "text": [
      "100\n",
      "100 is not present\n"
     ]
    }
   ],
   "source": [
    "l = [10, 20, 30, 40, 50, 60]\n",
    "\n",
    "# Check if input is part of the list\n",
    "x = int(input())\n",
    "\n",
    "if x in l:\n",
    "    print(x, 'is present in the list')\n",
    "else:\n",
    "    print(x, 'is not present')"
   ]
  },
  {
   "cell_type": "code",
   "execution_count": null,
   "id": "bc95293b",
   "metadata": {},
   "outputs": [],
   "source": []
  },
  {
   "cell_type": "markdown",
   "id": "b46fe8f5",
   "metadata": {},
   "source": [
    "## Iterating over lists"
   ]
  },
  {
   "cell_type": "code",
   "execution_count": 58,
   "id": "2bd190d4",
   "metadata": {},
   "outputs": [],
   "source": [
    "# Lists are iterable"
   ]
  },
  {
   "cell_type": "code",
   "execution_count": 59,
   "id": "af156f57",
   "metadata": {},
   "outputs": [
    {
     "name": "stdout",
     "output_type": "stream",
     "text": [
      "10\n",
      "20\n",
      "30\n",
      "40\n",
      "50\n",
      "60\n"
     ]
    }
   ],
   "source": [
    "l = [10, 20, 30, 40, 50, 60]\n",
    "\n",
    "for x in l:\n",
    "    print(x)"
   ]
  },
  {
   "cell_type": "code",
   "execution_count": null,
   "id": "60678978",
   "metadata": {},
   "outputs": [],
   "source": []
  },
  {
   "cell_type": "code",
   "execution_count": null,
   "id": "e3e2c2dd",
   "metadata": {},
   "outputs": [],
   "source": []
  },
  {
   "cell_type": "code",
   "execution_count": 62,
   "id": "38eb6829",
   "metadata": {},
   "outputs": [
    {
     "name": "stdout",
     "output_type": "stream",
     "text": [
      "Sum is 280\n"
     ]
    }
   ],
   "source": [
    "# Given a list, compute the sum of all numbers in it\n",
    "l = [10, 20, 30, 40, 50, 60, 70]\n",
    "\n",
    "total = 0\n",
    "for x in l:\n",
    "    total += x\n",
    "    \n",
    "print(\"Sum is\", total)"
   ]
  },
  {
   "cell_type": "code",
   "execution_count": 63,
   "id": "de764491",
   "metadata": {},
   "outputs": [
    {
     "name": "stdout",
     "output_type": "stream",
     "text": [
      "280\n"
     ]
    }
   ],
   "source": [
    "# Inbuilt function\n",
    "l = [10, 20, 30, 40, 50, 60, 70]\n",
    "print(sum(l))"
   ]
  },
  {
   "cell_type": "code",
   "execution_count": 64,
   "id": "e9049400",
   "metadata": {},
   "outputs": [
    {
     "ename": "TypeError",
     "evalue": "unsupported operand type(s) for +: 'int' and 'str'",
     "output_type": "error",
     "traceback": [
      "\u001b[0;31m---------------------------------------------------------------------------\u001b[0m",
      "\u001b[0;31mTypeError\u001b[0m                                 Traceback (most recent call last)",
      "\u001b[0;32m/var/folders/jn/1bsrct314hv5xmfm7vrcdrzc0000gn/T/ipykernel_19183/2543162163.py\u001b[0m in \u001b[0;36m<module>\u001b[0;34m\u001b[0m\n\u001b[1;32m      1\u001b[0m \u001b[0ml\u001b[0m \u001b[0;34m=\u001b[0m \u001b[0;34m[\u001b[0m\u001b[0;36m10\u001b[0m\u001b[0;34m,\u001b[0m \u001b[0;36m20\u001b[0m\u001b[0;34m,\u001b[0m \u001b[0;36m30\u001b[0m\u001b[0;34m,\u001b[0m \u001b[0;36m40\u001b[0m\u001b[0;34m,\u001b[0m \u001b[0;34m'hello'\u001b[0m\u001b[0;34m,\u001b[0m \u001b[0;36m50\u001b[0m\u001b[0;34m,\u001b[0m \u001b[0;36m60\u001b[0m\u001b[0;34m,\u001b[0m \u001b[0;36m70\u001b[0m\u001b[0;34m]\u001b[0m\u001b[0;34m\u001b[0m\u001b[0;34m\u001b[0m\u001b[0m\n\u001b[0;32m----> 2\u001b[0;31m \u001b[0mprint\u001b[0m\u001b[0;34m(\u001b[0m\u001b[0msum\u001b[0m\u001b[0;34m(\u001b[0m\u001b[0ml\u001b[0m\u001b[0;34m)\u001b[0m\u001b[0;34m)\u001b[0m\u001b[0;34m\u001b[0m\u001b[0;34m\u001b[0m\u001b[0m\n\u001b[0m",
      "\u001b[0;31mTypeError\u001b[0m: unsupported operand type(s) for +: 'int' and 'str'"
     ]
    }
   ],
   "source": [
    "l = [10, 20, 30, 40, 'hello', 50, 60, 70]\n",
    "print(sum(l))"
   ]
  },
  {
   "cell_type": "code",
   "execution_count": 65,
   "id": "5b1fc3aa",
   "metadata": {},
   "outputs": [
    {
     "name": "stdout",
     "output_type": "stream",
     "text": [
      "281\n"
     ]
    }
   ],
   "source": [
    "l = [10, 20, 30, 40, True, 50, 60, 70]\n",
    "print(sum(l))"
   ]
  },
  {
   "cell_type": "code",
   "execution_count": null,
   "id": "a8286a1d",
   "metadata": {},
   "outputs": [],
   "source": []
  },
  {
   "cell_type": "code",
   "execution_count": 67,
   "id": "eceec8f0",
   "metadata": {},
   "outputs": [
    {
     "name": "stdout",
     "output_type": "stream",
     "text": [
      "[7, 1, 5, 9]\n"
     ]
    }
   ],
   "source": [
    "# Given a list, filter out all the odd numbers from it and store them\n",
    "# in a new list\n",
    "l = [4, 6, 7, 1, 2, 5, 9, 0]\n",
    "\n",
    "odds = []\n",
    "\n",
    "for x in l:\n",
    "    if x % 2 == 1:\n",
    "        # Odd number\n",
    "        odds.append(x)\n",
    "        \n",
    "print(odds)"
   ]
  },
  {
   "cell_type": "code",
   "execution_count": null,
   "id": "ea4a2937",
   "metadata": {},
   "outputs": [],
   "source": []
  },
  {
   "cell_type": "code",
   "execution_count": null,
   "id": "1905471e",
   "metadata": {},
   "outputs": [],
   "source": []
  },
  {
   "cell_type": "code",
   "execution_count": 70,
   "id": "1bbd110e",
   "metadata": {},
   "outputs": [
    {
     "name": "stdout",
     "output_type": "stream",
     "text": [
      "Max value is 10\n"
     ]
    }
   ],
   "source": [
    "# Given a list, find the max number from it\n",
    "l = [4, 6, 7, 10, 2, 5, 9, 0]\n",
    "\n",
    "maxValue = l[0]\n",
    "\n",
    "for x in l:\n",
    "    if x > maxValue:\n",
    "        maxValue = x\n",
    "        \n",
    "print(\"Max value is\", maxValue)"
   ]
  },
  {
   "cell_type": "code",
   "execution_count": 68,
   "id": "b1d505be",
   "metadata": {},
   "outputs": [
    {
     "name": "stdout",
     "output_type": "stream",
     "text": [
      "9\n"
     ]
    }
   ],
   "source": [
    "# Inbuilt function\n",
    "print(max(l))"
   ]
  },
  {
   "cell_type": "code",
   "execution_count": null,
   "id": "0f418097",
   "metadata": {},
   "outputs": [],
   "source": []
  },
  {
   "cell_type": "markdown",
   "id": "c36a925b",
   "metadata": {},
   "source": [
    "## Iterating with indexes"
   ]
  },
  {
   "cell_type": "code",
   "execution_count": 71,
   "id": "c276d767",
   "metadata": {},
   "outputs": [],
   "source": [
    "l = [10, 20, 30, 40, 50]\n",
    "N = len(l)\n",
    "\n",
    "# indexes = 0 to N-1 (both inclusive)\n",
    "# range(0, N, 1) = range(N)"
   ]
  },
  {
   "cell_type": "code",
   "execution_count": 73,
   "id": "28ee98e4",
   "metadata": {},
   "outputs": [
    {
     "name": "stdout",
     "output_type": "stream",
     "text": [
      "10\n",
      "20\n",
      "30\n",
      "40\n",
      "50\n"
     ]
    }
   ],
   "source": [
    "for i in range(N):\n",
    "    print(l[i])"
   ]
  },
  {
   "cell_type": "code",
   "execution_count": 74,
   "id": "9793b9bb",
   "metadata": {},
   "outputs": [
    {
     "name": "stdout",
     "output_type": "stream",
     "text": [
      "10\n",
      "20\n"
     ]
    }
   ],
   "source": [
    "print(l[0])\n",
    "print(l[1])"
   ]
  },
  {
   "cell_type": "code",
   "execution_count": 75,
   "id": "d5165a60",
   "metadata": {},
   "outputs": [
    {
     "name": "stdout",
     "output_type": "stream",
     "text": [
      "l[ 0 ] = 10\n",
      "l[ 1 ] = 20\n",
      "l[ 2 ] = 30\n",
      "l[ 3 ] = 40\n",
      "l[ 4 ] = 50\n"
     ]
    }
   ],
   "source": [
    "for i in range(N):\n",
    "    print(\"l[\", i, \"] =\", l[i])"
   ]
  },
  {
   "cell_type": "code",
   "execution_count": null,
   "id": "31d3a44c",
   "metadata": {},
   "outputs": [],
   "source": []
  },
  {
   "cell_type": "code",
   "execution_count": 76,
   "id": "b98e6a11",
   "metadata": {},
   "outputs": [
    {
     "name": "stdout",
     "output_type": "stream",
     "text": [
      "9\n"
     ]
    }
   ],
   "source": [
    "l=[4,6,7,1,2,5,9]\n",
    "print(max(l))"
   ]
  },
  {
   "cell_type": "code",
   "execution_count": null,
   "id": "e20024f8",
   "metadata": {},
   "outputs": [],
   "source": []
  },
  {
   "cell_type": "code",
   "execution_count": null,
   "id": "8281816e",
   "metadata": {},
   "outputs": [],
   "source": []
  },
  {
   "cell_type": "code",
   "execution_count": 77,
   "id": "ebf1bdb8",
   "metadata": {},
   "outputs": [],
   "source": [
    "# Given a list, seperate the list out into two smaller lists\n",
    "# One list will contain all even-indexed elements\n",
    "# Other will contain all odd-indexed elements"
   ]
  },
  {
   "cell_type": "code",
   "execution_count": 78,
   "id": "34b21309",
   "metadata": {},
   "outputs": [],
   "source": [
    "l = [4, 7, 1, 8, 2, 3, 0]\n",
    "# Indexes = 0, 1, 2, .. 6 = range(7)\n",
    "# Even indexed = 4, 1, 2, 0\n",
    "# Odd indexed = 7, 8, 3"
   ]
  },
  {
   "cell_type": "code",
   "execution_count": 79,
   "id": "4deeb522",
   "metadata": {},
   "outputs": [],
   "source": [
    "n = len(l) # 7"
   ]
  },
  {
   "cell_type": "code",
   "execution_count": 80,
   "id": "36fa9edc",
   "metadata": {},
   "outputs": [
    {
     "name": "stdout",
     "output_type": "stream",
     "text": [
      "Even indexed elements =  [4, 1, 2, 0]\n",
      "Odd indexed elements =  [7, 8, 3]\n"
     ]
    }
   ],
   "source": [
    "even_indexed = []\n",
    "odd_indexed = []\n",
    "\n",
    "for i in range(n):\n",
    "    if i % 2 == 0:\n",
    "        # even index\n",
    "        even_indexed.append(l[i])\n",
    "    else:\n",
    "        # odd index\n",
    "        odd_indexed.append(l[i])\n",
    "        \n",
    "print(\"Even indexed elements = \", even_indexed)\n",
    "print(\"Odd indexed elements = \", odd_indexed)"
   ]
  },
  {
   "cell_type": "code",
   "execution_count": null,
   "id": "d11f407f",
   "metadata": {},
   "outputs": [],
   "source": []
  },
  {
   "cell_type": "code",
   "execution_count": null,
   "id": "cdbcbbcf",
   "metadata": {},
   "outputs": [],
   "source": []
  },
  {
   "cell_type": "code",
   "execution_count": null,
   "id": "0a93f33f",
   "metadata": {},
   "outputs": [],
   "source": []
  },
  {
   "cell_type": "markdown",
   "id": "7f20c8fd",
   "metadata": {},
   "source": [
    "# Bonus Reading \n",
    "- List in Data Structure (Language agnostic overview of Lists) - https://www.scaler.com/topics/list-in-data-structure/\n",
    "- What is List in Python? - https://www.scaler.com/topics/what-is-list-in-python/\n",
    "- list() in Python - https://www.scaler.com/topics/python/list-in-python/\n",
    "- Empty List - https://www.scaler.com/topics/empty-list-in-python/\n",
    "- Length of List - https://www.scaler.com/topics/python-length-of-list/\n",
    "- Iterate List in Python - https://www.scaler.com/topics/iterate-list-in-python/\n",
    "- List Methods in Python - https://www.scaler.com/topics/list-methods-in-python/\n",
    "- Linear Search - https://www.scaler.com/topics/data-structures/linear-search-algorithm/\n",
    "- Python List Index Method - https://www.scaler.com/topics/python-list-index-method/\n",
    "- index() in Python - https://www.scaler.com/topics/index-in-python/\n",
    "- How to Find Index of Element in List Python? - https://www.scaler.com/topics/find-index-of-element-in-list-python/"
   ]
  },
  {
   "cell_type": "code",
   "execution_count": null,
   "id": "90cc0ca5",
   "metadata": {},
   "outputs": [],
   "source": []
  },
  {
   "cell_type": "markdown",
   "id": "8a3c5ee5",
   "metadata": {},
   "source": [
    "# Doubts"
   ]
  },
  {
   "cell_type": "code",
   "execution_count": 81,
   "id": "2cd2df72",
   "metadata": {},
   "outputs": [
    {
     "name": "stdout",
     "output_type": "stream",
     "text": [
      "10\n"
     ]
    }
   ],
   "source": [
    "l = [10, 4, 2, 8, 9, 3, 0]\n",
    "print(max(l))"
   ]
  },
  {
   "cell_type": "code",
   "execution_count": null,
   "id": "913345d4",
   "metadata": {},
   "outputs": [],
   "source": []
  },
  {
   "cell_type": "code",
   "execution_count": null,
   "id": "2e4b2cbc",
   "metadata": {},
   "outputs": [],
   "source": [
    "def is_prime(num):\n",
    "    \"\"\"\n",
    "    Checks whether the given num is prime or not.\n",
    "    Returns bool output\n",
    "    \"\"\"\n",
    "    "
   ]
  },
  {
   "cell_type": "code",
   "execution_count": null,
   "id": "2f404eda",
   "metadata": {},
   "outputs": [],
   "source": [
    "l = [13, 17, 18, 19, 21, 27, 29]\n",
    "\n",
    "primes = []\n",
    "\n",
    "for x in l:\n",
    "    if is_prime(x):\n",
    "        primes.append(x)\n",
    "        \n",
    "print(primes)"
   ]
  },
  {
   "cell_type": "code",
   "execution_count": null,
   "id": "14cc0008",
   "metadata": {},
   "outputs": [],
   "source": []
  },
  {
   "cell_type": "code",
   "execution_count": null,
   "id": "ed05244d",
   "metadata": {},
   "outputs": [],
   "source": []
  },
  {
   "cell_type": "code",
   "execution_count": 82,
   "id": "97490ff9",
   "metadata": {},
   "outputs": [
    {
     "name": "stdout",
     "output_type": "stream",
     "text": [
      "4\n",
      "5\n",
      "7\n",
      "5\n",
      "8\n",
      "7\n",
      "[]\n"
     ]
    }
   ],
   "source": [
    "l = [4,5,7,5,8,7]\n",
    "k = []\n",
    "for i in l:\n",
    "    if l[i] % 2 == 0:\n",
    "        k.append(i)\n",
    "        \n",
    "print(k)"
   ]
  },
  {
   "cell_type": "code",
   "execution_count": null,
   "id": "bf5d725a",
   "metadata": {},
   "outputs": [],
   "source": []
  },
  {
   "cell_type": "code",
   "execution_count": null,
   "id": "bf17c73f",
   "metadata": {},
   "outputs": [],
   "source": []
  },
  {
   "cell_type": "code",
   "execution_count": 83,
   "id": "982dd375",
   "metadata": {},
   "outputs": [
    {
     "ename": "TypeError",
     "evalue": "can't multiply sequence by non-int of type 'list'",
     "output_type": "error",
     "traceback": [
      "\u001b[0;31m---------------------------------------------------------------------------\u001b[0m",
      "\u001b[0;31mTypeError\u001b[0m                                 Traceback (most recent call last)",
      "\u001b[0;32m/var/folders/jn/1bsrct314hv5xmfm7vrcdrzc0000gn/T/ipykernel_19183/1224590997.py\u001b[0m in \u001b[0;36m<module>\u001b[0;34m\u001b[0m\n\u001b[1;32m      1\u001b[0m \u001b[0mlist1\u001b[0m \u001b[0;34m=\u001b[0m \u001b[0;34m[\u001b[0m\u001b[0;36m4\u001b[0m\u001b[0;34m,\u001b[0m\u001b[0;36m5\u001b[0m\u001b[0;34m,\u001b[0m\u001b[0;36m6\u001b[0m\u001b[0;34m,\u001b[0m\u001b[0;36m7\u001b[0m\u001b[0;34m,\u001b[0m\u001b[0;36m6\u001b[0m\u001b[0;34m]\u001b[0m\u001b[0;34m\u001b[0m\u001b[0;34m\u001b[0m\u001b[0m\n\u001b[1;32m      2\u001b[0m \u001b[0mlist2\u001b[0m \u001b[0;34m=\u001b[0m \u001b[0;34m[\u001b[0m\u001b[0;36m4\u001b[0m\u001b[0;34m,\u001b[0m\u001b[0;36m5\u001b[0m\u001b[0;34m,\u001b[0m\u001b[0;36m7\u001b[0m\u001b[0;34m,\u001b[0m\u001b[0;36m7\u001b[0m\u001b[0;34m]\u001b[0m\u001b[0;34m\u001b[0m\u001b[0;34m\u001b[0m\u001b[0m\n\u001b[0;32m----> 3\u001b[0;31m \u001b[0mprint\u001b[0m\u001b[0;34m(\u001b[0m\u001b[0mlist1\u001b[0m\u001b[0;34m*\u001b[0m\u001b[0mlist2\u001b[0m\u001b[0;34m)\u001b[0m\u001b[0;34m\u001b[0m\u001b[0;34m\u001b[0m\u001b[0m\n\u001b[0m",
      "\u001b[0;31mTypeError\u001b[0m: can't multiply sequence by non-int of type 'list'"
     ]
    }
   ],
   "source": [
    "list1 = [4,5,6,7,6]\n",
    "list2 = [4,5,7,7]\n",
    "print(list1 * list2)"
   ]
  },
  {
   "cell_type": "code",
   "execution_count": null,
   "id": "73324739",
   "metadata": {},
   "outputs": [],
   "source": []
  },
  {
   "cell_type": "code",
   "execution_count": 84,
   "id": "a5fe4a9d",
   "metadata": {},
   "outputs": [],
   "source": [
    "sum = 0\n",
    "# Don't do this"
   ]
  },
  {
   "cell_type": "code",
   "execution_count": 3,
   "id": "1d98757d",
   "metadata": {},
   "outputs": [
    {
     "name": "stdout",
     "output_type": "stream",
     "text": [
      "15\n"
     ]
    }
   ],
   "source": [
    "print(sum([4, 5, 6]))"
   ]
  },
  {
   "cell_type": "code",
   "execution_count": null,
   "id": "19a0ee08",
   "metadata": {},
   "outputs": [],
   "source": []
  },
  {
   "cell_type": "code",
   "execution_count": 4,
   "id": "afe720c3",
   "metadata": {},
   "outputs": [],
   "source": [
    "# Given a number, count its factors\n",
    "# N can be any positive number\n",
    "# N = 20 => 6 factors (1, 2, 4, 5, 10, 20)\n",
    "# N = 8 => 4 factors (1, 2, 4, 8)"
   ]
  },
  {
   "cell_type": "code",
   "execution_count": null,
   "id": "88b3feee",
   "metadata": {},
   "outputs": [],
   "source": [
    "# Prime number = Exactly 2 factors (1 and itself)"
   ]
  },
  {
   "cell_type": "code",
   "execution_count": null,
   "id": "47a3e372",
   "metadata": {},
   "outputs": [],
   "source": []
  },
  {
   "cell_type": "code",
   "execution_count": null,
   "id": "56c60c70",
   "metadata": {},
   "outputs": [],
   "source": [
    "# Advanced algorithm = Sieve of Eratosthenes\n",
    "# Used to check prime numbers\n",
    "# Advanced batch"
   ]
  },
  {
   "cell_type": "code",
   "execution_count": null,
   "id": "e7d85959",
   "metadata": {},
   "outputs": [],
   "source": []
  }
 ],
 "metadata": {
  "kernelspec": {
   "display_name": "Python 3 (ipykernel)",
   "language": "python",
   "name": "python3"
  },
  "language_info": {
   "codemirror_mode": {
    "name": "ipython",
    "version": 3
   },
   "file_extension": ".py",
   "mimetype": "text/x-python",
   "name": "python",
   "nbconvert_exporter": "python",
   "pygments_lexer": "ipython3",
   "version": "3.9.18"
  }
 },
 "nbformat": 4,
 "nbformat_minor": 5
}
