{
 "cells": [
  {
   "cell_type": "markdown",
   "id": "c2761e11",
   "metadata": {},
   "source": [
    "# Tuples\n",
    "![](https://scaler.com/topics/images/tuples-in-python.webp)"
   ]
  },
  {
   "cell_type": "markdown",
   "id": "e5dcb374",
   "metadata": {},
   "source": [
    "- Tuples are used to hold together multiple objects. Think of them as similar to lists, but without the extensive functionality that the list class gives you.\n",
    "- One major feature of tuples is that they are **immutable** like strings i.e. you cannot modify tuples.\n",
    "- Tuples are defined by specifying items separated by commas within an optional pair of parentheses.\n",
    "- Tuples are usually used in cases where a statement or a user-defined function can safely assume that the collection of values i.e. the tuple of values used will **not change**."
   ]
  },
  {
   "cell_type": "code",
   "execution_count": 1,
   "id": "59496553",
   "metadata": {},
   "outputs": [],
   "source": [
    "# ISRO\n",
    "planets = [\n",
    "    \"Mercury\",\n",
    "    \"Venus\",\n",
    "    \"Earth\",\n",
    "    \"Mars\",\n",
    "    \"Jupiter\",\n",
    "    \"Saturn\",\n",
    "    \"Uranus\",\n",
    "    \"Neptune\",\n",
    "    \"Pluto\"\n",
    "]"
   ]
  },
  {
   "cell_type": "code",
   "execution_count": 2,
   "id": "ab352724",
   "metadata": {},
   "outputs": [
    {
     "name": "stdout",
     "output_type": "stream",
     "text": [
      "['Mercury', 'Venus', 'Earth', 'Mars', 'Jupiter', 'Saturn', 'Uranus', 'Neptune', 'Pluto']\n"
     ]
    }
   ],
   "source": [
    "print(planets)"
   ]
  },
  {
   "cell_type": "code",
   "execution_count": null,
   "id": "11535beb",
   "metadata": {},
   "outputs": [],
   "source": []
  },
  {
   "cell_type": "code",
   "execution_count": 3,
   "id": "148ac5c0",
   "metadata": {},
   "outputs": [
    {
     "name": "stdout",
     "output_type": "stream",
     "text": [
      "['Mercury', 'Venus', 'My planet', 'Mars', 'Jupiter', 'Saturn', 'Uranus', 'Neptune', 'Pluto']\n"
     ]
    }
   ],
   "source": [
    "# Intern at ISRO\n",
    "planets[2] = \"My planet\"\n",
    "print(planets)"
   ]
  },
  {
   "cell_type": "code",
   "execution_count": null,
   "id": "43ca5545",
   "metadata": {},
   "outputs": [],
   "source": []
  },
  {
   "cell_type": "code",
   "execution_count": null,
   "id": "28fcadca",
   "metadata": {},
   "outputs": [],
   "source": [
    "# Mutable - Something that can be changed / modified\n",
    "# Eg - lists\n",
    "\n",
    "# Immutable - Something that cannot be changed / modified\n",
    "# Eg - tuple"
   ]
  },
  {
   "cell_type": "code",
   "execution_count": null,
   "id": "e2366450",
   "metadata": {},
   "outputs": [],
   "source": []
  },
  {
   "cell_type": "code",
   "execution_count": null,
   "id": "879e1d92",
   "metadata": {},
   "outputs": [],
   "source": []
  },
  {
   "cell_type": "code",
   "execution_count": null,
   "id": "58bca5ef",
   "metadata": {},
   "outputs": [],
   "source": []
  },
  {
   "cell_type": "code",
   "execution_count": 4,
   "id": "09b59dc9",
   "metadata": {},
   "outputs": [
    {
     "name": "stdout",
     "output_type": "stream",
     "text": [
      "('Mercury', 'Venus', 'Earth', 'Mars', 'Jupiter', 'Saturn', 'Uranus', 'Neptune', 'Pluto') <class 'tuple'>\n"
     ]
    }
   ],
   "source": [
    "planets = (\n",
    "    \"Mercury\",\n",
    "    \"Venus\",\n",
    "    \"Earth\",\n",
    "    \"Mars\",\n",
    "    \"Jupiter\",\n",
    "    \"Saturn\",\n",
    "    \"Uranus\",\n",
    "    \"Neptune\",\n",
    "    \"Pluto\"\n",
    ")\n",
    "\n",
    "print(planets, type(planets))"
   ]
  },
  {
   "cell_type": "code",
   "execution_count": 5,
   "id": "7cd23a79",
   "metadata": {},
   "outputs": [
    {
     "ename": "TypeError",
     "evalue": "'tuple' object does not support item assignment",
     "output_type": "error",
     "traceback": [
      "\u001b[0;31m---------------------------------------------------------------------------\u001b[0m",
      "\u001b[0;31mTypeError\u001b[0m                                 Traceback (most recent call last)",
      "\u001b[0;32m/var/folders/jn/1bsrct314hv5xmfm7vrcdrzc0000gn/T/ipykernel_5576/3441700102.py\u001b[0m in \u001b[0;36m<module>\u001b[0;34m\u001b[0m\n\u001b[1;32m      1\u001b[0m \u001b[0;31m# Intern at ISRO\u001b[0m\u001b[0;34m\u001b[0m\u001b[0;34m\u001b[0m\u001b[0m\n\u001b[0;32m----> 2\u001b[0;31m \u001b[0mplanets\u001b[0m\u001b[0;34m[\u001b[0m\u001b[0;36m2\u001b[0m\u001b[0;34m]\u001b[0m \u001b[0;34m=\u001b[0m \u001b[0;34m\"My planet\"\u001b[0m\u001b[0;34m\u001b[0m\u001b[0;34m\u001b[0m\u001b[0m\n\u001b[0m\u001b[1;32m      3\u001b[0m \u001b[0mprint\u001b[0m\u001b[0;34m(\u001b[0m\u001b[0mplanets\u001b[0m\u001b[0;34m)\u001b[0m\u001b[0;34m\u001b[0m\u001b[0;34m\u001b[0m\u001b[0m\n",
      "\u001b[0;31mTypeError\u001b[0m: 'tuple' object does not support item assignment"
     ]
    }
   ],
   "source": [
    "# Intern at ISRO\n",
    "planets[2] = \"My planet\"\n",
    "print(planets)"
   ]
  },
  {
   "cell_type": "code",
   "execution_count": null,
   "id": "c3a6dfe6",
   "metadata": {},
   "outputs": [],
   "source": [
    "# Reading data is allowed"
   ]
  },
  {
   "cell_type": "code",
   "execution_count": 6,
   "id": "9fbc1b56",
   "metadata": {},
   "outputs": [
    {
     "name": "stdout",
     "output_type": "stream",
     "text": [
      "Earth\n"
     ]
    }
   ],
   "source": [
    "print(planets[2])"
   ]
  },
  {
   "cell_type": "code",
   "execution_count": 7,
   "id": "7efa1fd6",
   "metadata": {},
   "outputs": [
    {
     "name": "stdout",
     "output_type": "stream",
     "text": [
      "Pluto\n"
     ]
    }
   ],
   "source": [
    "print(planets[-1])"
   ]
  },
  {
   "cell_type": "code",
   "execution_count": 8,
   "id": "7a5b5fd7",
   "metadata": {},
   "outputs": [
    {
     "ename": "TypeError",
     "evalue": "'tuple' object is not callable",
     "output_type": "error",
     "traceback": [
      "\u001b[0;31m---------------------------------------------------------------------------\u001b[0m",
      "\u001b[0;31mTypeError\u001b[0m                                 Traceback (most recent call last)",
      "\u001b[0;32m/var/folders/jn/1bsrct314hv5xmfm7vrcdrzc0000gn/T/ipykernel_5576/507704490.py\u001b[0m in \u001b[0;36m<module>\u001b[0;34m\u001b[0m\n\u001b[0;32m----> 1\u001b[0;31m \u001b[0mprint\u001b[0m\u001b[0;34m(\u001b[0m\u001b[0mplanets\u001b[0m\u001b[0;34m(\u001b[0m\u001b[0;36m2\u001b[0m\u001b[0;34m)\u001b[0m\u001b[0;34m)\u001b[0m\u001b[0;34m\u001b[0m\u001b[0;34m\u001b[0m\u001b[0m\n\u001b[0m",
      "\u001b[0;31mTypeError\u001b[0m: 'tuple' object is not callable"
     ]
    }
   ],
   "source": [
    "print(planets(2))"
   ]
  },
  {
   "cell_type": "code",
   "execution_count": null,
   "id": "efededf4",
   "metadata": {},
   "outputs": [],
   "source": []
  },
  {
   "cell_type": "code",
   "execution_count": null,
   "id": "1e88027f",
   "metadata": {},
   "outputs": [],
   "source": []
  },
  {
   "cell_type": "markdown",
   "id": "d4b3dfb6",
   "metadata": {},
   "source": [
    "### Important Tuple methods\n",
    "- index()\n",
    "- count()\n",
    "- slicing"
   ]
  },
  {
   "cell_type": "code",
   "execution_count": 9,
   "id": "c970789a",
   "metadata": {},
   "outputs": [
    {
     "name": "stdout",
     "output_type": "stream",
     "text": [
      "(2, 3, 'hello', [5, 10], (9, 0.5, 'ok'), True)\n"
     ]
    }
   ],
   "source": [
    "t = (2, 3, 'hello', [5, 10], (9, 0.5, 'ok'), True)\n",
    "print(t)"
   ]
  },
  {
   "cell_type": "code",
   "execution_count": null,
   "id": "07a275c8",
   "metadata": {},
   "outputs": [],
   "source": []
  },
  {
   "cell_type": "code",
   "execution_count": 10,
   "id": "11add52e",
   "metadata": {},
   "outputs": [
    {
     "name": "stdout",
     "output_type": "stream",
     "text": [
      "1\n"
     ]
    }
   ],
   "source": [
    "# Find the index of 3 in the tuple\n",
    "print(t.index(3))"
   ]
  },
  {
   "cell_type": "code",
   "execution_count": null,
   "id": "0684f309",
   "metadata": {},
   "outputs": [],
   "source": []
  },
  {
   "cell_type": "code",
   "execution_count": null,
   "id": "ef7871b4",
   "metadata": {},
   "outputs": [],
   "source": []
  },
  {
   "cell_type": "code",
   "execution_count": 11,
   "id": "3a916154",
   "metadata": {},
   "outputs": [],
   "source": [
    "t = (2, 2, 5, 6, 2, 5, 3, 9)"
   ]
  },
  {
   "cell_type": "code",
   "execution_count": 12,
   "id": "a99b78f7",
   "metadata": {},
   "outputs": [
    {
     "name": "stdout",
     "output_type": "stream",
     "text": [
      "3\n"
     ]
    }
   ],
   "source": [
    "# Count occurences of 2\n",
    "print(t.count(2))"
   ]
  },
  {
   "cell_type": "code",
   "execution_count": 13,
   "id": "a29fc4c1",
   "metadata": {},
   "outputs": [
    {
     "name": "stdout",
     "output_type": "stream",
     "text": [
      "2\n"
     ]
    }
   ],
   "source": [
    "print(t.count(5))"
   ]
  },
  {
   "cell_type": "code",
   "execution_count": null,
   "id": "f112f0e8",
   "metadata": {},
   "outputs": [],
   "source": []
  },
  {
   "cell_type": "code",
   "execution_count": 14,
   "id": "52d5182d",
   "metadata": {},
   "outputs": [],
   "source": [
    "# Tuple Slicing\n",
    "# Takes a portion of your tuple and returns a new tuple"
   ]
  },
  {
   "cell_type": "code",
   "execution_count": 16,
   "id": "d2c53caf",
   "metadata": {},
   "outputs": [
    {
     "name": "stdout",
     "output_type": "stream",
     "text": [
      "(30, 40, 50, 60)\n"
     ]
    }
   ],
   "source": [
    "t = (10, 20, 30, 40, 50, 60)\n",
    "print(t[2:])\n",
    "# new tuple"
   ]
  },
  {
   "cell_type": "code",
   "execution_count": 17,
   "id": "00fefd60",
   "metadata": {},
   "outputs": [
    {
     "name": "stdout",
     "output_type": "stream",
     "text": [
      "(10, 20, 30, 40, 50, 60)\n"
     ]
    }
   ],
   "source": [
    "print(t)"
   ]
  },
  {
   "cell_type": "code",
   "execution_count": 18,
   "id": "2ab23aec",
   "metadata": {},
   "outputs": [
    {
     "name": "stdout",
     "output_type": "stream",
     "text": [
      "(60, 50, 40, 30, 20, 10)\n"
     ]
    }
   ],
   "source": [
    "print(t[::-1])"
   ]
  },
  {
   "cell_type": "code",
   "execution_count": null,
   "id": "93fa28d9",
   "metadata": {},
   "outputs": [],
   "source": []
  },
  {
   "cell_type": "code",
   "execution_count": null,
   "id": "f8e553b2",
   "metadata": {},
   "outputs": [],
   "source": []
  },
  {
   "cell_type": "code",
   "execution_count": null,
   "id": "c83ce50d",
   "metadata": {},
   "outputs": [],
   "source": []
  },
  {
   "cell_type": "markdown",
   "id": "28afc4e4",
   "metadata": {},
   "source": [
    "### How to create a tuple\n",
    "1. Using round brackets\n",
    "2. Using tuple()\n",
    "3. Using comma separated values"
   ]
  },
  {
   "cell_type": "code",
   "execution_count": 19,
   "id": "101116c5",
   "metadata": {},
   "outputs": [
    {
     "name": "stdout",
     "output_type": "stream",
     "text": [
      "(10, 20, 30)\n"
     ]
    }
   ],
   "source": [
    "t = (10, 20, 30)\n",
    "print(t)"
   ]
  },
  {
   "cell_type": "code",
   "execution_count": null,
   "id": "5c474bd5",
   "metadata": {},
   "outputs": [],
   "source": []
  },
  {
   "cell_type": "code",
   "execution_count": 20,
   "id": "62c8d515",
   "metadata": {},
   "outputs": [
    {
     "name": "stdout",
     "output_type": "stream",
     "text": [
      "10 <class 'int'>\n"
     ]
    }
   ],
   "source": [
    "# Only one single value inside the round brackets is not considered a tuple\n",
    "t = (10) # t = 10\n",
    "print(t, type(t))"
   ]
  },
  {
   "cell_type": "code",
   "execution_count": 21,
   "id": "5edae37e",
   "metadata": {},
   "outputs": [
    {
     "name": "stdout",
     "output_type": "stream",
     "text": [
      "(10,) <class 'tuple'>\n"
     ]
    }
   ],
   "source": [
    "# If you want to create a tuple of one item, put a traling comma at the end\n",
    "t = (10,)\n",
    "print(t, type(t))"
   ]
  },
  {
   "cell_type": "code",
   "execution_count": null,
   "id": "eeab636e",
   "metadata": {},
   "outputs": [],
   "source": []
  },
  {
   "cell_type": "code",
   "execution_count": 22,
   "id": "358325b4",
   "metadata": {},
   "outputs": [
    {
     "name": "stdout",
     "output_type": "stream",
     "text": [
      "(10, 20)\n"
     ]
    }
   ],
   "source": [
    "t = (10, 20,)\n",
    "print(t)"
   ]
  },
  {
   "cell_type": "code",
   "execution_count": null,
   "id": "ff1ca1f0",
   "metadata": {},
   "outputs": [],
   "source": []
  },
  {
   "cell_type": "code",
   "execution_count": 24,
   "id": "e9257040",
   "metadata": {},
   "outputs": [
    {
     "name": "stdout",
     "output_type": "stream",
     "text": [
      "() <class 'tuple'>\n"
     ]
    }
   ],
   "source": [
    "t = ()\n",
    "print(t, type(t))"
   ]
  },
  {
   "cell_type": "code",
   "execution_count": null,
   "id": "7921333d",
   "metadata": {},
   "outputs": [],
   "source": []
  },
  {
   "cell_type": "code",
   "execution_count": 23,
   "id": "069eb7b8",
   "metadata": {},
   "outputs": [
    {
     "name": "stdout",
     "output_type": "stream",
     "text": [
      "() <class 'tuple'>\n"
     ]
    }
   ],
   "source": [
    "# Empty tuple\n",
    "t = tuple()\n",
    "print(t, type(t))"
   ]
  },
  {
   "cell_type": "code",
   "execution_count": 26,
   "id": "e05cb589",
   "metadata": {},
   "outputs": [
    {
     "name": "stdout",
     "output_type": "stream",
     "text": [
      "('Hello', 'How', 'Are', 'You') <class 'tuple'>\n"
     ]
    }
   ],
   "source": [
    "l = [\"Hello\", \"How\", \"Are\", \"You\"]\n",
    "t = tuple(l)\n",
    "print(t, type(t))"
   ]
  },
  {
   "cell_type": "code",
   "execution_count": 27,
   "id": "d380fecb",
   "metadata": {},
   "outputs": [
    {
     "name": "stdout",
     "output_type": "stream",
     "text": [
      "['Hello', 'How', 'Are', 'You']\n"
     ]
    }
   ],
   "source": [
    "print(l)"
   ]
  },
  {
   "cell_type": "code",
   "execution_count": null,
   "id": "b1607327",
   "metadata": {},
   "outputs": [],
   "source": []
  },
  {
   "cell_type": "code",
   "execution_count": 28,
   "id": "93e39d6e",
   "metadata": {},
   "outputs": [
    {
     "name": "stdout",
     "output_type": "stream",
     "text": [
      "('a', 'b', 'c', 'd')\n"
     ]
    }
   ],
   "source": [
    "t = tuple(\"abcd\")\n",
    "print(t)"
   ]
  },
  {
   "cell_type": "code",
   "execution_count": null,
   "id": "bdeb712f",
   "metadata": {},
   "outputs": [],
   "source": []
  },
  {
   "cell_type": "code",
   "execution_count": 29,
   "id": "e7efc081",
   "metadata": {},
   "outputs": [
    {
     "name": "stdout",
     "output_type": "stream",
     "text": [
      "(10, 20, 30) <class 'tuple'>\n"
     ]
    }
   ],
   "source": [
    "t = 10, 20, 30\n",
    "print(t, type(t))"
   ]
  },
  {
   "cell_type": "code",
   "execution_count": null,
   "id": "fb159ed1",
   "metadata": {},
   "outputs": [],
   "source": []
  },
  {
   "cell_type": "code",
   "execution_count": 30,
   "id": "e15decda",
   "metadata": {},
   "outputs": [
    {
     "name": "stdout",
     "output_type": "stream",
     "text": [
      "(10,) <class 'tuple'>\n"
     ]
    }
   ],
   "source": [
    "# Single element tuple\n",
    "t = 10,\n",
    "print(t, type(t))"
   ]
  },
  {
   "cell_type": "code",
   "execution_count": 31,
   "id": "947e69de",
   "metadata": {},
   "outputs": [
    {
     "name": "stdout",
     "output_type": "stream",
     "text": [
      "10 <class 'int'>\n"
     ]
    }
   ],
   "source": [
    "# int\n",
    "t = 10\n",
    "print(t, type(t))"
   ]
  },
  {
   "cell_type": "code",
   "execution_count": null,
   "id": "91e61370",
   "metadata": {},
   "outputs": [],
   "source": []
  },
  {
   "cell_type": "code",
   "execution_count": null,
   "id": "84f7d8c6",
   "metadata": {},
   "outputs": [],
   "source": []
  },
  {
   "cell_type": "markdown",
   "id": "413ccb1e",
   "metadata": {},
   "source": [
    "#### Quiz 1\n",
    "```py\n",
    "t = (\"Sahil\")\n",
    "type(t)\n",
    "```"
   ]
  },
  {
   "cell_type": "code",
   "execution_count": 32,
   "id": "cc9742ba",
   "metadata": {},
   "outputs": [
    {
     "name": "stdout",
     "output_type": "stream",
     "text": [
      "<class 'str'>\n"
     ]
    }
   ],
   "source": [
    "t = (\"Sahil\") # t = \"Sahil\"\n",
    "print(type(t))"
   ]
  },
  {
   "cell_type": "code",
   "execution_count": 33,
   "id": "ec2b0017",
   "metadata": {},
   "outputs": [
    {
     "name": "stdout",
     "output_type": "stream",
     "text": [
      "<class 'tuple'>\n"
     ]
    }
   ],
   "source": [
    "t = (\"Sahil\",)\n",
    "print(type(t))"
   ]
  },
  {
   "cell_type": "code",
   "execution_count": null,
   "id": "859066bb",
   "metadata": {},
   "outputs": [],
   "source": []
  },
  {
   "cell_type": "code",
   "execution_count": null,
   "id": "ede6e8b5",
   "metadata": {},
   "outputs": [],
   "source": []
  },
  {
   "cell_type": "code",
   "execution_count": null,
   "id": "f25b039c",
   "metadata": {},
   "outputs": [],
   "source": []
  },
  {
   "cell_type": "markdown",
   "id": "52d9719a",
   "metadata": {},
   "source": [
    "#### Quiz 2\n",
    "What is the output of the following?\n",
    "\n",
    "```py\n",
    "print(type((1,2,3)))\n",
    "```"
   ]
  },
  {
   "cell_type": "code",
   "execution_count": 34,
   "id": "28c7a4bc",
   "metadata": {},
   "outputs": [
    {
     "name": "stdout",
     "output_type": "stream",
     "text": [
      "<class 'tuple'>\n"
     ]
    }
   ],
   "source": [
    "print(type((1,2,3)))"
   ]
  },
  {
   "cell_type": "code",
   "execution_count": 35,
   "id": "cc4aa9c7",
   "metadata": {},
   "outputs": [
    {
     "name": "stdout",
     "output_type": "stream",
     "text": [
      "<class 'tuple'>\n"
     ]
    }
   ],
   "source": [
    "t = (1,2,3)\n",
    "print(type(t))"
   ]
  },
  {
   "cell_type": "code",
   "execution_count": null,
   "id": "f95e0555",
   "metadata": {},
   "outputs": [],
   "source": []
  },
  {
   "cell_type": "code",
   "execution_count": null,
   "id": "73d008fc",
   "metadata": {},
   "outputs": [],
   "source": []
  },
  {
   "cell_type": "markdown",
   "id": "9b099a07",
   "metadata": {},
   "source": [
    "#### Quiz 3\n",
    "```py\n",
    "T1 = (1) \n",
    "T2 = (3, 4) \n",
    "T1 += 5\n",
    "print(T1)\n",
    "```"
   ]
  },
  {
   "cell_type": "code",
   "execution_count": 36,
   "id": "bbb9327e",
   "metadata": {},
   "outputs": [
    {
     "name": "stdout",
     "output_type": "stream",
     "text": [
      "6\n"
     ]
    }
   ],
   "source": [
    "T1 = (1) \n",
    "T2 = (3, 4) # useless statement\n",
    "T1 += 5\n",
    "print(T1)"
   ]
  },
  {
   "cell_type": "code",
   "execution_count": null,
   "id": "8256e85f",
   "metadata": {},
   "outputs": [],
   "source": [
    "# T1 = 1\n",
    "# T1 += 5\n",
    "# T1 = 6"
   ]
  },
  {
   "cell_type": "code",
   "execution_count": null,
   "id": "773aa99f",
   "metadata": {},
   "outputs": [],
   "source": []
  },
  {
   "cell_type": "code",
   "execution_count": null,
   "id": "cc8c1a6d",
   "metadata": {},
   "outputs": [],
   "source": []
  },
  {
   "cell_type": "markdown",
   "id": "5fa7a18d",
   "metadata": {},
   "source": [
    "#### Quiz 4\n",
    "```py\n",
    "t=tuple(range(1, 10, 2))\n",
    "print(t)\n",
    "```"
   ]
  },
  {
   "cell_type": "code",
   "execution_count": 37,
   "id": "571ea642",
   "metadata": {},
   "outputs": [
    {
     "name": "stdout",
     "output_type": "stream",
     "text": [
      "(1, 3, 5, 7, 9)\n"
     ]
    }
   ],
   "source": [
    "t = tuple(range(1, 10, 2))\n",
    "print(t)"
   ]
  },
  {
   "cell_type": "code",
   "execution_count": null,
   "id": "bcf57b50",
   "metadata": {},
   "outputs": [],
   "source": []
  },
  {
   "cell_type": "code",
   "execution_count": null,
   "id": "8f0e2db9",
   "metadata": {},
   "outputs": [],
   "source": []
  },
  {
   "cell_type": "markdown",
   "id": "b2700d90",
   "metadata": {},
   "source": [
    "#### Quiz 5\n",
    "What is the result of the following expression?\n",
    "\n",
    "```py\n",
    "tuple('hello world')\n",
    "```"
   ]
  },
  {
   "cell_type": "code",
   "execution_count": 38,
   "id": "95c237c5",
   "metadata": {},
   "outputs": [
    {
     "name": "stdout",
     "output_type": "stream",
     "text": [
      "('h', 'e', 'l', 'l', 'o', ' ', 'w', 'o', 'r', 'l', 'd')\n"
     ]
    }
   ],
   "source": [
    "print(tuple('hello world'))"
   ]
  },
  {
   "cell_type": "code",
   "execution_count": null,
   "id": "976f05e5",
   "metadata": {},
   "outputs": [],
   "source": []
  },
  {
   "cell_type": "code",
   "execution_count": 39,
   "id": "39b69c93",
   "metadata": {},
   "outputs": [
    {
     "name": "stdout",
     "output_type": "stream",
     "text": [
      "['h', 'e', 'l', 'l', 'o', ' ', 'w', 'o', 'r', 'l', 'd']\n"
     ]
    }
   ],
   "source": [
    "print(list('hello world'))"
   ]
  },
  {
   "cell_type": "code",
   "execution_count": null,
   "id": "c15712ca",
   "metadata": {},
   "outputs": [],
   "source": []
  },
  {
   "cell_type": "code",
   "execution_count": null,
   "id": "92db0658",
   "metadata": {},
   "outputs": [],
   "source": []
  },
  {
   "cell_type": "markdown",
   "id": "b3875ed8",
   "metadata": {},
   "source": [
    "#### Quiz 6\n",
    "```py\n",
    "t = (3, 4, 6, 7, 3)\n",
    "print(t[::2])\n",
    "```"
   ]
  },
  {
   "cell_type": "code",
   "execution_count": 40,
   "id": "5922ff31",
   "metadata": {},
   "outputs": [
    {
     "name": "stdout",
     "output_type": "stream",
     "text": [
      "(3, 6, 3)\n"
     ]
    }
   ],
   "source": [
    "t = (3, 4, 6, 7, 3)\n",
    "print(t[::2])"
   ]
  },
  {
   "cell_type": "code",
   "execution_count": null,
   "id": "4c73653e",
   "metadata": {},
   "outputs": [],
   "source": []
  },
  {
   "cell_type": "code",
   "execution_count": 43,
   "id": "afe34d4b",
   "metadata": {},
   "outputs": [
    {
     "name": "stdout",
     "output_type": "stream",
     "text": [
      "('hi',)\n",
      "('h', 'i')\n",
      "hi <class 'str'>\n"
     ]
    }
   ],
   "source": [
    "t= (\"hi\",) # (\"hi\",) - tuple of one item - \"hi\"\n",
    "print(t)\n",
    "\n",
    "t1=tuple(\"hi\") # - tuple of two items - 'h', 'i'\n",
    "print(t1)\n",
    "\n",
    "t2 = (\"hi\") # string 'hi'\n",
    "print(t2, type(t2))"
   ]
  },
  {
   "cell_type": "code",
   "execution_count": null,
   "id": "aa4543d6",
   "metadata": {},
   "outputs": [],
   "source": []
  },
  {
   "cell_type": "code",
   "execution_count": 44,
   "id": "ad30ae53",
   "metadata": {},
   "outputs": [
    {
     "name": "stdout",
     "output_type": "stream",
     "text": [
      "('h', 'i')\n"
     ]
    }
   ],
   "source": [
    "t = tuple(str(\"hi\"))\n",
    "print(t)"
   ]
  },
  {
   "cell_type": "code",
   "execution_count": null,
   "id": "de7fc46b",
   "metadata": {},
   "outputs": [],
   "source": []
  },
  {
   "cell_type": "code",
   "execution_count": null,
   "id": "bb6b3a24",
   "metadata": {},
   "outputs": [],
   "source": []
  },
  {
   "cell_type": "markdown",
   "id": "71ec8954",
   "metadata": {},
   "source": [
    "### Tuples vs Lists\n",
    "\n",
    "- Performance (Speed and memory) : Tuples tend to be much faster than lists\n",
    "- Functionality : If you expect any changes to the data, then go with lists. If you are not sure about the changes, go with lists to be safe."
   ]
  },
  {
   "cell_type": "code",
   "execution_count": null,
   "id": "1ab2c8be",
   "metadata": {},
   "outputs": [],
   "source": []
  },
  {
   "cell_type": "code",
   "execution_count": 46,
   "id": "955a12dd",
   "metadata": {},
   "outputs": [
    {
     "name": "stdout",
     "output_type": "stream",
     "text": [
      "10 (1, 2, 3, 4)\n"
     ]
    }
   ],
   "source": [
    "t = (1, 2, 3, 4)\n",
    "t2 = t\n",
    "t = 10\n",
    "print(t, t2)"
   ]
  },
  {
   "cell_type": "code",
   "execution_count": null,
   "id": "054538f4",
   "metadata": {},
   "outputs": [],
   "source": []
  },
  {
   "cell_type": "code",
   "execution_count": 48,
   "id": "6877f919",
   "metadata": {},
   "outputs": [
    {
     "name": "stdout",
     "output_type": "stream",
     "text": [
      "(1, 2, 3, 4, 5, 6)\n"
     ]
    }
   ],
   "source": [
    "t = (1, 2, 3)\n",
    "t2 = (4, 5, 6)\n",
    "\n",
    "t = t + t2\n",
    "print(t)"
   ]
  },
  {
   "cell_type": "code",
   "execution_count": null,
   "id": "10c784c5",
   "metadata": {},
   "outputs": [],
   "source": []
  },
  {
   "cell_type": "code",
   "execution_count": null,
   "id": "e37d835f",
   "metadata": {},
   "outputs": [],
   "source": []
  },
  {
   "cell_type": "code",
   "execution_count": null,
   "id": "df1022d3",
   "metadata": {},
   "outputs": [],
   "source": []
  },
  {
   "cell_type": "markdown",
   "id": "f9835e66",
   "metadata": {},
   "source": [
    "## Bonus Reading Material for Tuples\n",
    "- Data Structures in Python - https://www.scaler.com/topics/data-structures-in-python/\n",
    "- Tuples in Python - https://www.scaler.com/topics/python/tuples-in-python/\n",
    "- What is the Difference Between List and Tuple in Python? - https://www.scaler.com/topics/difference-between-list-and-tuple-in-python/\n",
    "- Convert List to Tuple in Python - https://www.scaler.com/topics/convert-list-to-tuple-python/\n",
    "- WtfPython: Mutating the immutable! - https://github.com/satwikkansal/wtfpython#-mutating-the-immutable\n",
    "- WtfPython: Needles in a Haystack - https://github.com/satwikkansal/wtfpython#-needles-in-a-haystack-"
   ]
  },
  {
   "cell_type": "code",
   "execution_count": null,
   "id": "a3dc7830",
   "metadata": {},
   "outputs": [],
   "source": []
  },
  {
   "cell_type": "code",
   "execution_count": null,
   "id": "43f998a9",
   "metadata": {},
   "outputs": [],
   "source": []
  },
  {
   "cell_type": "code",
   "execution_count": null,
   "id": "3e270127",
   "metadata": {},
   "outputs": [],
   "source": []
  },
  {
   "cell_type": "markdown",
   "id": "338493e3",
   "metadata": {},
   "source": [
    "# Strings\n",
    "![](https://scaler.com/topics/images/characters-of-a-string-in-python-1024x483.webp)"
   ]
  },
  {
   "cell_type": "code",
   "execution_count": 49,
   "id": "5dbbe9d3",
   "metadata": {},
   "outputs": [
    {
     "name": "stdout",
     "output_type": "stream",
     "text": [
      "hello world <class 'str'>\n"
     ]
    }
   ],
   "source": [
    "s = \"hello world\"\n",
    "print(s, type(s))"
   ]
  },
  {
   "cell_type": "code",
   "execution_count": 50,
   "id": "1b0f36ed",
   "metadata": {},
   "outputs": [
    {
     "name": "stdout",
     "output_type": "stream",
     "text": [
      "welcome how are you <class 'str'>\n"
     ]
    }
   ],
   "source": [
    "t = 'welcome how are you'\n",
    "print(t, type(t))"
   ]
  },
  {
   "cell_type": "code",
   "execution_count": null,
   "id": "b19cd72a",
   "metadata": {},
   "outputs": [],
   "source": []
  },
  {
   "cell_type": "code",
   "execution_count": null,
   "id": "da495a3c",
   "metadata": {},
   "outputs": [],
   "source": []
  },
  {
   "cell_type": "code",
   "execution_count": null,
   "id": "a6b96121",
   "metadata": {},
   "outputs": [],
   "source": []
  },
  {
   "cell_type": "markdown",
   "id": "75e5f2d9",
   "metadata": {},
   "source": [
    "### Multiline String\n",
    "![](https://scaler.com/topics/images/python-multiline-string.webp)"
   ]
  },
  {
   "cell_type": "code",
   "execution_count": 51,
   "id": "879e75dd",
   "metadata": {},
   "outputs": [
    {
     "name": "stdout",
     "output_type": "stream",
     "text": [
      "\n",
      "This is \n",
      "a very\n",
      "paragraph\n",
      " <class 'str'>\n"
     ]
    }
   ],
   "source": [
    "# Triple quotes\n",
    "s = '''\n",
    "This is \n",
    "a very\n",
    "paragraph\n",
    "'''\n",
    "print(s, type(s))"
   ]
  },
  {
   "cell_type": "code",
   "execution_count": null,
   "id": "bf796e39",
   "metadata": {},
   "outputs": [],
   "source": []
  },
  {
   "cell_type": "code",
   "execution_count": null,
   "id": "0f6c1d47",
   "metadata": {},
   "outputs": [],
   "source": []
  },
  {
   "cell_type": "code",
   "execution_count": null,
   "id": "2377899b",
   "metadata": {},
   "outputs": [],
   "source": []
  },
  {
   "cell_type": "markdown",
   "id": "6bf7fe57",
   "metadata": {},
   "source": [
    "### Length\n",
    "<img src=\"https://scaler.com/topics/images/length-of-an-array-in-c_thumbnail.webp\" width=\"350px\" />"
   ]
  },
  {
   "cell_type": "code",
   "execution_count": 52,
   "id": "8dee275d",
   "metadata": {},
   "outputs": [
    {
     "name": "stdout",
     "output_type": "stream",
     "text": [
      "11\n"
     ]
    }
   ],
   "source": [
    "s = \"hello world\"\n",
    "print(len(s))"
   ]
  },
  {
   "cell_type": "code",
   "execution_count": 53,
   "id": "b3025937",
   "metadata": {},
   "outputs": [
    {
     "name": "stdout",
     "output_type": "stream",
     "text": [
      "3\n"
     ]
    }
   ],
   "source": [
    "s = \"   \"\n",
    "print(len(s))"
   ]
  },
  {
   "cell_type": "code",
   "execution_count": null,
   "id": "26f0f3ce",
   "metadata": {},
   "outputs": [],
   "source": []
  },
  {
   "cell_type": "markdown",
   "id": "4f68d9b8",
   "metadata": {},
   "source": [
    "### Indexing"
   ]
  },
  {
   "cell_type": "code",
   "execution_count": 54,
   "id": "e3cd9d54",
   "metadata": {},
   "outputs": [
    {
     "name": "stdout",
     "output_type": "stream",
     "text": [
      "b\n"
     ]
    }
   ],
   "source": [
    "s = \"abcdef\"\n",
    "print(s[1])"
   ]
  },
  {
   "cell_type": "code",
   "execution_count": 55,
   "id": "87ff41e0",
   "metadata": {},
   "outputs": [
    {
     "name": "stdout",
     "output_type": "stream",
     "text": [
      "f\n"
     ]
    }
   ],
   "source": [
    "print(s[-1])"
   ]
  },
  {
   "cell_type": "code",
   "execution_count": 57,
   "id": "b5e7aa9d",
   "metadata": {},
   "outputs": [
    {
     "name": "stdout",
     "output_type": "stream",
     "text": [
      " \n",
      "7\n"
     ]
    }
   ],
   "source": [
    "s = \"a  bc%+\" # 2 spaces in between\n",
    "print(s[2]) # space\n",
    "print(len(s))"
   ]
  },
  {
   "cell_type": "code",
   "execution_count": null,
   "id": "9e5b4419",
   "metadata": {},
   "outputs": [],
   "source": []
  },
  {
   "cell_type": "code",
   "execution_count": 58,
   "id": "6afaa183",
   "metadata": {},
   "outputs": [
    {
     "ename": "IndexError",
     "evalue": "string index out of range",
     "output_type": "error",
     "traceback": [
      "\u001b[0;31m---------------------------------------------------------------------------\u001b[0m",
      "\u001b[0;31mIndexError\u001b[0m                                Traceback (most recent call last)",
      "\u001b[0;32m/var/folders/jn/1bsrct314hv5xmfm7vrcdrzc0000gn/T/ipykernel_5576/2005928563.py\u001b[0m in \u001b[0;36m<module>\u001b[0;34m\u001b[0m\n\u001b[1;32m      1\u001b[0m \u001b[0ms\u001b[0m \u001b[0;34m=\u001b[0m \u001b[0;34m\"abcd\"\u001b[0m\u001b[0;34m\u001b[0m\u001b[0;34m\u001b[0m\u001b[0m\n\u001b[0;32m----> 2\u001b[0;31m \u001b[0mprint\u001b[0m\u001b[0;34m(\u001b[0m\u001b[0ms\u001b[0m\u001b[0;34m[\u001b[0m\u001b[0;36m10\u001b[0m\u001b[0;34m]\u001b[0m\u001b[0;34m)\u001b[0m\u001b[0;34m\u001b[0m\u001b[0;34m\u001b[0m\u001b[0m\n\u001b[0m",
      "\u001b[0;31mIndexError\u001b[0m: string index out of range"
     ]
    }
   ],
   "source": [
    "s = \"abcd\"\n",
    "print(s[10])"
   ]
  },
  {
   "cell_type": "code",
   "execution_count": null,
   "id": "85707503",
   "metadata": {},
   "outputs": [],
   "source": []
  },
  {
   "cell_type": "code",
   "execution_count": null,
   "id": "e1dfd79a",
   "metadata": {},
   "outputs": [],
   "source": []
  },
  {
   "cell_type": "markdown",
   "id": "b6dc87b0",
   "metadata": {},
   "source": [
    "#### Quiz 7\n",
    "Which of the following is a valid string?  \n",
    "a) \"Rahul#'  \n",
    "b) \"@rahul\"  \n",
    "c) 'Tuna123\""
   ]
  },
  {
   "cell_type": "code",
   "execution_count": 59,
   "id": "2fc53549",
   "metadata": {},
   "outputs": [
    {
     "ename": "SyntaxError",
     "evalue": "EOL while scanning string literal (4048244430.py, line 1)",
     "output_type": "error",
     "traceback": [
      "\u001b[0;36m  File \u001b[0;32m\"/var/folders/jn/1bsrct314hv5xmfm7vrcdrzc0000gn/T/ipykernel_5576/4048244430.py\"\u001b[0;36m, line \u001b[0;32m1\u001b[0m\n\u001b[0;31m    a = \"Rahul#'\u001b[0m\n\u001b[0m                ^\u001b[0m\n\u001b[0;31mSyntaxError\u001b[0m\u001b[0;31m:\u001b[0m EOL while scanning string literal\n"
     ]
    }
   ],
   "source": [
    "a = \"Rahul#'"
   ]
  },
  {
   "cell_type": "code",
   "execution_count": 60,
   "id": "2375ac4a",
   "metadata": {},
   "outputs": [],
   "source": [
    "b = \"@rahul\""
   ]
  },
  {
   "cell_type": "code",
   "execution_count": 61,
   "id": "b3c61c06",
   "metadata": {},
   "outputs": [
    {
     "ename": "SyntaxError",
     "evalue": "EOL while scanning string literal (1677780572.py, line 1)",
     "output_type": "error",
     "traceback": [
      "\u001b[0;36m  File \u001b[0;32m\"/var/folders/jn/1bsrct314hv5xmfm7vrcdrzc0000gn/T/ipykernel_5576/1677780572.py\"\u001b[0;36m, line \u001b[0;32m1\u001b[0m\n\u001b[0;31m    c = 'Tuna123\"\u001b[0m\n\u001b[0m                 ^\u001b[0m\n\u001b[0;31mSyntaxError\u001b[0m\u001b[0;31m:\u001b[0m EOL while scanning string literal\n"
     ]
    }
   ],
   "source": [
    "c = 'Tuna123\""
   ]
  },
  {
   "cell_type": "code",
   "execution_count": null,
   "id": "8827b43c",
   "metadata": {},
   "outputs": [],
   "source": []
  },
  {
   "cell_type": "code",
   "execution_count": null,
   "id": "6b41f560",
   "metadata": {},
   "outputs": [],
   "source": []
  },
  {
   "cell_type": "markdown",
   "id": "241cc719",
   "metadata": {},
   "source": [
    "#### Quiz 8\n",
    "```py\n",
    "print(100 == \"100\")\n",
    "```"
   ]
  },
  {
   "cell_type": "code",
   "execution_count": 62,
   "id": "17837fc0",
   "metadata": {},
   "outputs": [
    {
     "name": "stdout",
     "output_type": "stream",
     "text": [
      "False\n"
     ]
    }
   ],
   "source": [
    "print(100 == \"100\")"
   ]
  },
  {
   "cell_type": "code",
   "execution_count": null,
   "id": "1bda6d62",
   "metadata": {},
   "outputs": [],
   "source": [
    "# int == str"
   ]
  },
  {
   "cell_type": "code",
   "execution_count": null,
   "id": "42c4a6d7",
   "metadata": {},
   "outputs": [],
   "source": []
  },
  {
   "cell_type": "code",
   "execution_count": null,
   "id": "e7623287",
   "metadata": {},
   "outputs": [],
   "source": []
  },
  {
   "cell_type": "markdown",
   "id": "418b449d",
   "metadata": {},
   "source": [
    "#### Quiz 9\n",
    "```py\n",
    "l = [\"sahil\", \"bansal\"]\n",
    "\n",
    "print(l[0][-1])\n",
    "```"
   ]
  },
  {
   "cell_type": "code",
   "execution_count": 63,
   "id": "59899f02",
   "metadata": {},
   "outputs": [
    {
     "name": "stdout",
     "output_type": "stream",
     "text": [
      "l\n"
     ]
    }
   ],
   "source": [
    "l = [\"sahil\", \"bansal\"]\n",
    "\n",
    "print(l[0][-1])"
   ]
  },
  {
   "cell_type": "code",
   "execution_count": null,
   "id": "bded4987",
   "metadata": {},
   "outputs": [],
   "source": [
    "# l[0] => \"sahil\"\n",
    "# \"sahil\"[-1] => 'l'"
   ]
  },
  {
   "cell_type": "code",
   "execution_count": null,
   "id": "4438a306",
   "metadata": {},
   "outputs": [],
   "source": []
  },
  {
   "cell_type": "code",
   "execution_count": null,
   "id": "4dec9e49",
   "metadata": {},
   "outputs": [],
   "source": []
  },
  {
   "cell_type": "markdown",
   "id": "ff8ce60f",
   "metadata": {},
   "source": [
    "### Nature of strings\n",
    "Python Strings are immutable"
   ]
  },
  {
   "cell_type": "code",
   "execution_count": 65,
   "id": "cd73c24e",
   "metadata": {},
   "outputs": [
    {
     "ename": "TypeError",
     "evalue": "'str' object does not support item assignment",
     "output_type": "error",
     "traceback": [
      "\u001b[0;31m---------------------------------------------------------------------------\u001b[0m",
      "\u001b[0;31mTypeError\u001b[0m                                 Traceback (most recent call last)",
      "\u001b[0;32m/var/folders/jn/1bsrct314hv5xmfm7vrcdrzc0000gn/T/ipykernel_5576/1989153585.py\u001b[0m in \u001b[0;36m<module>\u001b[0;34m\u001b[0m\n\u001b[1;32m      1\u001b[0m \u001b[0ms\u001b[0m \u001b[0;34m=\u001b[0m \u001b[0;34m'hello'\u001b[0m\u001b[0;34m\u001b[0m\u001b[0;34m\u001b[0m\u001b[0m\n\u001b[0;32m----> 2\u001b[0;31m \u001b[0ms\u001b[0m\u001b[0;34m[\u001b[0m\u001b[0;36m2\u001b[0m\u001b[0;34m]\u001b[0m \u001b[0;34m=\u001b[0m \u001b[0;34m'a'\u001b[0m\u001b[0;34m\u001b[0m\u001b[0;34m\u001b[0m\u001b[0m\n\u001b[0m\u001b[1;32m      3\u001b[0m \u001b[0mprint\u001b[0m\u001b[0;34m(\u001b[0m\u001b[0ms\u001b[0m\u001b[0;34m)\u001b[0m\u001b[0;34m\u001b[0m\u001b[0;34m\u001b[0m\u001b[0m\n",
      "\u001b[0;31mTypeError\u001b[0m: 'str' object does not support item assignment"
     ]
    }
   ],
   "source": [
    "s = 'hello'\n",
    "s[2] = 'a'\n",
    "print(s)"
   ]
  },
  {
   "cell_type": "code",
   "execution_count": null,
   "id": "406dd18c",
   "metadata": {},
   "outputs": [],
   "source": []
  },
  {
   "cell_type": "code",
   "execution_count": 66,
   "id": "d3a7cc83",
   "metadata": {},
   "outputs": [
    {
     "name": "stdout",
     "output_type": "stream",
     "text": [
      "helloworld\n"
     ]
    }
   ],
   "source": [
    "a = 'hello'\n",
    "b = 'world'\n",
    "\n",
    "a = a + b\n",
    "# Creates a new string\n",
    "print(a)"
   ]
  },
  {
   "cell_type": "code",
   "execution_count": 67,
   "id": "867fdcd4",
   "metadata": {},
   "outputs": [
    {
     "name": "stdout",
     "output_type": "stream",
     "text": [
      "newname\n"
     ]
    }
   ],
   "source": [
    "a = 'hello'\n",
    "a = 'newname'\n",
    "# reassigning variable to another string\n",
    "print(a)"
   ]
  },
  {
   "cell_type": "code",
   "execution_count": null,
   "id": "1a43a5ac",
   "metadata": {},
   "outputs": [],
   "source": []
  },
  {
   "cell_type": "code",
   "execution_count": null,
   "id": "e6199cc6",
   "metadata": {},
   "outputs": [],
   "source": []
  },
  {
   "cell_type": "code",
   "execution_count": null,
   "id": "e1b69f7e",
   "metadata": {},
   "outputs": [],
   "source": []
  },
  {
   "cell_type": "markdown",
   "id": "579a5787",
   "metadata": {},
   "source": [
    "### Iterating over a string"
   ]
  },
  {
   "cell_type": "markdown",
   "id": "ad33217a",
   "metadata": {},
   "source": [
    "##### Question\n",
    "Given a string, print its characters line by line. \\\n",
    "S = \"PYTHON\" \n",
    "\n",
    "Output:\n",
    "```\n",
    "P\n",
    "Y\n",
    "T\n",
    "H\n",
    "O\n",
    "N\n",
    "```"
   ]
  },
  {
   "cell_type": "code",
   "execution_count": 68,
   "id": "942003f5",
   "metadata": {},
   "outputs": [
    {
     "name": "stdout",
     "output_type": "stream",
     "text": [
      "P\n",
      "Y\n",
      "T\n",
      "H\n",
      "O\n",
      "N\n"
     ]
    }
   ],
   "source": [
    "s = \"PYTHON\"\n",
    "\n",
    "# Strings are also iterable\n",
    "for ch in s:\n",
    "    print(ch)"
   ]
  },
  {
   "cell_type": "code",
   "execution_count": 69,
   "id": "0eaf103c",
   "metadata": {},
   "outputs": [
    {
     "name": "stdout",
     "output_type": "stream",
     "text": [
      "P Y T H O N "
     ]
    }
   ],
   "source": [
    "s = \"PYTHON\"\n",
    "\n",
    "# Strings are also iterable\n",
    "for ch in s:\n",
    "    print(ch, end=' ')"
   ]
  },
  {
   "cell_type": "code",
   "execution_count": null,
   "id": "20028a57",
   "metadata": {},
   "outputs": [],
   "source": []
  },
  {
   "cell_type": "code",
   "execution_count": null,
   "id": "278f5f4d",
   "metadata": {},
   "outputs": [],
   "source": []
  },
  {
   "cell_type": "markdown",
   "id": "952ed974",
   "metadata": {},
   "source": [
    "## String Concatenation\n",
    "![](https://scaler.com/topics/images/string-concatenation-in-python.webp)"
   ]
  },
  {
   "cell_type": "code",
   "execution_count": 71,
   "id": "94ed8b4f",
   "metadata": {},
   "outputs": [
    {
     "name": "stdout",
     "output_type": "stream",
     "text": [
      "Tarun Luthra\n"
     ]
    }
   ],
   "source": [
    "first = 'Tarun'\n",
    "last = 'Luthra'\n",
    "\n",
    "fullname = first + ' ' + last\n",
    "print(fullname)"
   ]
  },
  {
   "cell_type": "code",
   "execution_count": null,
   "id": "d2934198",
   "metadata": {},
   "outputs": [],
   "source": []
  },
  {
   "cell_type": "code",
   "execution_count": null,
   "id": "4e03c578",
   "metadata": {},
   "outputs": [],
   "source": []
  },
  {
   "cell_type": "code",
   "execution_count": 72,
   "id": "d38d8a1b",
   "metadata": {},
   "outputs": [
    {
     "name": "stdout",
     "output_type": "stream",
     "text": [
      "hellohello\n"
     ]
    }
   ],
   "source": [
    "a = \"hello\" * 2\n",
    "print(a)"
   ]
  },
  {
   "cell_type": "code",
   "execution_count": 73,
   "id": "1c3d0c44",
   "metadata": {},
   "outputs": [
    {
     "name": "stdout",
     "output_type": "stream",
     "text": [
      "okokokokok\n"
     ]
    }
   ],
   "source": [
    "b = 'ok' * 5\n",
    "print(b)"
   ]
  },
  {
   "cell_type": "code",
   "execution_count": null,
   "id": "1b33463c",
   "metadata": {},
   "outputs": [],
   "source": []
  },
  {
   "cell_type": "code",
   "execution_count": null,
   "id": "b6e4c5dc",
   "metadata": {},
   "outputs": [],
   "source": []
  },
  {
   "cell_type": "code",
   "execution_count": null,
   "id": "9e9654d9",
   "metadata": {},
   "outputs": [],
   "source": []
  },
  {
   "cell_type": "markdown",
   "id": "f38bfc84",
   "metadata": {},
   "source": [
    "#### Quiz 10\n",
    "What will be printed by the following code when it executes?\n",
    "\n",
    "```py\n",
    "city = \"Phoenix\"\n",
    "print(len(city*3))\n",
    "```"
   ]
  },
  {
   "cell_type": "code",
   "execution_count": 76,
   "id": "08cf3b15",
   "metadata": {},
   "outputs": [
    {
     "name": "stdout",
     "output_type": "stream",
     "text": [
      "21\n"
     ]
    }
   ],
   "source": [
    "city = \"Phoenix\"\n",
    "print(len(city*3))"
   ]
  },
  {
   "cell_type": "code",
   "execution_count": 75,
   "id": "a0053f49",
   "metadata": {},
   "outputs": [
    {
     "name": "stdout",
     "output_type": "stream",
     "text": [
      "PhoenixPhoenixPhoenix\n",
      "7\n"
     ]
    }
   ],
   "source": [
    "city = \"Phoenix\"\n",
    "print(city*3)\n",
    "print(len(city))"
   ]
  },
  {
   "cell_type": "code",
   "execution_count": null,
   "id": "8b7cdd98",
   "metadata": {},
   "outputs": [],
   "source": []
  },
  {
   "cell_type": "code",
   "execution_count": null,
   "id": "edeca3c2",
   "metadata": {},
   "outputs": [],
   "source": []
  },
  {
   "cell_type": "markdown",
   "id": "b08dde63",
   "metadata": {},
   "source": [
    "## String slicing"
   ]
  },
  {
   "cell_type": "code",
   "execution_count": 77,
   "id": "2796081a",
   "metadata": {},
   "outputs": [
    {
     "name": "stdout",
     "output_type": "stream",
     "text": [
      "bc\n"
     ]
    }
   ],
   "source": [
    "s = \"abcdef\"\n",
    "print(s[1:3])"
   ]
  },
  {
   "cell_type": "code",
   "execution_count": 78,
   "id": "d5164b71",
   "metadata": {},
   "outputs": [
    {
     "name": "stdout",
     "output_type": "stream",
     "text": [
      "edcba\n"
     ]
    }
   ],
   "source": [
    "print(s[4::-1])"
   ]
  },
  {
   "cell_type": "code",
   "execution_count": 79,
   "id": "84006642",
   "metadata": {},
   "outputs": [
    {
     "name": "stdout",
     "output_type": "stream",
     "text": [
      "ace\n"
     ]
    }
   ],
   "source": [
    "print(s[:5:2])"
   ]
  },
  {
   "cell_type": "code",
   "execution_count": null,
   "id": "1b120970",
   "metadata": {},
   "outputs": [],
   "source": []
  },
  {
   "cell_type": "code",
   "execution_count": null,
   "id": "674fdfaf",
   "metadata": {},
   "outputs": [],
   "source": []
  },
  {
   "cell_type": "markdown",
   "id": "fd61ff54",
   "metadata": {},
   "source": [
    "#### Quiz 11\n",
    "What is the return value of the function call `mystery(\"abracadabra\")`?  \n",
    "  \n",
    "\n",
    "```py\n",
    "def mystery(s):\n",
    "  i = len(s)//2\n",
    "  a = s[:i]\n",
    "  b = s[i:]\n",
    "  return a+ b\n",
    "```"
   ]
  },
  {
   "cell_type": "code",
   "execution_count": 81,
   "id": "ece79d93",
   "metadata": {},
   "outputs": [],
   "source": [
    "def mystery(s):\n",
    "    i = len(s) // 2\n",
    "    a = s[:i]\n",
    "    b = s[i:]\n",
    "    return a + b"
   ]
  },
  {
   "cell_type": "code",
   "execution_count": 82,
   "id": "9ca47327",
   "metadata": {},
   "outputs": [
    {
     "name": "stdout",
     "output_type": "stream",
     "text": [
      "abracadabra\n"
     ]
    }
   ],
   "source": [
    "print(mystery(\"abracadabra\"))"
   ]
  },
  {
   "cell_type": "code",
   "execution_count": null,
   "id": "8838020d",
   "metadata": {},
   "outputs": [],
   "source": [
    "# i = len(s) // 2 = 11 // 2 = 5\n",
    "# a = s[:5] = abrac\n",
    "# b = s[5:] = adabra\n",
    "# a + b = abrac + adabra"
   ]
  },
  {
   "cell_type": "code",
   "execution_count": null,
   "id": "1488a230",
   "metadata": {},
   "outputs": [],
   "source": []
  },
  {
   "cell_type": "code",
   "execution_count": null,
   "id": "7f9189d3",
   "metadata": {},
   "outputs": [],
   "source": []
  },
  {
   "cell_type": "code",
   "execution_count": 83,
   "id": "ec4a12b6",
   "metadata": {},
   "outputs": [
    {
     "name": "stdout",
     "output_type": "stream",
     "text": [
      "fedcba\n"
     ]
    }
   ],
   "source": [
    "s = \"abcdef\"\n",
    "print(s[::-1])"
   ]
  },
  {
   "cell_type": "code",
   "execution_count": null,
   "id": "d092cfc5",
   "metadata": {},
   "outputs": [],
   "source": []
  },
  {
   "cell_type": "code",
   "execution_count": null,
   "id": "1a95c0a4",
   "metadata": {},
   "outputs": [],
   "source": []
  },
  {
   "cell_type": "markdown",
   "id": "db49812d",
   "metadata": {},
   "source": [
    "### Check Palindrome\n",
    "Given a string, check if it is Palindromic"
   ]
  },
  {
   "cell_type": "code",
   "execution_count": 84,
   "id": "5431e97e",
   "metadata": {},
   "outputs": [],
   "source": [
    "def checkPalindome(s):\n",
    "    return s == s[::-1]"
   ]
  },
  {
   "cell_type": "code",
   "execution_count": 85,
   "id": "f391f153",
   "metadata": {},
   "outputs": [
    {
     "name": "stdout",
     "output_type": "stream",
     "text": [
      "True\n"
     ]
    }
   ],
   "source": [
    "print(checkPalindome(\"level\"))"
   ]
  },
  {
   "cell_type": "code",
   "execution_count": 86,
   "id": "83ffd897",
   "metadata": {},
   "outputs": [
    {
     "name": "stdout",
     "output_type": "stream",
     "text": [
      "True\n"
     ]
    }
   ],
   "source": [
    "print(checkPalindome(\"radar\"))"
   ]
  },
  {
   "cell_type": "code",
   "execution_count": 87,
   "id": "998b190f",
   "metadata": {},
   "outputs": [
    {
     "name": "stdout",
     "output_type": "stream",
     "text": [
      "False\n"
     ]
    }
   ],
   "source": [
    "print(checkPalindome(\"tarun\"))"
   ]
  },
  {
   "cell_type": "code",
   "execution_count": 88,
   "id": "61f541a1",
   "metadata": {},
   "outputs": [
    {
     "name": "stdout",
     "output_type": "stream",
     "text": [
      "True\n"
     ]
    }
   ],
   "source": [
    "print(checkPalindome(\"naman\"))"
   ]
  },
  {
   "cell_type": "code",
   "execution_count": 89,
   "id": "ec2bec89",
   "metadata": {},
   "outputs": [
    {
     "name": "stdout",
     "output_type": "stream",
     "text": [
      "False\n"
     ]
    }
   ],
   "source": [
    "print(checkPalindome(\"Naman\"))"
   ]
  },
  {
   "cell_type": "code",
   "execution_count": null,
   "id": "9247dbcb",
   "metadata": {},
   "outputs": [],
   "source": [
    "# Naman => namaN"
   ]
  },
  {
   "cell_type": "code",
   "execution_count": null,
   "id": "4f01b6b1",
   "metadata": {},
   "outputs": [],
   "source": []
  },
  {
   "cell_type": "code",
   "execution_count": null,
   "id": "6008be35",
   "metadata": {},
   "outputs": [],
   "source": []
  },
  {
   "cell_type": "markdown",
   "id": "351b1ff9",
   "metadata": {},
   "source": [
    "## Working with ASCII Values\n",
    "<img src=\"https://scaler.com/topics/images/ascii-values-in-c-thumbnail.webp\" width=\"400px\" />"
   ]
  },
  {
   "cell_type": "code",
   "execution_count": null,
   "id": "4d98627a",
   "metadata": {},
   "outputs": [],
   "source": []
  },
  {
   "cell_type": "code",
   "execution_count": null,
   "id": "1baf667a",
   "metadata": {},
   "outputs": [],
   "source": []
  },
  {
   "cell_type": "code",
   "execution_count": null,
   "id": "51e43d09",
   "metadata": {},
   "outputs": [],
   "source": []
  },
  {
   "cell_type": "markdown",
   "id": "98186b81",
   "metadata": {},
   "source": [
    "### ord()\n",
    "![](https://scaler.com/topics/images/ord-in-python.webp)"
   ]
  },
  {
   "cell_type": "code",
   "execution_count": 90,
   "id": "16aa9724",
   "metadata": {},
   "outputs": [
    {
     "name": "stdout",
     "output_type": "stream",
     "text": [
      "65\n"
     ]
    }
   ],
   "source": [
    "print(ord('A'))"
   ]
  },
  {
   "cell_type": "code",
   "execution_count": 91,
   "id": "90feb9ed",
   "metadata": {},
   "outputs": [
    {
     "name": "stdout",
     "output_type": "stream",
     "text": [
      "44\n"
     ]
    }
   ],
   "source": [
    "print(ord(','))"
   ]
  },
  {
   "cell_type": "code",
   "execution_count": 92,
   "id": "094b79d6",
   "metadata": {},
   "outputs": [
    {
     "name": "stdout",
     "output_type": "stream",
     "text": [
      "122\n"
     ]
    }
   ],
   "source": [
    "print(ord('z'))"
   ]
  },
  {
   "cell_type": "code",
   "execution_count": null,
   "id": "bf77d05e",
   "metadata": {},
   "outputs": [],
   "source": []
  },
  {
   "cell_type": "markdown",
   "id": "de381fb9",
   "metadata": {},
   "source": [
    "### chr()\n",
    "![](https://scaler.com/topics/images/chr-in-python.webp)"
   ]
  },
  {
   "cell_type": "code",
   "execution_count": 93,
   "id": "49e9e424",
   "metadata": {},
   "outputs": [
    {
     "name": "stdout",
     "output_type": "stream",
     "text": [
      "A\n"
     ]
    }
   ],
   "source": [
    "print(chr(65))"
   ]
  },
  {
   "cell_type": "code",
   "execution_count": 94,
   "id": "d4fab28e",
   "metadata": {},
   "outputs": [
    {
     "name": "stdout",
     "output_type": "stream",
     "text": [
      "b\n"
     ]
    }
   ],
   "source": [
    "print(chr(98))"
   ]
  },
  {
   "cell_type": "code",
   "execution_count": 95,
   "id": "d4828675",
   "metadata": {},
   "outputs": [
    {
     "name": "stdout",
     "output_type": "stream",
     "text": [
      "2\n"
     ]
    }
   ],
   "source": [
    "print(chr(50)) # '2'"
   ]
  },
  {
   "cell_type": "code",
   "execution_count": null,
   "id": "a5da914d",
   "metadata": {},
   "outputs": [],
   "source": []
  },
  {
   "cell_type": "code",
   "execution_count": null,
   "id": "6e32fb33",
   "metadata": {},
   "outputs": [],
   "source": []
  },
  {
   "cell_type": "markdown",
   "id": "eb84ab67",
   "metadata": {},
   "source": [
    "# Bonus Reading Material\n",
    "- Strings in Python - https://www.scaler.com/topics/python/strings-in-python/\n",
    "- What is String in Python? - https://www.scaler.com/topics/what-is-string-in-python/\n",
    "- Python Multiline String - https://www.scaler.com/topics/python-multiline-string/\n",
    "- str() in Python - https://www.scaler.com/topics/str-in-python/\n",
    "- String Concatenation in Python - https://www.scaler.com/topics/string-concatenation-in-python/\n",
    "- String Slicing in Python - https://www.scaler.com/topics/python/string-slicing-in-python/\n",
    "- What are Mutable Data Types in Python? - https://www.scaler.com/topics/mutable-data-typesg-in-python/\n",
    "- Mutable and Immutable in Python - https://www.scaler.com/topics/mutable-and-immutable-in-python/\n",
    "- String Comparison in Python - https://www.scaler.com/topics/string-comparison-in-python/\n",
    "- chr() in Python - https://www.scaler.com/topics/chr-in-python/\n",
    "- ord in Python - https://www.scaler.com/topics/ord-in-python/\n",
    "- Difference Between UNICODE and ASCII - https://www.scaler.com/topics/cpp/difference-between-unicode-and-ascii/\n",
    "- Join in Python - https://www.scaler.com/topics/join-in-python/\n",
    "- Convert List to String in Python - https://www.scaler.com/topics/convert-list-to-string-in-python/\n",
    "- String Methods Python - https://www.scaler.com/topics/python/string-methods-python/\n",
    "- upper() in Python - https://www.scaler.com/topics/upper-in-python/\n",
    "- https://www.scaler.com/topics/title-in-python/\n",
    "- String reverse in Python - https://www.scaler.com/topics/reverse-string-in-python/"
   ]
  },
  {
   "cell_type": "code",
   "execution_count": null,
   "id": "501c4376",
   "metadata": {},
   "outputs": [],
   "source": []
  },
  {
   "cell_type": "code",
   "execution_count": null,
   "id": "9afed8d3",
   "metadata": {},
   "outputs": [],
   "source": []
  },
  {
   "cell_type": "code",
   "execution_count": null,
   "id": "af3ef70c",
   "metadata": {},
   "outputs": [],
   "source": []
  },
  {
   "cell_type": "code",
   "execution_count": null,
   "id": "474f0e73",
   "metadata": {},
   "outputs": [],
   "source": []
  },
  {
   "cell_type": "markdown",
   "id": "7d18f3d0",
   "metadata": {},
   "source": [
    "## print sep"
   ]
  },
  {
   "cell_type": "code",
   "execution_count": 101,
   "id": "c9a9b7a0",
   "metadata": {},
   "outputs": [
    {
     "name": "stdout",
     "output_type": "stream",
     "text": [
      "10 20 hello ok\n",
      "how are you good morning\n"
     ]
    }
   ],
   "source": [
    "print(10, 20, 'hello', 'ok')\n",
    "print('how are you', 'good morning')\n",
    "# by default, sep=' '"
   ]
  },
  {
   "cell_type": "code",
   "execution_count": 103,
   "id": "d136dfe1",
   "metadata": {},
   "outputs": [
    {
     "name": "stdout",
     "output_type": "stream",
     "text": [
      "10+20+hello+ok\n",
      "how are you good morning\n"
     ]
    }
   ],
   "source": [
    "print(10, 20, 'hello', 'ok', sep='+')\n",
    "print('how are you', 'good morning')"
   ]
  },
  {
   "cell_type": "code",
   "execution_count": null,
   "id": "5a98a796",
   "metadata": {},
   "outputs": [],
   "source": []
  },
  {
   "cell_type": "code",
   "execution_count": 104,
   "id": "559d25ef",
   "metadata": {},
   "outputs": [
    {
     "name": "stdout",
     "output_type": "stream",
     "text": [
      "4 5 6 7 8 9\n"
     ]
    }
   ],
   "source": [
    "print(*range(4, 10))"
   ]
  },
  {
   "cell_type": "code",
   "execution_count": 105,
   "id": "f040314b",
   "metadata": {},
   "outputs": [
    {
     "name": "stdout",
     "output_type": "stream",
     "text": [
      "4,5,6,7,8,9\n"
     ]
    }
   ],
   "source": [
    "print(*range(4, 10), sep=',')"
   ]
  },
  {
   "cell_type": "code",
   "execution_count": null,
   "id": "63dc071c",
   "metadata": {},
   "outputs": [],
   "source": []
  },
  {
   "cell_type": "code",
   "execution_count": null,
   "id": "b1d30fe9",
   "metadata": {},
   "outputs": [],
   "source": []
  },
  {
   "cell_type": "code",
   "execution_count": null,
   "id": "cd62ddb9",
   "metadata": {},
   "outputs": [],
   "source": []
  },
  {
   "cell_type": "markdown",
   "id": "c55107b1",
   "metadata": {},
   "source": [
    "#### Quiz 12\n",
    "```py\n",
    "print(\"Hello\", \"World\", sep=',', end='+')\n",
    "print(\"Foo\", sep='./')\n",
    "print(\"Bar\", end=' 123')\n",
    "```"
   ]
  },
  {
   "cell_type": "code",
   "execution_count": 106,
   "id": "7ecc5f94",
   "metadata": {},
   "outputs": [
    {
     "name": "stdout",
     "output_type": "stream",
     "text": [
      "Hello,World+Foo\n",
      "Bar 123"
     ]
    }
   ],
   "source": [
    "print(\"Hello\", \"World\", sep=',', end='+')\n",
    "print(\"Foo\", sep='./')\n",
    "print(\"Bar\", end=' 123')"
   ]
  },
  {
   "cell_type": "code",
   "execution_count": null,
   "id": "58f83b81",
   "metadata": {},
   "outputs": [],
   "source": [
    "Hello,World+Foo\n",
    "Bar 123"
   ]
  },
  {
   "cell_type": "code",
   "execution_count": null,
   "id": "fd62044b",
   "metadata": {},
   "outputs": [],
   "source": [
    "# Default value of end ? = \\n (new line character)"
   ]
  },
  {
   "cell_type": "code",
   "execution_count": null,
   "id": "7a5304f4",
   "metadata": {},
   "outputs": [],
   "source": []
  },
  {
   "cell_type": "code",
   "execution_count": null,
   "id": "8885aee4",
   "metadata": {},
   "outputs": [],
   "source": []
  },
  {
   "cell_type": "markdown",
   "id": "b6704665",
   "metadata": {},
   "source": [
    "# Doubts"
   ]
  },
  {
   "cell_type": "code",
   "execution_count": null,
   "id": "c188a5cd",
   "metadata": {},
   "outputs": [],
   "source": [
    "# TypeError: 'NoneType' object is not iterable\n",
    "# You are running a for-loop on a None object\n",
    "# for i in l:\n",
    "# l = None"
   ]
  },
  {
   "cell_type": "code",
   "execution_count": null,
   "id": "74de629d",
   "metadata": {},
   "outputs": [],
   "source": [
    "# What is self ?\n",
    "# Answered in \"Classes & Objects\" (OOPS)\n",
    "# Covered later on in Intermediate batch"
   ]
  },
  {
   "cell_type": "code",
   "execution_count": null,
   "id": "7a3c5c5b",
   "metadata": {},
   "outputs": [],
   "source": [
    "# how to know when to return and when to use print for the output?\n",
    "# This should be very clearly defined in the Output format and Problem Statement\n",
    "# You can also take a hint from the stub (predefined code)"
   ]
  },
  {
   "cell_type": "code",
   "execution_count": null,
   "id": "0483cdd5",
   "metadata": {},
   "outputs": [],
   "source": [
    "# New errors\n",
    "# Go to Google => Stackoverflow\n",
    "# ChatGPT (sometimes gives wrong answers)\n",
    "# TAs"
   ]
  },
  {
   "cell_type": "code",
   "execution_count": null,
   "id": "b9130a6f",
   "metadata": {},
   "outputs": [],
   "source": []
  },
  {
   "cell_type": "code",
   "execution_count": null,
   "id": "736a12ff",
   "metadata": {},
   "outputs": [],
   "source": []
  },
  {
   "cell_type": "code",
   "execution_count": null,
   "id": "e0963818",
   "metadata": {},
   "outputs": [],
   "source": []
  },
  {
   "cell_type": "code",
   "execution_count": null,
   "id": "8edeb950",
   "metadata": {},
   "outputs": [],
   "source": [
    "10 20 30 40"
   ]
  },
  {
   "cell_type": "code",
   "execution_count": 107,
   "id": "7ffd8a7f",
   "metadata": {},
   "outputs": [
    {
     "name": "stdout",
     "output_type": "stream",
     "text": [
      "10 20 30\n"
     ]
    },
    {
     "ename": "ValueError",
     "evalue": "invalid literal for int() with base 10: '10 20 30'",
     "output_type": "error",
     "traceback": [
      "\u001b[0;31m---------------------------------------------------------------------------\u001b[0m",
      "\u001b[0;31mValueError\u001b[0m                                Traceback (most recent call last)",
      "\u001b[0;32m/var/folders/jn/1bsrct314hv5xmfm7vrcdrzc0000gn/T/ipykernel_5576/4025546921.py\u001b[0m in \u001b[0;36m<module>\u001b[0;34m\u001b[0m\n\u001b[0;32m----> 1\u001b[0;31m \u001b[0mint\u001b[0m\u001b[0;34m(\u001b[0m\u001b[0minput\u001b[0m\u001b[0;34m(\u001b[0m\u001b[0;34m)\u001b[0m\u001b[0;34m)\u001b[0m\u001b[0;34m\u001b[0m\u001b[0;34m\u001b[0m\u001b[0m\n\u001b[0m",
      "\u001b[0;31mValueError\u001b[0m: invalid literal for int() with base 10: '10 20 30'"
     ]
    }
   ],
   "source": [
    "int(input())"
   ]
  },
  {
   "cell_type": "code",
   "execution_count": null,
   "id": "456e63f9",
   "metadata": {},
   "outputs": [],
   "source": []
  },
  {
   "cell_type": "code",
   "execution_count": null,
   "id": "ad971ade",
   "metadata": {},
   "outputs": [],
   "source": []
  },
  {
   "cell_type": "code",
   "execution_count": null,
   "id": "5bd61ecb",
   "metadata": {},
   "outputs": [],
   "source": [
    "# replace() discusses in the next session\n",
    "# update at specific index - str => list , make the changes, convert it back to str\n",
    "# also covered in the next lecture"
   ]
  },
  {
   "cell_type": "code",
   "execution_count": null,
   "id": "91c73fa3",
   "metadata": {},
   "outputs": [],
   "source": []
  }
 ],
 "metadata": {
  "kernelspec": {
   "display_name": "Python 3 (ipykernel)",
   "language": "python",
   "name": "python3"
  },
  "language_info": {
   "codemirror_mode": {
    "name": "ipython",
    "version": 3
   },
   "file_extension": ".py",
   "mimetype": "text/x-python",
   "name": "python",
   "nbconvert_exporter": "python",
   "pygments_lexer": "ipython3",
   "version": "3.9.18"
  }
 },
 "nbformat": 4,
 "nbformat_minor": 5
}
