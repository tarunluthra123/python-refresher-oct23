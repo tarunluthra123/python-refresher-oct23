{
 "cells": [
  {
   "cell_type": "markdown",
   "id": "cca19623",
   "metadata": {},
   "source": [
    "# Lists 2\n",
    "![](https://scaler.com/topics/images/arraylist-in-java.webp)"
   ]
  },
  {
   "cell_type": "code",
   "execution_count": 1,
   "id": "c419a098",
   "metadata": {},
   "outputs": [],
   "source": [
    "l = [1, 2, 'hello', True, None]"
   ]
  },
  {
   "cell_type": "code",
   "execution_count": 2,
   "id": "2154ddde",
   "metadata": {},
   "outputs": [
    {
     "name": "stdout",
     "output_type": "stream",
     "text": [
      "[1, 2, 'hello', True, None]\n"
     ]
    }
   ],
   "source": [
    "print(l)"
   ]
  },
  {
   "cell_type": "code",
   "execution_count": 4,
   "id": "6f0d648e",
   "metadata": {},
   "outputs": [
    {
     "name": "stdout",
     "output_type": "stream",
     "text": [
      "hello\n"
     ]
    }
   ],
   "source": [
    "print(l[2])"
   ]
  },
  {
   "cell_type": "code",
   "execution_count": 5,
   "id": "d9f7b1af",
   "metadata": {},
   "outputs": [
    {
     "name": "stdout",
     "output_type": "stream",
     "text": [
      "None\n"
     ]
    }
   ],
   "source": [
    "print(l[-1])"
   ]
  },
  {
   "cell_type": "code",
   "execution_count": null,
   "id": "993eab8e",
   "metadata": {},
   "outputs": [],
   "source": []
  },
  {
   "cell_type": "code",
   "execution_count": null,
   "id": "90e262a1",
   "metadata": {},
   "outputs": [],
   "source": []
  },
  {
   "cell_type": "code",
   "execution_count": null,
   "id": "593c37f5",
   "metadata": {},
   "outputs": [],
   "source": []
  },
  {
   "cell_type": "markdown",
   "id": "84c7c154",
   "metadata": {},
   "source": [
    "# Searching in Lists\n",
    "- in\n",
    "- index()\n",
    "- count()\n",
    "\n",
    "![](https://scaler.com/topics/images/index-function-in-python.webp)"
   ]
  },
  {
   "cell_type": "code",
   "execution_count": 6,
   "id": "af99b392",
   "metadata": {},
   "outputs": [],
   "source": [
    "l = [10, 20, 30, 40, 50, 20, 40, 30]"
   ]
  },
  {
   "cell_type": "code",
   "execution_count": 7,
   "id": "db62c3e8",
   "metadata": {},
   "outputs": [
    {
     "name": "stdout",
     "output_type": "stream",
     "text": [
      "4\n"
     ]
    }
   ],
   "source": [
    "# Index of 50\n",
    "idx = l.index(50)\n",
    "print(idx)"
   ]
  },
  {
   "cell_type": "code",
   "execution_count": 8,
   "id": "ed8fc317",
   "metadata": {},
   "outputs": [
    {
     "ename": "ValueError",
     "evalue": "100 is not in list",
     "output_type": "error",
     "traceback": [
      "\u001b[0;31m---------------------------------------------------------------------------\u001b[0m",
      "\u001b[0;31mValueError\u001b[0m                                Traceback (most recent call last)",
      "\u001b[0;32m/var/folders/jn/1bsrct314hv5xmfm7vrcdrzc0000gn/T/ipykernel_26690/815759330.py\u001b[0m in \u001b[0;36m<module>\u001b[0;34m\u001b[0m\n\u001b[0;32m----> 1\u001b[0;31m \u001b[0midx2\u001b[0m \u001b[0;34m=\u001b[0m \u001b[0ml\u001b[0m\u001b[0;34m.\u001b[0m\u001b[0mindex\u001b[0m\u001b[0;34m(\u001b[0m\u001b[0;36m100\u001b[0m\u001b[0;34m)\u001b[0m\u001b[0;34m\u001b[0m\u001b[0;34m\u001b[0m\u001b[0m\n\u001b[0m\u001b[1;32m      2\u001b[0m \u001b[0mprint\u001b[0m\u001b[0;34m(\u001b[0m\u001b[0midx2\u001b[0m\u001b[0;34m)\u001b[0m\u001b[0;34m\u001b[0m\u001b[0;34m\u001b[0m\u001b[0m\n",
      "\u001b[0;31mValueError\u001b[0m: 100 is not in list"
     ]
    }
   ],
   "source": [
    "idx2 = l.index(100)\n",
    "print(idx2)"
   ]
  },
  {
   "cell_type": "code",
   "execution_count": 9,
   "id": "e9c97ddf",
   "metadata": {},
   "outputs": [
    {
     "name": "stdout",
     "output_type": "stream",
     "text": [
      "1\n"
     ]
    }
   ],
   "source": [
    "# Index of 20\n",
    "idx3 = l.index(20)\n",
    "print(idx3)\n",
    "# First occurence"
   ]
  },
  {
   "cell_type": "code",
   "execution_count": null,
   "id": "3eeaf476",
   "metadata": {},
   "outputs": [],
   "source": []
  },
  {
   "cell_type": "markdown",
   "id": "544513d2",
   "metadata": {},
   "source": [
    "#### How to get the index of the second or the third occurences ? \n",
    "- Find answer on your own. \\\n",
    "Hint - The answer is present in bonus reading material for today."
   ]
  },
  {
   "cell_type": "code",
   "execution_count": null,
   "id": "ed428d14",
   "metadata": {},
   "outputs": [],
   "source": []
  },
  {
   "cell_type": "code",
   "execution_count": null,
   "id": "71694bd1",
   "metadata": {},
   "outputs": [],
   "source": []
  },
  {
   "cell_type": "code",
   "execution_count": 11,
   "id": "2d76ef50",
   "metadata": {},
   "outputs": [],
   "source": [
    "l = [10, 20, 30, 40, 20, 50, 20, 40, 30, 20]"
   ]
  },
  {
   "cell_type": "code",
   "execution_count": 12,
   "id": "6b9e8296",
   "metadata": {},
   "outputs": [
    {
     "name": "stdout",
     "output_type": "stream",
     "text": [
      "4\n"
     ]
    }
   ],
   "source": [
    "print(l.count(20))"
   ]
  },
  {
   "cell_type": "code",
   "execution_count": 13,
   "id": "d1c12580",
   "metadata": {},
   "outputs": [
    {
     "name": "stdout",
     "output_type": "stream",
     "text": [
      "2\n"
     ]
    }
   ],
   "source": [
    "print(l.count(30))"
   ]
  },
  {
   "cell_type": "code",
   "execution_count": 14,
   "id": "4e632f39",
   "metadata": {},
   "outputs": [
    {
     "name": "stdout",
     "output_type": "stream",
     "text": [
      "0\n"
     ]
    }
   ],
   "source": [
    "print(l.count(100))"
   ]
  },
  {
   "cell_type": "code",
   "execution_count": null,
   "id": "cbcc1fb0",
   "metadata": {},
   "outputs": [],
   "source": []
  },
  {
   "cell_type": "code",
   "execution_count": 15,
   "id": "c2e9c11d",
   "metadata": {},
   "outputs": [
    {
     "name": "stdout",
     "output_type": "stream",
     "text": [
      "True\n"
     ]
    }
   ],
   "source": [
    "print(10 in l)"
   ]
  },
  {
   "cell_type": "code",
   "execution_count": 16,
   "id": "bffbe3f4",
   "metadata": {},
   "outputs": [
    {
     "name": "stdout",
     "output_type": "stream",
     "text": [
      "False\n"
     ]
    }
   ],
   "source": [
    "print(100 in l)"
   ]
  },
  {
   "cell_type": "code",
   "execution_count": null,
   "id": "c1f8a460",
   "metadata": {},
   "outputs": [],
   "source": []
  },
  {
   "cell_type": "code",
   "execution_count": 17,
   "id": "16a4af36",
   "metadata": {},
   "outputs": [
    {
     "ename": "TypeError",
     "evalue": "list.count() takes exactly one argument (0 given)",
     "output_type": "error",
     "traceback": [
      "\u001b[0;31m---------------------------------------------------------------------------\u001b[0m",
      "\u001b[0;31mTypeError\u001b[0m                                 Traceback (most recent call last)",
      "\u001b[0;32m/var/folders/jn/1bsrct314hv5xmfm7vrcdrzc0000gn/T/ipykernel_26690/1758000766.py\u001b[0m in \u001b[0;36m<module>\u001b[0;34m\u001b[0m\n\u001b[0;32m----> 1\u001b[0;31m \u001b[0mprint\u001b[0m\u001b[0;34m(\u001b[0m\u001b[0ml\u001b[0m\u001b[0;34m.\u001b[0m\u001b[0mcount\u001b[0m\u001b[0;34m(\u001b[0m\u001b[0;34m)\u001b[0m\u001b[0;34m)\u001b[0m\u001b[0;34m\u001b[0m\u001b[0;34m\u001b[0m\u001b[0m\n\u001b[0m",
      "\u001b[0;31mTypeError\u001b[0m: list.count() takes exactly one argument (0 given)"
     ]
    }
   ],
   "source": [
    "print(l.count())"
   ]
  },
  {
   "cell_type": "code",
   "execution_count": null,
   "id": "4c53c5e5",
   "metadata": {},
   "outputs": [],
   "source": []
  },
  {
   "cell_type": "markdown",
   "id": "7782a981",
   "metadata": {},
   "source": [
    "## list() and split()"
   ]
  },
  {
   "cell_type": "code",
   "execution_count": 18,
   "id": "5f4196ad",
   "metadata": {},
   "outputs": [
    {
     "name": "stdout",
     "output_type": "stream",
     "text": [
      "[]\n"
     ]
    }
   ],
   "source": [
    "# Empty list\n",
    "l = []\n",
    "print(l)"
   ]
  },
  {
   "cell_type": "code",
   "execution_count": 19,
   "id": "67286e9e",
   "metadata": {},
   "outputs": [
    {
     "name": "stdout",
     "output_type": "stream",
     "text": [
      "[]\n"
     ]
    }
   ],
   "source": [
    "# Empty list\n",
    "l = list()\n",
    "print(l)"
   ]
  },
  {
   "cell_type": "code",
   "execution_count": null,
   "id": "3c0fa204",
   "metadata": {},
   "outputs": [],
   "source": []
  },
  {
   "cell_type": "code",
   "execution_count": 20,
   "id": "4778ea28",
   "metadata": {},
   "outputs": [
    {
     "name": "stdout",
     "output_type": "stream",
     "text": [
      "range(1, 10, 2)\n"
     ]
    }
   ],
   "source": [
    "print(range(1, 10, 2))"
   ]
  },
  {
   "cell_type": "code",
   "execution_count": 21,
   "id": "c0d677ea",
   "metadata": {},
   "outputs": [
    {
     "name": "stdout",
     "output_type": "stream",
     "text": [
      "[1, 3, 5, 7, 9]\n"
     ]
    }
   ],
   "source": [
    "print(list(range(1, 10, 2)))"
   ]
  },
  {
   "cell_type": "code",
   "execution_count": 22,
   "id": "ac0e92db",
   "metadata": {},
   "outputs": [
    {
     "name": "stdout",
     "output_type": "stream",
     "text": [
      "['h', 'e', 'l', 'l', 'o', ' ', 'w', 'o', 'r', 'l', 'd']\n"
     ]
    }
   ],
   "source": [
    "print(list(\"hello world\"))"
   ]
  },
  {
   "cell_type": "code",
   "execution_count": null,
   "id": "a760e36b",
   "metadata": {},
   "outputs": [],
   "source": [
    "# Character by character"
   ]
  },
  {
   "cell_type": "code",
   "execution_count": null,
   "id": "6b5824ea",
   "metadata": {},
   "outputs": [],
   "source": []
  },
  {
   "cell_type": "code",
   "execution_count": 24,
   "id": "df7dbf49",
   "metadata": {},
   "outputs": [
    {
     "name": "stdout",
     "output_type": "stream",
     "text": [
      "['hello', 'world', 'how', 'are', 'you'] <class 'list'>\n"
     ]
    }
   ],
   "source": [
    "# Convert this to a list (word by word)\n",
    "s = \"hello world how are you\"\n",
    "t = s.split()\n",
    "print(t, type(t))"
   ]
  },
  {
   "cell_type": "code",
   "execution_count": null,
   "id": "ed2be0ab",
   "metadata": {},
   "outputs": [],
   "source": []
  },
  {
   "cell_type": "code",
   "execution_count": 25,
   "id": "d556515c",
   "metadata": {},
   "outputs": [
    {
     "name": "stdout",
     "output_type": "stream",
     "text": [
      "['hello', 'world', 'how', 'are', 'you'] <class 'list'>\n"
     ]
    }
   ],
   "source": [
    "s = \"hello,world,how,are,you\"\n",
    "t = s.split(',')\n",
    "print(t, type(t))"
   ]
  },
  {
   "cell_type": "code",
   "execution_count": null,
   "id": "2677e76c",
   "metadata": {},
   "outputs": [],
   "source": []
  },
  {
   "cell_type": "code",
   "execution_count": null,
   "id": "b2362c80",
   "metadata": {},
   "outputs": [],
   "source": []
  },
  {
   "cell_type": "markdown",
   "id": "2102df28",
   "metadata": {},
   "source": [
    "# List Input\n",
    "![](https://scaler.com/topics/images/raw-input-in-python.webp)"
   ]
  },
  {
   "cell_type": "code",
   "execution_count": null,
   "id": "da50afb9",
   "metadata": {},
   "outputs": [],
   "source": [
    "# Two possible ways that list input might be provided"
   ]
  },
  {
   "cell_type": "code",
   "execution_count": null,
   "id": "ee05beb9",
   "metadata": {},
   "outputs": [],
   "source": [
    "# In any list question, the first input would always be the \n",
    "# size of the list"
   ]
  },
  {
   "cell_type": "code",
   "execution_count": null,
   "id": "7aa7fb99",
   "metadata": {},
   "outputs": [],
   "source": [
    "# Easier one. Each number is given in a separate line.\n",
    "# Input 1:\n",
    "# 4\n",
    "# 10\n",
    "# 20\n",
    "# 30\n",
    "# 40"
   ]
  },
  {
   "cell_type": "code",
   "execution_count": 27,
   "id": "88727b1e",
   "metadata": {},
   "outputs": [
    {
     "name": "stdout",
     "output_type": "stream",
     "text": [
      "4\n"
     ]
    }
   ],
   "source": [
    "n = int(input())"
   ]
  },
  {
   "cell_type": "code",
   "execution_count": 28,
   "id": "6cd10948",
   "metadata": {},
   "outputs": [
    {
     "name": "stdout",
     "output_type": "stream",
     "text": [
      "10\n",
      "20\n",
      "30\n",
      "40\n",
      "[10, 20, 30, 40]\n"
     ]
    }
   ],
   "source": [
    "l = []\n",
    "\n",
    "for i in range(n):\n",
    "    x = int(input())\n",
    "    l.append(x)\n",
    "    \n",
    "print(l)"
   ]
  },
  {
   "cell_type": "code",
   "execution_count": null,
   "id": "14a347e0",
   "metadata": {},
   "outputs": [],
   "source": []
  },
  {
   "cell_type": "code",
   "execution_count": null,
   "id": "fdae02f3",
   "metadata": {},
   "outputs": [],
   "source": []
  },
  {
   "cell_type": "code",
   "execution_count": null,
   "id": "4a11cdc1",
   "metadata": {},
   "outputs": [],
   "source": [
    "# Difficult version. Get the values in a single line\n",
    "# Input 2\n",
    "# 4\n",
    "# 10 20 30 40"
   ]
  },
  {
   "cell_type": "code",
   "execution_count": null,
   "id": "e738130b",
   "metadata": {},
   "outputs": [],
   "source": [
    "# Python reads the input line by line"
   ]
  },
  {
   "cell_type": "code",
   "execution_count": 29,
   "id": "fe6b8409",
   "metadata": {},
   "outputs": [
    {
     "name": "stdout",
     "output_type": "stream",
     "text": [
      "4\n"
     ]
    }
   ],
   "source": [
    "n = int(input())"
   ]
  },
  {
   "cell_type": "code",
   "execution_count": 34,
   "id": "3175ddb5",
   "metadata": {},
   "outputs": [
    {
     "name": "stdout",
     "output_type": "stream",
     "text": [
      "10 20 30 40\n",
      "[10, 20, 30, 40]\n"
     ]
    }
   ],
   "source": [
    "s = input()\n",
    "l = s.split()\n",
    "\n",
    "for i in range(n):\n",
    "    l[i] = int(l[i])\n",
    "    \n",
    "print(l)"
   ]
  },
  {
   "cell_type": "code",
   "execution_count": null,
   "id": "f0c59b2f",
   "metadata": {},
   "outputs": [],
   "source": []
  },
  {
   "cell_type": "code",
   "execution_count": null,
   "id": "9b21c5a0",
   "metadata": {},
   "outputs": [],
   "source": []
  },
  {
   "cell_type": "code",
   "execution_count": null,
   "id": "cf1ddf50",
   "metadata": {},
   "outputs": [],
   "source": []
  },
  {
   "cell_type": "code",
   "execution_count": null,
   "id": "7044ce6b",
   "metadata": {},
   "outputs": [],
   "source": [
    "l = s.split()"
   ]
  },
  {
   "cell_type": "code",
   "execution_count": null,
   "id": "099c24dc",
   "metadata": {},
   "outputs": [],
   "source": [
    "\"10 20 30 40\" => [10, 20, 30, 40]"
   ]
  },
  {
   "cell_type": "code",
   "execution_count": null,
   "id": "b4d4db98",
   "metadata": {},
   "outputs": [],
   "source": [
    "# Parse the input"
   ]
  },
  {
   "cell_type": "code",
   "execution_count": 31,
   "id": "3530fa72",
   "metadata": {},
   "outputs": [
    {
     "name": "stdout",
     "output_type": "stream",
     "text": [
      "['10', '20', '30', '40'] <class 'list'>\n"
     ]
    }
   ],
   "source": [
    "s = \"10 20 30 40\"\n",
    "l = s.split()\n",
    "print(l, type(l))"
   ]
  },
  {
   "cell_type": "code",
   "execution_count": null,
   "id": "0f6778ba",
   "metadata": {},
   "outputs": [],
   "source": [
    "# List of strings\n",
    "# ['10', '20', '30', '40']"
   ]
  },
  {
   "cell_type": "code",
   "execution_count": 33,
   "id": "fd68733a",
   "metadata": {},
   "outputs": [
    {
     "name": "stdout",
     "output_type": "stream",
     "text": [
      "[10, 20, 30, 40]\n"
     ]
    }
   ],
   "source": [
    "for i in range(n):\n",
    "    l[i] = int(l[i])\n",
    "    \n",
    "print(l)"
   ]
  },
  {
   "cell_type": "code",
   "execution_count": null,
   "id": "5842972d",
   "metadata": {},
   "outputs": [],
   "source": [
    "[10, 20, 30, 40]"
   ]
  },
  {
   "cell_type": "code",
   "execution_count": null,
   "id": "4f384b63",
   "metadata": {},
   "outputs": [],
   "source": []
  },
  {
   "cell_type": "code",
   "execution_count": null,
   "id": "558f4feb",
   "metadata": {},
   "outputs": [],
   "source": []
  },
  {
   "cell_type": "code",
   "execution_count": null,
   "id": "4e48412b",
   "metadata": {},
   "outputs": [],
   "source": []
  },
  {
   "cell_type": "code",
   "execution_count": null,
   "id": "98a7cd17",
   "metadata": {},
   "outputs": [],
   "source": [
    "s = input()\n",
    "l = s.split()\n",
    "\n",
    "for i in range(n):\n",
    "    l[i] = int(l[i])\n",
    "    \n",
    "print(l)"
   ]
  },
  {
   "cell_type": "code",
   "execution_count": 35,
   "id": "8921c38e",
   "metadata": {},
   "outputs": [
    {
     "name": "stdout",
     "output_type": "stream",
     "text": [
      "10 20 30 40\n",
      "[10, 20, 30, 40]\n"
     ]
    }
   ],
   "source": [
    "l = input().split()\n",
    "\n",
    "for i in range(n):\n",
    "    l[i] = int(l[i])\n",
    "    \n",
    "print(l)"
   ]
  },
  {
   "cell_type": "code",
   "execution_count": null,
   "id": "0d562a4d",
   "metadata": {},
   "outputs": [],
   "source": []
  },
  {
   "cell_type": "code",
   "execution_count": null,
   "id": "ee0a143b",
   "metadata": {},
   "outputs": [],
   "source": [
    "# Two further shorter versions\n",
    "# 1. Using the map function"
   ]
  },
  {
   "cell_type": "code",
   "execution_count": 37,
   "id": "c152ecd9",
   "metadata": {},
   "outputs": [
    {
     "name": "stdout",
     "output_type": "stream",
     "text": [
      "10 20 30 40\n",
      "[10, 20, 30, 40]\n"
     ]
    }
   ],
   "source": [
    "l = list(map(int, input().split()))\n",
    "print(l)"
   ]
  },
  {
   "cell_type": "code",
   "execution_count": 40,
   "id": "1d0dc7e2",
   "metadata": {},
   "outputs": [
    {
     "name": "stdout",
     "output_type": "stream",
     "text": [
      "10 20 30 40\n",
      "[10, 20, 30, 40]\n"
     ]
    }
   ],
   "source": [
    "# 2. Using list comprehension\n",
    "l = [int(x) for x in input().split()]\n",
    "print(l)"
   ]
  },
  {
   "cell_type": "code",
   "execution_count": null,
   "id": "4a27bdc3",
   "metadata": {},
   "outputs": [],
   "source": []
  },
  {
   "cell_type": "code",
   "execution_count": null,
   "id": "3cd8cb5c",
   "metadata": {},
   "outputs": [],
   "source": []
  },
  {
   "cell_type": "markdown",
   "id": "77ebf24b",
   "metadata": {},
   "source": [
    "#### Quiz 1\n",
    "```py\n",
    "s = \"1 2 3 4\"\n",
    "print(s.split())\n",
    "```"
   ]
  },
  {
   "cell_type": "code",
   "execution_count": 41,
   "id": "615a2bcb",
   "metadata": {},
   "outputs": [
    {
     "name": "stdout",
     "output_type": "stream",
     "text": [
      "['1', '2', '3', '4']\n"
     ]
    }
   ],
   "source": [
    "s = \"1 2 3 4\"\n",
    "print(s.split())"
   ]
  },
  {
   "cell_type": "code",
   "execution_count": null,
   "id": "244d11de",
   "metadata": {},
   "outputs": [],
   "source": [
    "# List of strings"
   ]
  },
  {
   "cell_type": "code",
   "execution_count": null,
   "id": "c80e4d06",
   "metadata": {},
   "outputs": [],
   "source": []
  },
  {
   "cell_type": "markdown",
   "id": "a8a825b2",
   "metadata": {},
   "source": [
    "# List Slicing\n",
    "![](https://scaler.com/topics/images/list-slicing-in-python.webp)"
   ]
  },
  {
   "cell_type": "code",
   "execution_count": null,
   "id": "65f71cb4",
   "metadata": {},
   "outputs": [],
   "source": [
    "# Slicing allows to get a portion of the list"
   ]
  },
  {
   "cell_type": "code",
   "execution_count": 42,
   "id": "8a76fe17",
   "metadata": {},
   "outputs": [],
   "source": [
    "l = [10, 20, 30, 40, 50, 60]"
   ]
  },
  {
   "cell_type": "code",
   "execution_count": 43,
   "id": "7577fae9",
   "metadata": {},
   "outputs": [
    {
     "name": "stdout",
     "output_type": "stream",
     "text": [
      "[20, 30, 40]\n"
     ]
    }
   ],
   "source": [
    "print(l[1:4])"
   ]
  },
  {
   "cell_type": "code",
   "execution_count": null,
   "id": "5a465710",
   "metadata": {},
   "outputs": [],
   "source": []
  },
  {
   "cell_type": "code",
   "execution_count": null,
   "id": "7770f068",
   "metadata": {},
   "outputs": [],
   "source": []
  },
  {
   "cell_type": "markdown",
   "id": "1f3f90e4",
   "metadata": {},
   "source": [
    "#### Quiz 2\n",
    "```\n",
    "nums = [1, 1, 2, 3, 5, 8, 13]\n",
    "What is the result of nums[1:5]?\n",
    "```"
   ]
  },
  {
   "cell_type": "code",
   "execution_count": 44,
   "id": "28a84900",
   "metadata": {},
   "outputs": [
    {
     "name": "stdout",
     "output_type": "stream",
     "text": [
      "[1, 2, 3, 5]\n"
     ]
    }
   ],
   "source": [
    "nums = [1, 1, 2, 3, 5, 8, 13]\n",
    "print(nums[1:5])"
   ]
  },
  {
   "cell_type": "code",
   "execution_count": null,
   "id": "5f14e9f3",
   "metadata": {},
   "outputs": [],
   "source": []
  },
  {
   "cell_type": "code",
   "execution_count": null,
   "id": "2887659c",
   "metadata": {},
   "outputs": [],
   "source": []
  },
  {
   "cell_type": "markdown",
   "id": "d3177bd5",
   "metadata": {},
   "source": [
    "#### Quiz 3\n",
    "```py\n",
    "l = [10, 2, 5, 3, 6]  \n",
    "l[0:5:2]\n",
    "```"
   ]
  },
  {
   "cell_type": "code",
   "execution_count": 45,
   "id": "9902a9da",
   "metadata": {},
   "outputs": [
    {
     "name": "stdout",
     "output_type": "stream",
     "text": [
      "[10, 5, 6]\n"
     ]
    }
   ],
   "source": [
    "l = [10, 2, 5, 3, 6]\n",
    "print(l[0:5:2])"
   ]
  },
  {
   "cell_type": "code",
   "execution_count": null,
   "id": "a0d91175",
   "metadata": {},
   "outputs": [],
   "source": []
  },
  {
   "cell_type": "code",
   "execution_count": null,
   "id": "2a02f473",
   "metadata": {},
   "outputs": [],
   "source": []
  },
  {
   "cell_type": "code",
   "execution_count": null,
   "id": "5e8aee0e",
   "metadata": {},
   "outputs": [],
   "source": []
  },
  {
   "cell_type": "markdown",
   "id": "d835cabe",
   "metadata": {},
   "source": [
    "#### Quiz 4\n",
    "nums = [0, 25, 50, 75, 100]   \\\n",
    "The result of evaluating nums[0:5:2] is [25, 75]."
   ]
  },
  {
   "cell_type": "code",
   "execution_count": 46,
   "id": "7f4e964b",
   "metadata": {},
   "outputs": [
    {
     "name": "stdout",
     "output_type": "stream",
     "text": [
      "[0, 50, 100]\n"
     ]
    }
   ],
   "source": [
    "nums = [0, 25, 50, 75, 100]\n",
    "print(nums[0:5:2])"
   ]
  },
  {
   "cell_type": "code",
   "execution_count": 48,
   "id": "00d0e6f9",
   "metadata": {},
   "outputs": [
    {
     "name": "stdout",
     "output_type": "stream",
     "text": [
      "[25, 75]\n"
     ]
    }
   ],
   "source": [
    "print(nums[1:5:2])"
   ]
  },
  {
   "cell_type": "code",
   "execution_count": 49,
   "id": "2f352f13",
   "metadata": {},
   "outputs": [
    {
     "name": "stdout",
     "output_type": "stream",
     "text": [
      "[25, 75]\n"
     ]
    }
   ],
   "source": [
    "print(nums[1:4:2])"
   ]
  },
  {
   "cell_type": "code",
   "execution_count": null,
   "id": "0b646a92",
   "metadata": {},
   "outputs": [],
   "source": []
  },
  {
   "cell_type": "code",
   "execution_count": null,
   "id": "04f6ce21",
   "metadata": {},
   "outputs": [],
   "source": []
  },
  {
   "cell_type": "code",
   "execution_count": null,
   "id": "1e2a736d",
   "metadata": {},
   "outputs": [],
   "source": []
  },
  {
   "cell_type": "markdown",
   "id": "3bf3ee71",
   "metadata": {},
   "source": [
    "#### Quiz 5\n",
    "nums = [1, 1, 2, 3, 5, 8, 13] \\\n",
    "What is the result of nums[1:5:1]?"
   ]
  },
  {
   "cell_type": "code",
   "execution_count": 50,
   "id": "6a509088",
   "metadata": {},
   "outputs": [
    {
     "name": "stdout",
     "output_type": "stream",
     "text": [
      "[1, 2, 3, 5]\n"
     ]
    }
   ],
   "source": [
    "nums = [1, 1, 2, 3, 5, 8, 13] \n",
    "print(nums[1:5:1])"
   ]
  },
  {
   "cell_type": "code",
   "execution_count": null,
   "id": "3c90bd7f",
   "metadata": {},
   "outputs": [],
   "source": []
  },
  {
   "cell_type": "code",
   "execution_count": null,
   "id": "63282774",
   "metadata": {},
   "outputs": [],
   "source": []
  },
  {
   "cell_type": "code",
   "execution_count": 51,
   "id": "b3d7e8d0",
   "metadata": {},
   "outputs": [
    {
     "name": "stdout",
     "output_type": "stream",
     "text": [
      "[10, 20, 30]\n"
     ]
    }
   ],
   "source": [
    "l = [10, 20, 30, 40, 50, 60]\n",
    "print(l[:3])"
   ]
  },
  {
   "cell_type": "code",
   "execution_count": null,
   "id": "cfac78a7",
   "metadata": {},
   "outputs": [],
   "source": []
  },
  {
   "cell_type": "code",
   "execution_count": 52,
   "id": "a0a3e1a0",
   "metadata": {},
   "outputs": [
    {
     "name": "stdout",
     "output_type": "stream",
     "text": [
      "[30, 40, 50, 60]\n"
     ]
    }
   ],
   "source": [
    "l = [10, 20, 30, 40, 50, 60]\n",
    "print(l[2:])"
   ]
  },
  {
   "cell_type": "code",
   "execution_count": null,
   "id": "ae11a892",
   "metadata": {},
   "outputs": [],
   "source": []
  },
  {
   "cell_type": "code",
   "execution_count": null,
   "id": "384fcccb",
   "metadata": {},
   "outputs": [],
   "source": []
  },
  {
   "cell_type": "markdown",
   "id": "93d24617",
   "metadata": {},
   "source": [
    "#### Quiz 6\n",
    "nums = [1, 1, 2, 3, 5, 8, 13] \\\n",
    "What is the result of nums[:5]?"
   ]
  },
  {
   "cell_type": "code",
   "execution_count": 53,
   "id": "eb813730",
   "metadata": {},
   "outputs": [
    {
     "name": "stdout",
     "output_type": "stream",
     "text": [
      "[1, 1, 2, 3, 5]\n"
     ]
    }
   ],
   "source": [
    "nums = [1, 1, 2, 3, 5, 8, 13] \n",
    "print(nums[:5])"
   ]
  },
  {
   "cell_type": "code",
   "execution_count": null,
   "id": "b1370690",
   "metadata": {},
   "outputs": [],
   "source": []
  },
  {
   "cell_type": "code",
   "execution_count": null,
   "id": "47881f0b",
   "metadata": {},
   "outputs": [],
   "source": []
  },
  {
   "cell_type": "code",
   "execution_count": null,
   "id": "167c9c3f",
   "metadata": {},
   "outputs": [],
   "source": []
  },
  {
   "cell_type": "markdown",
   "id": "cdfce3e3",
   "metadata": {},
   "source": [
    "#### Quiz 7\n",
    "```py\n",
    "l = [2, 4, 5, 7, 8]  \n",
    "print(l[5:0])\n",
    "```"
   ]
  },
  {
   "cell_type": "code",
   "execution_count": 54,
   "id": "7b8ffa40",
   "metadata": {},
   "outputs": [
    {
     "name": "stdout",
     "output_type": "stream",
     "text": [
      "[]\n"
     ]
    }
   ],
   "source": [
    "l = [2, 4, 5, 7, 8]  \n",
    "print(l[5:0])"
   ]
  },
  {
   "cell_type": "code",
   "execution_count": null,
   "id": "4681051d",
   "metadata": {},
   "outputs": [],
   "source": []
  },
  {
   "cell_type": "code",
   "execution_count": null,
   "id": "8ee1ee8d",
   "metadata": {},
   "outputs": [],
   "source": []
  },
  {
   "cell_type": "code",
   "execution_count": null,
   "id": "4ae74508",
   "metadata": {},
   "outputs": [],
   "source": []
  },
  {
   "cell_type": "code",
   "execution_count": null,
   "id": "cb5894c2",
   "metadata": {},
   "outputs": [],
   "source": []
  },
  {
   "cell_type": "code",
   "execution_count": 57,
   "id": "46ae834c",
   "metadata": {},
   "outputs": [
    {
     "name": "stdout",
     "output_type": "stream",
     "text": [
      "[20, 30, 40, 50]\n"
     ]
    }
   ],
   "source": [
    "l = [10, 20, 30, 40, 50, 60]\n",
    "print(l[-5:-1])"
   ]
  },
  {
   "cell_type": "code",
   "execution_count": null,
   "id": "469c972c",
   "metadata": {},
   "outputs": [],
   "source": []
  },
  {
   "cell_type": "code",
   "execution_count": null,
   "id": "e28f83de",
   "metadata": {},
   "outputs": [],
   "source": []
  },
  {
   "cell_type": "code",
   "execution_count": null,
   "id": "d1bca297",
   "metadata": {},
   "outputs": [],
   "source": []
  },
  {
   "cell_type": "markdown",
   "id": "0b2bd807",
   "metadata": {},
   "source": [
    "#### Quiz 8\n",
    "```py\n",
    "nums = [1, 1, 2, 3, 5, 8, 13]  \n",
    "nums[-5:-2]\n",
    "```"
   ]
  },
  {
   "cell_type": "code",
   "execution_count": 58,
   "id": "20b553ea",
   "metadata": {},
   "outputs": [
    {
     "name": "stdout",
     "output_type": "stream",
     "text": [
      "[2, 3, 5]\n"
     ]
    }
   ],
   "source": [
    "nums = [1, 1, 2, 3, 5, 8, 13]  \n",
    "print(nums[-5:-2])"
   ]
  },
  {
   "cell_type": "code",
   "execution_count": 59,
   "id": "8a95090c",
   "metadata": {},
   "outputs": [
    {
     "name": "stdout",
     "output_type": "stream",
     "text": [
      "[2, 3, 5]\n"
     ]
    }
   ],
   "source": [
    "print(nums[2:5])"
   ]
  },
  {
   "cell_type": "code",
   "execution_count": null,
   "id": "c021e2a9",
   "metadata": {},
   "outputs": [],
   "source": []
  },
  {
   "cell_type": "code",
   "execution_count": null,
   "id": "b387edb7",
   "metadata": {},
   "outputs": [],
   "source": []
  },
  {
   "cell_type": "markdown",
   "id": "c29b79ad",
   "metadata": {},
   "source": [
    "#### Quiz 9\n",
    "```py\n",
    "l = [2, 4, 5, 7, 8]  \n",
    "print(l[-3:])\n",
    "```"
   ]
  },
  {
   "cell_type": "code",
   "execution_count": 60,
   "id": "e3340c3d",
   "metadata": {},
   "outputs": [
    {
     "name": "stdout",
     "output_type": "stream",
     "text": [
      "[5, 7, 8]\n"
     ]
    }
   ],
   "source": [
    "l = [2, 4, 5, 7, 8]  \n",
    "print(l[-3:])"
   ]
  },
  {
   "cell_type": "code",
   "execution_count": 61,
   "id": "1a943be8",
   "metadata": {},
   "outputs": [
    {
     "name": "stdout",
     "output_type": "stream",
     "text": [
      "[5, 7, 8]\n"
     ]
    }
   ],
   "source": [
    "print(l[2:])"
   ]
  },
  {
   "cell_type": "code",
   "execution_count": null,
   "id": "cac9ea3e",
   "metadata": {},
   "outputs": [],
   "source": []
  },
  {
   "cell_type": "code",
   "execution_count": null,
   "id": "948f5b7b",
   "metadata": {},
   "outputs": [],
   "source": []
  },
  {
   "cell_type": "code",
   "execution_count": 62,
   "id": "6fc523f6",
   "metadata": {},
   "outputs": [
    {
     "name": "stdout",
     "output_type": "stream",
     "text": [
      "[50, 30]\n"
     ]
    }
   ],
   "source": [
    "l = [10, 20, 30, 40, 50, 60]\n",
    "print(l[4:1:-2])"
   ]
  },
  {
   "cell_type": "code",
   "execution_count": 63,
   "id": "edf177be",
   "metadata": {},
   "outputs": [
    {
     "name": "stdout",
     "output_type": "stream",
     "text": [
      "[60, 30]\n"
     ]
    }
   ],
   "source": [
    "l = [10, 20, 30, 40, 50, 60]\n",
    "print(l[5:0:-3])"
   ]
  },
  {
   "cell_type": "code",
   "execution_count": null,
   "id": "6d4636be",
   "metadata": {},
   "outputs": [],
   "source": []
  },
  {
   "cell_type": "code",
   "execution_count": 64,
   "id": "a5729f62",
   "metadata": {},
   "outputs": [
    {
     "name": "stdout",
     "output_type": "stream",
     "text": [
      "[40, 30, 20, 10]\n"
     ]
    }
   ],
   "source": [
    "l = [10, 20, 30, 40, 50, 60]\n",
    "print(l[3::-1])"
   ]
  },
  {
   "cell_type": "code",
   "execution_count": null,
   "id": "0d009769",
   "metadata": {},
   "outputs": [],
   "source": []
  },
  {
   "cell_type": "code",
   "execution_count": 65,
   "id": "4af427f6",
   "metadata": {},
   "outputs": [
    {
     "name": "stdout",
     "output_type": "stream",
     "text": [
      "[60, 50, 40]\n"
     ]
    }
   ],
   "source": [
    "l = [10, 20, 30, 40, 50, 60]\n",
    "print(l[:2:-1])"
   ]
  },
  {
   "cell_type": "code",
   "execution_count": null,
   "id": "9b77a694",
   "metadata": {},
   "outputs": [],
   "source": []
  },
  {
   "cell_type": "code",
   "execution_count": null,
   "id": "a8c0f2b7",
   "metadata": {},
   "outputs": [],
   "source": []
  },
  {
   "cell_type": "markdown",
   "id": "ee34de12",
   "metadata": {},
   "source": [
    "#### Quiz 10\n",
    "```py\n",
    "l = [10, 2, 5, 3, 6]  \n",
    "l[::-2]\n",
    "```"
   ]
  },
  {
   "cell_type": "code",
   "execution_count": 66,
   "id": "3656bee7",
   "metadata": {},
   "outputs": [
    {
     "name": "stdout",
     "output_type": "stream",
     "text": [
      "[6, 5, 10]\n"
     ]
    }
   ],
   "source": [
    "l = [10, 2, 5, 3, 6]\n",
    "print(l[::-2])"
   ]
  },
  {
   "cell_type": "code",
   "execution_count": null,
   "id": "2ecfdfbc",
   "metadata": {},
   "outputs": [],
   "source": []
  },
  {
   "cell_type": "code",
   "execution_count": 67,
   "id": "921538f0",
   "metadata": {},
   "outputs": [
    {
     "name": "stdout",
     "output_type": "stream",
     "text": [
      "[60, 50, 40, 30, 20, 10]\n"
     ]
    }
   ],
   "source": [
    "l = [10, 20, 30, 40, 50, 60]\n",
    "print(l[::-1])"
   ]
  },
  {
   "cell_type": "code",
   "execution_count": null,
   "id": "44275f0e",
   "metadata": {},
   "outputs": [],
   "source": []
  },
  {
   "cell_type": "code",
   "execution_count": null,
   "id": "813306df",
   "metadata": {},
   "outputs": [],
   "source": []
  },
  {
   "cell_type": "code",
   "execution_count": null,
   "id": "a756fbf0",
   "metadata": {},
   "outputs": [],
   "source": []
  },
  {
   "cell_type": "code",
   "execution_count": null,
   "id": "e6a1139b",
   "metadata": {},
   "outputs": [],
   "source": []
  },
  {
   "cell_type": "code",
   "execution_count": null,
   "id": "5e9d7b2d",
   "metadata": {},
   "outputs": [],
   "source": []
  },
  {
   "cell_type": "markdown",
   "id": "26998c32",
   "metadata": {},
   "source": [
    "## Reverse of a list\n",
    "![](https://scaler.com/topics/images/reversed-in-python.webp)"
   ]
  },
  {
   "cell_type": "code",
   "execution_count": 70,
   "id": "3cde6c29",
   "metadata": {},
   "outputs": [
    {
     "name": "stdout",
     "output_type": "stream",
     "text": [
      "[60, 50, 40, 30, 20, 10]\n",
      "[10, 20, 30, 40, 50, 60]\n"
     ]
    }
   ],
   "source": [
    "l = [10, 20, 30, 40, 50, 60]\n",
    "print(l[::-1])\n",
    "print(l)"
   ]
  },
  {
   "cell_type": "code",
   "execution_count": null,
   "id": "1a5834df",
   "metadata": {},
   "outputs": [],
   "source": []
  },
  {
   "cell_type": "code",
   "execution_count": 69,
   "id": "352eeea8",
   "metadata": {},
   "outputs": [
    {
     "name": "stdout",
     "output_type": "stream",
     "text": [
      "[60, 50, 40, 30, 20, 10]\n"
     ]
    }
   ],
   "source": [
    "l = [10, 20, 30, 40, 50, 60]\n",
    "l.reverse()\n",
    "print(l)\n",
    "# inplace reverse - reversing the same list itself"
   ]
  },
  {
   "cell_type": "code",
   "execution_count": null,
   "id": "dc518ae8",
   "metadata": {},
   "outputs": [],
   "source": []
  },
  {
   "cell_type": "code",
   "execution_count": null,
   "id": "0aa912bd",
   "metadata": {},
   "outputs": [],
   "source": []
  },
  {
   "attachments": {
    "ry69u7oa1rsy.png": {
     "image/png": "[encoded data removed]"
    }
   },
   "cell_type": "markdown",
   "id": "555afe14",
   "metadata": {},
   "source": [
    "![ry69u7oa1rsy.png](attachment:ry69u7oa1rsy.png)"
   ]
  },
  {
   "cell_type": "code",
   "execution_count": null,
   "id": "63bd43de",
   "metadata": {},
   "outputs": [],
   "source": []
  },
  {
   "cell_type": "code",
   "execution_count": null,
   "id": "d0ab741c",
   "metadata": {},
   "outputs": [],
   "source": []
  },
  {
   "cell_type": "code",
   "execution_count": null,
   "id": "a1d76540",
   "metadata": {},
   "outputs": [],
   "source": []
  },
  {
   "cell_type": "code",
   "execution_count": null,
   "id": "c9f2c0a6",
   "metadata": {},
   "outputs": [],
   "source": []
  },
  {
   "cell_type": "markdown",
   "id": "43961b55",
   "metadata": {},
   "source": [
    "# Bonus Reading Material\n",
    "- List Methods in Python - https://www.scaler.com/topics/list-methods-in-python/\n",
    "- Linear Search - https://www.scaler.com/topics/data-structures/linear-search-algorithm/\n",
    "- Python List Index Method - https://www.scaler.com/topics/python-list-index-method/\n",
    "- index() in Python - https://www.scaler.com/topics/index-in-python/\n",
    "- How to Find Index of Element in List Python? - https://www.scaler.com/topics/find-index-of-element-in-list-python/\n",
    "- map() in Python - https://www.scaler.com/topics/map-function-in-python/\n",
    "- List Input In Python - https://www.scaler.com/topics/list-input-in-python/\n",
    "- What is List Slicing in Python? - https://www.scaler.com/topics/list-slicing-in-python/\n",
    "- Python List Comparison - https://www.scaler.com/topics/python-list-comparison/\n",
    "- Python reversed() Function - https://www.scaler.com/topics/reversed-in-python/\n",
    "- How to Reverse a List in Python? - https://www.scaler.com/topics/how-to-reverse-a-list-in-python/"
   ]
  },
  {
   "cell_type": "code",
   "execution_count": null,
   "id": "098743ad",
   "metadata": {},
   "outputs": [],
   "source": []
  },
  {
   "cell_type": "code",
   "execution_count": null,
   "id": "75fe897a",
   "metadata": {},
   "outputs": [],
   "source": []
  },
  {
   "cell_type": "markdown",
   "id": "58937560",
   "metadata": {},
   "source": [
    "# Doubts"
   ]
  },
  {
   "cell_type": "code",
   "execution_count": 71,
   "id": "3737567d",
   "metadata": {},
   "outputs": [
    {
     "name": "stdout",
     "output_type": "stream",
     "text": [
      "10 20 30\n"
     ]
    },
    {
     "ename": "ValueError",
     "evalue": "invalid literal for int() with base 10: '10 20 30'",
     "output_type": "error",
     "traceback": [
      "\u001b[0;31m---------------------------------------------------------------------------\u001b[0m",
      "\u001b[0;31mValueError\u001b[0m                                Traceback (most recent call last)",
      "\u001b[0;32m/var/folders/jn/1bsrct314hv5xmfm7vrcdrzc0000gn/T/ipykernel_26690/2555344657.py\u001b[0m in \u001b[0;36m<module>\u001b[0;34m\u001b[0m\n\u001b[0;32m----> 1\u001b[0;31m \u001b[0ml\u001b[0m \u001b[0;34m=\u001b[0m \u001b[0mint\u001b[0m\u001b[0;34m(\u001b[0m\u001b[0minput\u001b[0m\u001b[0;34m(\u001b[0m\u001b[0;34m)\u001b[0m\u001b[0;34m)\u001b[0m\u001b[0;34m\u001b[0m\u001b[0;34m\u001b[0m\u001b[0m\n\u001b[0m",
      "\u001b[0;31mValueError\u001b[0m: invalid literal for int() with base 10: '10 20 30'"
     ]
    }
   ],
   "source": [
    "l = int(input())"
   ]
  },
  {
   "cell_type": "code",
   "execution_count": null,
   "id": "ec142b29",
   "metadata": {},
   "outputs": [],
   "source": []
  },
  {
   "cell_type": "code",
   "execution_count": null,
   "id": "58f4aa24",
   "metadata": {},
   "outputs": [],
   "source": []
  },
  {
   "cell_type": "code",
   "execution_count": 75,
   "id": "23eeedbe",
   "metadata": {},
   "outputs": [
    {
     "name": "stdout",
     "output_type": "stream",
     "text": [
      "[30, 40]\n"
     ]
    }
   ],
   "source": [
    "l = [10, 20, 30, 40, 50, 60]\n",
    "\n",
    "# print(l[2:4])\n",
    "# print(l[-2:-4])\n",
    "print(l[-4:-2])"
   ]
  },
  {
   "cell_type": "code",
   "execution_count": null,
   "id": "e33f4567",
   "metadata": {},
   "outputs": [],
   "source": [
    "# Default value for step is +1"
   ]
  },
  {
   "cell_type": "code",
   "execution_count": null,
   "id": "060c7b3d",
   "metadata": {},
   "outputs": [],
   "source": []
  },
  {
   "cell_type": "code",
   "execution_count": 76,
   "id": "68fbc127",
   "metadata": {},
   "outputs": [
    {
     "ename": "ValueError",
     "evalue": "slice step cannot be zero",
     "output_type": "error",
     "traceback": [
      "\u001b[0;31m---------------------------------------------------------------------------\u001b[0m",
      "\u001b[0;31mValueError\u001b[0m                                Traceback (most recent call last)",
      "\u001b[0;32m/var/folders/jn/1bsrct314hv5xmfm7vrcdrzc0000gn/T/ipykernel_26690/3940262473.py\u001b[0m in \u001b[0;36m<module>\u001b[0;34m\u001b[0m\n\u001b[1;32m      1\u001b[0m \u001b[0ml\u001b[0m \u001b[0;34m=\u001b[0m \u001b[0;34m[\u001b[0m\u001b[0;36m10\u001b[0m\u001b[0;34m,\u001b[0m \u001b[0;36m20\u001b[0m\u001b[0;34m,\u001b[0m \u001b[0;36m30\u001b[0m\u001b[0;34m,\u001b[0m \u001b[0;36m40\u001b[0m\u001b[0;34m,\u001b[0m \u001b[0;36m50\u001b[0m\u001b[0;34m,\u001b[0m \u001b[0;36m60\u001b[0m\u001b[0;34m]\u001b[0m\u001b[0;34m\u001b[0m\u001b[0;34m\u001b[0m\u001b[0m\n\u001b[0;32m----> 2\u001b[0;31m \u001b[0mprint\u001b[0m\u001b[0;34m(\u001b[0m\u001b[0ml\u001b[0m\u001b[0;34m[\u001b[0m\u001b[0;36m1\u001b[0m\u001b[0;34m:\u001b[0m\u001b[0;36m5\u001b[0m\u001b[0;34m:\u001b[0m\u001b[0;36m0\u001b[0m\u001b[0;34m]\u001b[0m\u001b[0;34m)\u001b[0m\u001b[0;34m\u001b[0m\u001b[0;34m\u001b[0m\u001b[0m\n\u001b[0m",
      "\u001b[0;31mValueError\u001b[0m: slice step cannot be zero"
     ]
    }
   ],
   "source": [
    "l = [10, 20, 30, 40, 50, 60]\n",
    "print(l[1:5:0])"
   ]
  },
  {
   "cell_type": "code",
   "execution_count": 77,
   "id": "6fc80235",
   "metadata": {},
   "outputs": [
    {
     "name": "stdout",
     "output_type": "stream",
     "text": [
      "[]\n"
     ]
    }
   ],
   "source": [
    "print(l[0:-1:-1])"
   ]
  },
  {
   "cell_type": "code",
   "execution_count": 78,
   "id": "9c71dc6a",
   "metadata": {},
   "outputs": [
    {
     "name": "stdout",
     "output_type": "stream",
     "text": [
      "[10, 20, 30, 40, 50]\n"
     ]
    }
   ],
   "source": [
    "print(l[0:-1:1])"
   ]
  },
  {
   "cell_type": "code",
   "execution_count": null,
   "id": "1db9d70c",
   "metadata": {},
   "outputs": [],
   "source": []
  }
 ],
 "metadata": {
  "kernelspec": {
   "display_name": "Python 3 (ipykernel)",
   "language": "python",
   "name": "python3"
  },
  "language_info": {
   "codemirror_mode": {
    "name": "ipython",
    "version": 3
   },
   "file_extension": ".py",
   "mimetype": "text/x-python",
   "name": "python",
   "nbconvert_exporter": "python",
   "pygments_lexer": "ipython3",
   "version": "3.9.18"
  }
 },
 "nbformat": 4,
 "nbformat_minor": 5
}
