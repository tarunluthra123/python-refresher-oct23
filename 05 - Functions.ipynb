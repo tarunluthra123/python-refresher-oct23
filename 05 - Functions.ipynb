{
 "cells": [
  {
   "cell_type": "markdown",
   "id": "d7242dec",
   "metadata": {},
   "source": [
    "# Functions"
   ]
  },
  {
   "cell_type": "code",
   "execution_count": 1,
   "id": "2c7ce4fb",
   "metadata": {},
   "outputs": [
    {
     "name": "stdout",
     "output_type": "stream",
     "text": [
      "Boil some water\n",
      "Add some tea leaves, sugar and milk\n",
      "Heat it for a few mins\n",
      "Boil some water\n",
      "Add some tea leaves, sugar and milk\n",
      "Heat it for a few mins\n",
      "Boil some water\n",
      "Add some tea leaves, sugar and milk\n",
      "Heat it for a few mins\n",
      "Boil some milk\n",
      "Add coffee powder\n",
      "Boil some water\n",
      "Add some tea leaves, sugar and milk\n",
      "Heat it for a few mins\n",
      "Boil some milk\n",
      "Add coffee powder\n"
     ]
    }
   ],
   "source": [
    "print(\"Boil some water\")\n",
    "print(\"Add some tea leaves, sugar and milk\")\n",
    "print(\"Heat it for a few mins\")\n",
    "\n",
    "print(\"Boil some water\")\n",
    "print(\"Add some tea leaves, sugar, ginger and milk\")\n",
    "print(\"Heat it for a few mins\")\n",
    "\n",
    "print(\"Boil some water\")\n",
    "print(\"Add some tea leaves, sugar and milk\")\n",
    "print(\"Heat it for a few mins\")\n",
    "\n",
    "print(\"Boil some milk\")\n",
    "print(\"Add coffee powder\")\n",
    "\n",
    "print(\"Boil some water\")\n",
    "print(\"Add some tea leaves, sugar and milk\")\n",
    "print(\"Heat it for a few mins\")\n",
    "\n",
    "print(\"Boil some milk\")\n",
    "print(\"Add coffee powder\")"
   ]
  },
  {
   "cell_type": "code",
   "execution_count": null,
   "id": "fe1a7450",
   "metadata": {},
   "outputs": [],
   "source": [
    "# Redundant code\n",
    "# harder to maintain\n",
    "# low readability"
   ]
  },
  {
   "cell_type": "code",
   "execution_count": null,
   "id": "b9e660a3",
   "metadata": {},
   "outputs": [],
   "source": []
  },
  {
   "cell_type": "code",
   "execution_count": 8,
   "id": "c45203db",
   "metadata": {},
   "outputs": [],
   "source": [
    "def tea():\n",
    "    print(\"Boil some water\")\n",
    "    print(\"Add some tea leaves, sugar, ginger and milk\")\n",
    "    print(\"Heat it for a few mins\")"
   ]
  },
  {
   "cell_type": "code",
   "execution_count": 3,
   "id": "049a69a8",
   "metadata": {},
   "outputs": [],
   "source": [
    "def coffee():\n",
    "    print(\"Boil some milk\")\n",
    "    print(\"Add coffee powder\")"
   ]
  },
  {
   "cell_type": "code",
   "execution_count": 9,
   "id": "35f6f648",
   "metadata": {},
   "outputs": [
    {
     "name": "stdout",
     "output_type": "stream",
     "text": [
      "Boil some water\n",
      "Add some tea leaves, sugar, ginger and milk\n",
      "Heat it for a few mins\n",
      "Boil some water\n",
      "Add some tea leaves, sugar, ginger and milk\n",
      "Heat it for a few mins\n",
      "Boil some milk\n",
      "Add coffee powder\n",
      "Boil some water\n",
      "Add some tea leaves, sugar, ginger and milk\n",
      "Heat it for a few mins\n",
      "Boil some milk\n",
      "Add coffee powder\n"
     ]
    }
   ],
   "source": [
    "tea()\n",
    "tea()\n",
    "coffee()\n",
    "tea()\n",
    "coffee()"
   ]
  },
  {
   "cell_type": "code",
   "execution_count": null,
   "id": "64cb335c",
   "metadata": {},
   "outputs": [],
   "source": []
  },
  {
   "cell_type": "code",
   "execution_count": null,
   "id": "5d5071e3",
   "metadata": {},
   "outputs": [],
   "source": []
  },
  {
   "cell_type": "code",
   "execution_count": null,
   "id": "50927c24",
   "metadata": {},
   "outputs": [],
   "source": []
  },
  {
   "cell_type": "markdown",
   "id": "1433d351",
   "metadata": {},
   "source": [
    "![](https://www.scaler.com/topics/media/python-functions-1024x495.webp)"
   ]
  },
  {
   "cell_type": "code",
   "execution_count": null,
   "id": "0c5d08fe",
   "metadata": {},
   "outputs": [],
   "source": []
  },
  {
   "cell_type": "code",
   "execution_count": null,
   "id": "efd8969d",
   "metadata": {},
   "outputs": [],
   "source": []
  },
  {
   "cell_type": "code",
   "execution_count": null,
   "id": "1bd7e855",
   "metadata": {},
   "outputs": [],
   "source": []
  },
  {
   "cell_type": "markdown",
   "id": "9be72a37",
   "metadata": {},
   "source": [
    "## Arguments / Parameters"
   ]
  },
  {
   "cell_type": "code",
   "execution_count": 11,
   "id": "59629ef7",
   "metadata": {},
   "outputs": [
    {
     "name": "stdout",
     "output_type": "stream",
     "text": [
      "Knock knock knock Penny\n"
     ]
    }
   ],
   "source": [
    "print(\"Knock knock knock\", \"Penny\")"
   ]
  },
  {
   "cell_type": "code",
   "execution_count": null,
   "id": "3a33bfd2",
   "metadata": {},
   "outputs": [],
   "source": []
  },
  {
   "cell_type": "code",
   "execution_count": 12,
   "id": "af8e5674",
   "metadata": {},
   "outputs": [],
   "source": [
    "def sheldon_knock(name):\n",
    "    print(\"Knock knock knock\", name)"
   ]
  },
  {
   "cell_type": "code",
   "execution_count": 13,
   "id": "1738aa12",
   "metadata": {},
   "outputs": [
    {
     "name": "stdout",
     "output_type": "stream",
     "text": [
      "Knock knock knock Leonard\n"
     ]
    }
   ],
   "source": [
    "sheldon_knock('Leonard')"
   ]
  },
  {
   "cell_type": "code",
   "execution_count": 14,
   "id": "9a1f946f",
   "metadata": {},
   "outputs": [
    {
     "name": "stdout",
     "output_type": "stream",
     "text": [
      "Knock knock knock Howard\n"
     ]
    }
   ],
   "source": [
    "sheldon_knock('Howard')\n",
    "# Internally, when the function was called, name = 'Howard'"
   ]
  },
  {
   "cell_type": "code",
   "execution_count": null,
   "id": "963898cf",
   "metadata": {},
   "outputs": [],
   "source": []
  },
  {
   "cell_type": "code",
   "execution_count": null,
   "id": "d0ab7b15",
   "metadata": {},
   "outputs": [],
   "source": []
  },
  {
   "cell_type": "code",
   "execution_count": 15,
   "id": "7e2fb0a8",
   "metadata": {},
   "outputs": [],
   "source": [
    "def speak(person, dialogue):\n",
    "    print(\"Person =\", person)\n",
    "    print(\"Dialogue =\", dialogue)"
   ]
  },
  {
   "cell_type": "code",
   "execution_count": 16,
   "id": "e94154eb",
   "metadata": {},
   "outputs": [
    {
     "name": "stdout",
     "output_type": "stream",
     "text": [
      "Person = Joey\n",
      "Dialogue = How are you doin ?\n"
     ]
    }
   ],
   "source": [
    "speak(\"Joey\", \"How are you doin ?\")"
   ]
  },
  {
   "cell_type": "code",
   "execution_count": 17,
   "id": "7cc0a357",
   "metadata": {},
   "outputs": [
    {
     "ename": "TypeError",
     "evalue": "speak() missing 1 required positional argument: 'dialogue'",
     "output_type": "error",
     "traceback": [
      "\u001b[0;31m---------------------------------------------------------------------------\u001b[0m",
      "\u001b[0;31mTypeError\u001b[0m                                 Traceback (most recent call last)",
      "\u001b[0;32m/var/folders/jn/1bsrct314hv5xmfm7vrcdrzc0000gn/T/ipykernel_2371/1121737531.py\u001b[0m in \u001b[0;36m<module>\u001b[0;34m\u001b[0m\n\u001b[0;32m----> 1\u001b[0;31m \u001b[0mspeak\u001b[0m\u001b[0;34m(\u001b[0m\u001b[0;34m\"Joey\"\u001b[0m\u001b[0;34m)\u001b[0m\u001b[0;34m\u001b[0m\u001b[0;34m\u001b[0m\u001b[0m\n\u001b[0m",
      "\u001b[0;31mTypeError\u001b[0m: speak() missing 1 required positional argument: 'dialogue'"
     ]
    }
   ],
   "source": [
    "speak(\"Joey\")"
   ]
  },
  {
   "cell_type": "code",
   "execution_count": 18,
   "id": "34e6079a",
   "metadata": {},
   "outputs": [
    {
     "ename": "TypeError",
     "evalue": "speak() takes 2 positional arguments but 3 were given",
     "output_type": "error",
     "traceback": [
      "\u001b[0;31m---------------------------------------------------------------------------\u001b[0m",
      "\u001b[0;31mTypeError\u001b[0m                                 Traceback (most recent call last)",
      "\u001b[0;32m/var/folders/jn/1bsrct314hv5xmfm7vrcdrzc0000gn/T/ipykernel_2371/3526931105.py\u001b[0m in \u001b[0;36m<module>\u001b[0;34m\u001b[0m\n\u001b[0;32m----> 1\u001b[0;31m \u001b[0mspeak\u001b[0m\u001b[0;34m(\u001b[0m\u001b[0;34m\"Joey\"\u001b[0m\u001b[0;34m,\u001b[0m \u001b[0;34m\"How you doin?\"\u001b[0m\u001b[0;34m,\u001b[0m \u001b[0;34m'Chandler'\u001b[0m\u001b[0;34m)\u001b[0m\u001b[0;34m\u001b[0m\u001b[0;34m\u001b[0m\u001b[0m\n\u001b[0m",
      "\u001b[0;31mTypeError\u001b[0m: speak() takes 2 positional arguments but 3 were given"
     ]
    }
   ],
   "source": [
    "speak(\"Joey\", \"How you doin?\", 'Chandler')"
   ]
  },
  {
   "cell_type": "code",
   "execution_count": null,
   "id": "2bc5acad",
   "metadata": {},
   "outputs": [],
   "source": []
  },
  {
   "cell_type": "code",
   "execution_count": null,
   "id": "b2c9a0ea",
   "metadata": {},
   "outputs": [],
   "source": []
  },
  {
   "cell_type": "markdown",
   "id": "59a56f9a",
   "metadata": {},
   "source": [
    "#### Quiz 1\n",
    "```py\n",
    "def voldy(horcrux1, horcrux2, horcrux3, horcrux4):\n",
    "    print(horcrux3)\n",
    "    print(horcrux1)\n",
    "    print(horcrux4)\n",
    "    print(horcrux2)\n",
    "\n",
    "voldy(\"Hufflepuff's Cup\", \"Harry Potter\",\n",
    "\"Tom Riddle's Diary\", \"Ravenclaw's Diadem\")\n",
    "```"
   ]
  },
  {
   "cell_type": "code",
   "execution_count": null,
   "id": "4e4d265f",
   "metadata": {},
   "outputs": [],
   "source": [
    "# horcrux1 = \"Hufflepuff's Cup\"\n",
    "# horcrux2 = \"Harry Potter\"\n",
    "# horcrux3 = \"Tom Riddle's Diary\"\n",
    "# horcrux4 = \"Ravenclaw's Diadem\""
   ]
  },
  {
   "cell_type": "code",
   "execution_count": null,
   "id": "dec00a79",
   "metadata": {},
   "outputs": [],
   "source": [
    "# Tom Riddle's Diary\n",
    "# Hufflepuff's Cup\n",
    "# Ravenclaw's Diadem\n",
    "# Harry Potter"
   ]
  },
  {
   "cell_type": "code",
   "execution_count": 19,
   "id": "6f28921e",
   "metadata": {},
   "outputs": [
    {
     "name": "stdout",
     "output_type": "stream",
     "text": [
      "Tom Riddle's Diary\n",
      "Hufflepuff's Cup\n",
      "Ravenclaw's Diadem\n",
      "Harry Potter\n"
     ]
    }
   ],
   "source": [
    "def voldy(horcrux1, horcrux2, horcrux3, horcrux4):\n",
    "    print(horcrux3)\n",
    "    print(horcrux1)\n",
    "    print(horcrux4)\n",
    "    print(horcrux2)\n",
    "\n",
    "voldy(\"Hufflepuff's Cup\", \"Harry Potter\",\n",
    "\"Tom Riddle's Diary\", \"Ravenclaw's Diadem\")"
   ]
  },
  {
   "cell_type": "code",
   "execution_count": null,
   "id": "a760807f",
   "metadata": {},
   "outputs": [],
   "source": []
  },
  {
   "cell_type": "code",
   "execution_count": null,
   "id": "74ed0c7d",
   "metadata": {},
   "outputs": [],
   "source": []
  },
  {
   "cell_type": "markdown",
   "id": "8b9c03d0",
   "metadata": {},
   "source": [
    "## Default Arguments"
   ]
  },
  {
   "cell_type": "code",
   "execution_count": 27,
   "id": "02a92aef",
   "metadata": {},
   "outputs": [],
   "source": [
    "def simple_interest(p, t, r=7):\n",
    "    print(p * r * t/100)"
   ]
  },
  {
   "cell_type": "code",
   "execution_count": 28,
   "id": "53d7be75",
   "metadata": {},
   "outputs": [
    {
     "name": "stdout",
     "output_type": "stream",
     "text": [
      "100.0\n"
     ]
    }
   ],
   "source": [
    "simple_interest(1000, 1, 10)\n",
    "# If some value for r is given (10 over here) then that value will be taken\n",
    "# default arg is meaningless in this case"
   ]
  },
  {
   "cell_type": "code",
   "execution_count": 29,
   "id": "b1dc4055",
   "metadata": {},
   "outputs": [
    {
     "name": "stdout",
     "output_type": "stream",
     "text": [
      "140.0\n"
     ]
    }
   ],
   "source": [
    "simple_interest(1000, 2)\n",
    "# Now when r value is not provided, it defaults to 7"
   ]
  },
  {
   "cell_type": "code",
   "execution_count": null,
   "id": "dbf914ce",
   "metadata": {},
   "outputs": [],
   "source": []
  },
  {
   "cell_type": "code",
   "execution_count": null,
   "id": "8027751b",
   "metadata": {},
   "outputs": [],
   "source": [
    "# In print, end='\\n' default\n",
    "\n",
    "# In range"
   ]
  },
  {
   "cell_type": "code",
   "execution_count": 31,
   "id": "0532197c",
   "metadata": {},
   "outputs": [
    {
     "name": "stdout",
     "output_type": "stream",
     "text": [
      "0 1 2 3 4\n",
      "3 4 5 6 7\n"
     ]
    }
   ],
   "source": [
    "print(*range(5))\n",
    "# start = 0, step = 1 (default)\n",
    "\n",
    "print(*range(3, 8))\n",
    "# step = 1 (default)"
   ]
  },
  {
   "cell_type": "code",
   "execution_count": null,
   "id": "df3ee526",
   "metadata": {},
   "outputs": [],
   "source": []
  },
  {
   "cell_type": "markdown",
   "id": "9d90918f",
   "metadata": {},
   "source": [
    "#### Quiz 2\n",
    "```py\n",
    "def power(x,e=1):\n",
    "    return x**e\n",
    "\n",
    "power(3, 3)\n",
    "```"
   ]
  },
  {
   "cell_type": "code",
   "execution_count": 32,
   "id": "daa8823e",
   "metadata": {},
   "outputs": [
    {
     "name": "stdout",
     "output_type": "stream",
     "text": [
      "27\n"
     ]
    }
   ],
   "source": [
    "def power(x, e=1):\n",
    "    print(x**e)\n",
    "\n",
    "power(3, 3)"
   ]
  },
  {
   "cell_type": "code",
   "execution_count": 33,
   "id": "1b011a2e",
   "metadata": {},
   "outputs": [
    {
     "name": "stdout",
     "output_type": "stream",
     "text": [
      "3\n"
     ]
    }
   ],
   "source": [
    "def power(x, e=1):\n",
    "    print(x**e)\n",
    "\n",
    "power(3)\n",
    "# 3 to power 1"
   ]
  },
  {
   "cell_type": "code",
   "execution_count": null,
   "id": "85e78ad6",
   "metadata": {},
   "outputs": [],
   "source": []
  },
  {
   "cell_type": "code",
   "execution_count": null,
   "id": "31bba513",
   "metadata": {},
   "outputs": [],
   "source": []
  },
  {
   "cell_type": "markdown",
   "id": "15050243",
   "metadata": {},
   "source": [
    "#### Quiz 3\n",
    "```py\n",
    "def print_date(d, m, y, style=0):\n",
    "    if style == 0:  # American\n",
    "        print(m, '/', d, '/', y)\n",
    "    elif style == 1:  # European\n",
    "        print(d, '/', m, '/', y)\n",
    "    else:\n",
    "        print('Invalid Style')\n",
    "print_date(30, 5, 2022)\n",
    "```"
   ]
  },
  {
   "cell_type": "code",
   "execution_count": 34,
   "id": "58f8810c",
   "metadata": {},
   "outputs": [
    {
     "name": "stdout",
     "output_type": "stream",
     "text": [
      "5 / 30 / 2022\n"
     ]
    }
   ],
   "source": [
    "def print_date(d, m, y, style=0):\n",
    "    if style == 0:  # American\n",
    "        print(m, '/', d, '/', y)\n",
    "    elif style == 1:  # European\n",
    "        print(d, '/', m, '/', y)\n",
    "    else:\n",
    "        print('Invalid Style')\n",
    "        \n",
    "        \n",
    "print_date(30, 5, 2022) # style = 0 (default)\n",
    "# 5/30/2022"
   ]
  },
  {
   "cell_type": "code",
   "execution_count": null,
   "id": "87c38ca4",
   "metadata": {},
   "outputs": [],
   "source": [
    "# dd/mm/yyyy - 1\n",
    "# mm/dd/yyyy - 0"
   ]
  },
  {
   "cell_type": "code",
   "execution_count": null,
   "id": "d3bd8f1e",
   "metadata": {},
   "outputs": [],
   "source": []
  },
  {
   "cell_type": "code",
   "execution_count": null,
   "id": "3021084a",
   "metadata": {},
   "outputs": [],
   "source": []
  },
  {
   "cell_type": "markdown",
   "id": "dd915039",
   "metadata": {},
   "source": [
    "## Keyword Arguments"
   ]
  },
  {
   "cell_type": "code",
   "execution_count": 35,
   "id": "1620a814",
   "metadata": {},
   "outputs": [],
   "source": [
    "def random(a, b, c, d):\n",
    "    print(a, b, c, d)"
   ]
  },
  {
   "cell_type": "code",
   "execution_count": 36,
   "id": "d265953c",
   "metadata": {},
   "outputs": [
    {
     "name": "stdout",
     "output_type": "stream",
     "text": [
      "4 2 6 1\n"
     ]
    }
   ],
   "source": [
    "# Positional argument\n",
    "random(4, 2, 6, 1)"
   ]
  },
  {
   "cell_type": "code",
   "execution_count": 37,
   "id": "a14b1073",
   "metadata": {},
   "outputs": [
    {
     "name": "stdout",
     "output_type": "stream",
     "text": [
      "4 2 1 9\n"
     ]
    }
   ],
   "source": [
    "# Keyword argument\n",
    "random(c=1, b=2, d=9, a=4)"
   ]
  },
  {
   "cell_type": "code",
   "execution_count": 38,
   "id": "a68afb14",
   "metadata": {},
   "outputs": [
    {
     "name": "stdout",
     "output_type": "stream",
     "text": [
      "3 2 5 9\n"
     ]
    }
   ],
   "source": [
    "# Positional => Keyword\n",
    "random(3, 2, d=9, c=5)"
   ]
  },
  {
   "cell_type": "code",
   "execution_count": 39,
   "id": "995a2219",
   "metadata": {},
   "outputs": [
    {
     "ename": "TypeError",
     "evalue": "random() got multiple values for argument 'b'",
     "output_type": "error",
     "traceback": [
      "\u001b[0;31m---------------------------------------------------------------------------\u001b[0m",
      "\u001b[0;31mTypeError\u001b[0m                                 Traceback (most recent call last)",
      "\u001b[0;32m/var/folders/jn/1bsrct314hv5xmfm7vrcdrzc0000gn/T/ipykernel_2371/3260433881.py\u001b[0m in \u001b[0;36m<module>\u001b[0;34m\u001b[0m\n\u001b[0;32m----> 1\u001b[0;31m \u001b[0mrandom\u001b[0m\u001b[0;34m(\u001b[0m\u001b[0;36m6\u001b[0m\u001b[0;34m,\u001b[0m \u001b[0;36m1\u001b[0m\u001b[0;34m,\u001b[0m \u001b[0mb\u001b[0m\u001b[0;34m=\u001b[0m\u001b[0;36m2\u001b[0m\u001b[0;34m,\u001b[0m \u001b[0ma\u001b[0m\u001b[0;34m=\u001b[0m\u001b[0;36m0\u001b[0m\u001b[0;34m)\u001b[0m\u001b[0;34m\u001b[0m\u001b[0;34m\u001b[0m\u001b[0m\n\u001b[0m",
      "\u001b[0;31mTypeError\u001b[0m: random() got multiple values for argument 'b'"
     ]
    }
   ],
   "source": [
    "random(6, 1, b=2, a=0)\n",
    "# a = 6\n",
    "# b = 1\n",
    "# b = 2, error"
   ]
  },
  {
   "cell_type": "code",
   "execution_count": 40,
   "id": "feacf2a0",
   "metadata": {},
   "outputs": [
    {
     "ename": "SyntaxError",
     "evalue": "positional argument follows keyword argument (1037542449.py, line 2)",
     "output_type": "error",
     "traceback": [
      "\u001b[0;36m  File \u001b[0;32m\"/var/folders/jn/1bsrct314hv5xmfm7vrcdrzc0000gn/T/ipykernel_2371/1037542449.py\"\u001b[0;36m, line \u001b[0;32m2\u001b[0m\n\u001b[0;31m    random(b=1, a=4, 7, 3)\u001b[0m\n\u001b[0m                         ^\u001b[0m\n\u001b[0;31mSyntaxError\u001b[0m\u001b[0;31m:\u001b[0m positional argument follows keyword argument\n"
     ]
    }
   ],
   "source": [
    "# Keyword => Positional (Not allowed)\n",
    "random(b=1, a=4, 7, 3)\n",
    "# b = 1\n",
    "# a = 4\n",
    "# 7"
   ]
  },
  {
   "cell_type": "code",
   "execution_count": null,
   "id": "21987403",
   "metadata": {},
   "outputs": [],
   "source": []
  },
  {
   "cell_type": "code",
   "execution_count": 42,
   "id": "060a8747",
   "metadata": {},
   "outputs": [
    {
     "ename": "NameError",
     "evalue": "name 'a' is not defined",
     "output_type": "error",
     "traceback": [
      "\u001b[0;31m---------------------------------------------------------------------------\u001b[0m",
      "\u001b[0;31mNameError\u001b[0m                                 Traceback (most recent call last)",
      "\u001b[0;32m/var/folders/jn/1bsrct314hv5xmfm7vrcdrzc0000gn/T/ipykernel_2371/1471509259.py\u001b[0m in \u001b[0;36m<module>\u001b[0;34m\u001b[0m\n\u001b[0;32m----> 1\u001b[0;31m \u001b[0mrandom\u001b[0m\u001b[0;34m(\u001b[0m\u001b[0ma\u001b[0m\u001b[0;34m=\u001b[0m\u001b[0;36m1\u001b[0m\u001b[0;34m,\u001b[0m \u001b[0mb\u001b[0m\u001b[0;34m=\u001b[0m\u001b[0ma\u001b[0m\u001b[0;34m,\u001b[0m \u001b[0mc\u001b[0m\u001b[0;34m=\u001b[0m\u001b[0;36m5\u001b[0m\u001b[0;34m,\u001b[0m \u001b[0md\u001b[0m\u001b[0;34m=\u001b[0m\u001b[0;36m9\u001b[0m\u001b[0;34m)\u001b[0m\u001b[0;34m\u001b[0m\u001b[0;34m\u001b[0m\u001b[0m\n\u001b[0m",
      "\u001b[0;31mNameError\u001b[0m: name 'a' is not defined"
     ]
    }
   ],
   "source": [
    "random(a=1, b=a, c=5, d=9)"
   ]
  },
  {
   "cell_type": "code",
   "execution_count": null,
   "id": "875eeadf",
   "metadata": {},
   "outputs": [],
   "source": []
  },
  {
   "cell_type": "markdown",
   "id": "cde892b6",
   "metadata": {},
   "source": [
    "```\n",
    "def abc(x, y, z):\n",
    "    print(\"hello\")\n",
    "```\n",
    "\n",
    "Triple backticks.\n",
    "Break till 10:12 PM"
   ]
  },
  {
   "cell_type": "code",
   "execution_count": null,
   "id": "e881674c",
   "metadata": {},
   "outputs": [],
   "source": []
  },
  {
   "cell_type": "code",
   "execution_count": 48,
   "id": "0efeccaf",
   "metadata": {},
   "outputs": [
    {
     "name": "stdout",
     "output_type": "stream",
     "text": [
      "1 2 3 2\n"
     ]
    }
   ],
   "source": [
    "# b = 9 is default argument\n",
    "# c - non-default arg\n",
    "def F1(a,b=0,c=1,d=2):\n",
    "    print(a,b,c,d)\n",
    "    \n",
    "F1(1,2,3)"
   ]
  },
  {
   "cell_type": "code",
   "execution_count": null,
   "id": "b944e05e",
   "metadata": {},
   "outputs": [],
   "source": []
  },
  {
   "cell_type": "markdown",
   "id": "5d338477",
   "metadata": {},
   "source": [
    "## Return\n",
    "<img src=\"https://media.giphy.com/media/LPemN8PSiCNyXQ1wxs/giphy.gif\" width=\"300px\" />"
   ]
  },
  {
   "cell_type": "code",
   "execution_count": 49,
   "id": "d55e3e68",
   "metadata": {},
   "outputs": [],
   "source": [
    "# You can return some value from your function"
   ]
  },
  {
   "cell_type": "code",
   "execution_count": 50,
   "id": "c4c52598",
   "metadata": {},
   "outputs": [],
   "source": [
    "def cube(x):\n",
    "    return x ** 3"
   ]
  },
  {
   "cell_type": "code",
   "execution_count": 51,
   "id": "ce114073",
   "metadata": {},
   "outputs": [],
   "source": [
    "p = cube(5)"
   ]
  },
  {
   "cell_type": "code",
   "execution_count": 56,
   "id": "2e2e865d",
   "metadata": {},
   "outputs": [
    {
     "name": "stdout",
     "output_type": "stream",
     "text": [
      "125 <class 'int'>\n"
     ]
    }
   ],
   "source": [
    "print(p, type(p))"
   ]
  },
  {
   "cell_type": "code",
   "execution_count": 53,
   "id": "1195723c",
   "metadata": {},
   "outputs": [
    {
     "name": "stdout",
     "output_type": "stream",
     "text": [
      "8\n"
     ]
    }
   ],
   "source": [
    "q = cube(2)\n",
    "print(q)"
   ]
  },
  {
   "cell_type": "code",
   "execution_count": 54,
   "id": "c0cf87a4",
   "metadata": {},
   "outputs": [
    {
     "name": "stdout",
     "output_type": "stream",
     "text": [
      "133\n"
     ]
    }
   ],
   "source": [
    "print(p + q)"
   ]
  },
  {
   "cell_type": "code",
   "execution_count": null,
   "id": "e08b113b",
   "metadata": {},
   "outputs": [],
   "source": []
  },
  {
   "cell_type": "code",
   "execution_count": null,
   "id": "9e84dde6",
   "metadata": {},
   "outputs": [],
   "source": []
  },
  {
   "cell_type": "code",
   "execution_count": null,
   "id": "55af02a4",
   "metadata": {},
   "outputs": [],
   "source": []
  },
  {
   "cell_type": "markdown",
   "id": "b3a2cae8",
   "metadata": {},
   "source": [
    "#### Quiz 4\n",
    "```py\n",
    "def square(x):\n",
    "    return x * x\n",
    "\n",
    "def pythagoras(x, y):\n",
    "    return square(x) + square(y)\n",
    "\n",
    "print(pythagoras(3, 4))\n",
    "```"
   ]
  },
  {
   "cell_type": "code",
   "execution_count": 57,
   "id": "daac2de5",
   "metadata": {},
   "outputs": [
    {
     "name": "stdout",
     "output_type": "stream",
     "text": [
      "25\n"
     ]
    }
   ],
   "source": [
    "def square(x):\n",
    "    return x * x\n",
    "\n",
    "def pythagoras(x, y):\n",
    "    return square(x) + square(y)\n",
    "\n",
    "print(pythagoras(3, 4))"
   ]
  },
  {
   "cell_type": "code",
   "execution_count": null,
   "id": "4a31abbd",
   "metadata": {},
   "outputs": [],
   "source": []
  },
  {
   "cell_type": "code",
   "execution_count": null,
   "id": "cceb8859",
   "metadata": {},
   "outputs": [],
   "source": []
  },
  {
   "cell_type": "markdown",
   "id": "cced5886",
   "metadata": {},
   "source": [
    "#### Quiz 5\n",
    "```py\n",
    "def power(number,exponent):\n",
    "    return number**exponent\n",
    "\n",
    "power(exponent=2,number=3)\n",
    "```"
   ]
  },
  {
   "cell_type": "code",
   "execution_count": 58,
   "id": "479f3472",
   "metadata": {},
   "outputs": [
    {
     "name": "stdout",
     "output_type": "stream",
     "text": [
      "9\n"
     ]
    }
   ],
   "source": [
    "def power(number,exponent):\n",
    "    return number**exponent\n",
    "\n",
    "print(power(exponent=2,number=3))"
   ]
  },
  {
   "cell_type": "code",
   "execution_count": null,
   "id": "5484ca12",
   "metadata": {},
   "outputs": [],
   "source": []
  },
  {
   "cell_type": "code",
   "execution_count": null,
   "id": "b4f4ad6b",
   "metadata": {},
   "outputs": [],
   "source": []
  },
  {
   "cell_type": "code",
   "execution_count": null,
   "id": "3fb5bfce",
   "metadata": {},
   "outputs": [],
   "source": []
  },
  {
   "cell_type": "markdown",
   "id": "ddc1565d",
   "metadata": {},
   "source": [
    "#### Quiz 6\n",
    "```py\n",
    "res = add(3, 5)\n",
    "print(res)\n",
    "\n",
    "def add(x, y):\n",
    "    return x + y\n",
    "```"
   ]
  },
  {
   "cell_type": "code",
   "execution_count": 59,
   "id": "a6eaa543",
   "metadata": {},
   "outputs": [
    {
     "ename": "NameError",
     "evalue": "name 'add' is not defined",
     "output_type": "error",
     "traceback": [
      "\u001b[0;31m---------------------------------------------------------------------------\u001b[0m",
      "\u001b[0;31mNameError\u001b[0m                                 Traceback (most recent call last)",
      "\u001b[0;32m/var/folders/jn/1bsrct314hv5xmfm7vrcdrzc0000gn/T/ipykernel_2371/716448176.py\u001b[0m in \u001b[0;36m<module>\u001b[0;34m\u001b[0m\n\u001b[0;32m----> 1\u001b[0;31m \u001b[0mres\u001b[0m \u001b[0;34m=\u001b[0m \u001b[0madd\u001b[0m\u001b[0;34m(\u001b[0m\u001b[0;36m3\u001b[0m\u001b[0;34m,\u001b[0m \u001b[0;36m5\u001b[0m\u001b[0;34m)\u001b[0m\u001b[0;34m\u001b[0m\u001b[0;34m\u001b[0m\u001b[0m\n\u001b[0m\u001b[1;32m      2\u001b[0m \u001b[0mprint\u001b[0m\u001b[0;34m(\u001b[0m\u001b[0mres\u001b[0m\u001b[0;34m)\u001b[0m\u001b[0;34m\u001b[0m\u001b[0;34m\u001b[0m\u001b[0m\n\u001b[1;32m      3\u001b[0m \u001b[0;34m\u001b[0m\u001b[0m\n\u001b[1;32m      4\u001b[0m \u001b[0;32mdef\u001b[0m \u001b[0madd\u001b[0m\u001b[0;34m(\u001b[0m\u001b[0mx\u001b[0m\u001b[0;34m,\u001b[0m \u001b[0my\u001b[0m\u001b[0;34m)\u001b[0m\u001b[0;34m:\u001b[0m\u001b[0;34m\u001b[0m\u001b[0;34m\u001b[0m\u001b[0m\n\u001b[1;32m      5\u001b[0m     \u001b[0;32mreturn\u001b[0m \u001b[0mx\u001b[0m \u001b[0;34m+\u001b[0m \u001b[0my\u001b[0m\u001b[0;34m\u001b[0m\u001b[0;34m\u001b[0m\u001b[0m\n",
      "\u001b[0;31mNameError\u001b[0m: name 'add' is not defined"
     ]
    }
   ],
   "source": [
    "res = add(3, 5)\n",
    "print(res)\n",
    "\n",
    "def add(x, y):\n",
    "    return x + y"
   ]
  },
  {
   "cell_type": "code",
   "execution_count": 60,
   "id": "0b62bc3d",
   "metadata": {},
   "outputs": [
    {
     "name": "stdout",
     "output_type": "stream",
     "text": [
      "8\n"
     ]
    }
   ],
   "source": [
    "def add(x, y):\n",
    "    return x + y\n",
    "\n",
    "res = add(3, 5)\n",
    "print(res)"
   ]
  },
  {
   "cell_type": "code",
   "execution_count": null,
   "id": "0b88ca2f",
   "metadata": {},
   "outputs": [],
   "source": []
  },
  {
   "cell_type": "markdown",
   "id": "b7ee3d5a",
   "metadata": {},
   "source": [
    "#### Quiz 7\n",
    "```py\n",
    "def foo_bar():\n",
    "    print('Foo')\n",
    "    return 1\n",
    "    print('Bar')\n",
    "\n",
    "res = foo_bar()\n",
    "print(res)\n",
    "```"
   ]
  },
  {
   "cell_type": "code",
   "execution_count": 62,
   "id": "2b28c1a0",
   "metadata": {},
   "outputs": [
    {
     "name": "stdout",
     "output_type": "stream",
     "text": [
      "Foo\n",
      "1\n"
     ]
    }
   ],
   "source": [
    "def foo_bar():\n",
    "    print('Foo')\n",
    "    return 1\n",
    "    print('Bar') # unreachable code\n",
    "\n",
    "res = foo_bar() # res = 1\n",
    "print(res) # prints 1"
   ]
  },
  {
   "cell_type": "code",
   "execution_count": 61,
   "id": "3908851a",
   "metadata": {},
   "outputs": [],
   "source": [
    "# Foo\n",
    "# 1"
   ]
  },
  {
   "cell_type": "code",
   "execution_count": null,
   "id": "30db7b2b",
   "metadata": {},
   "outputs": [],
   "source": []
  },
  {
   "cell_type": "code",
   "execution_count": null,
   "id": "1b6d9ac4",
   "metadata": {},
   "outputs": [],
   "source": []
  },
  {
   "cell_type": "markdown",
   "id": "99d0a5f8",
   "metadata": {},
   "source": [
    "## Docstrings\n",
    "<img src=\"https://media.giphy.com/media/UyPpKZScnl7na/giphy.gif\" width=\"300px\" />"
   ]
  },
  {
   "cell_type": "code",
   "execution_count": 63,
   "id": "da65478b",
   "metadata": {},
   "outputs": [
    {
     "name": "stdout",
     "output_type": "stream",
     "text": [
      "Help on class range in module builtins:\n",
      "\n",
      "class range(object)\n",
      " |  range(stop) -> range object\n",
      " |  range(start, stop[, step]) -> range object\n",
      " |  \n",
      " |  Return an object that produces a sequence of integers from start (inclusive)\n",
      " |  to stop (exclusive) by step.  range(i, j) produces i, i+1, i+2, ..., j-1.\n",
      " |  start defaults to 0, and stop is omitted!  range(4) produces 0, 1, 2, 3.\n",
      " |  These are exactly the valid indices for a list of 4 elements.\n",
      " |  When step is given, it specifies the increment (or decrement).\n",
      " |  \n",
      " |  Methods defined here:\n",
      " |  \n",
      " |  __bool__(self, /)\n",
      " |      True if self else False\n",
      " |  \n",
      " |  __contains__(self, key, /)\n",
      " |      Return key in self.\n",
      " |  \n",
      " |  __eq__(self, value, /)\n",
      " |      Return self==value.\n",
      " |  \n",
      " |  __ge__(self, value, /)\n",
      " |      Return self>=value.\n",
      " |  \n",
      " |  __getattribute__(self, name, /)\n",
      " |      Return getattr(self, name).\n",
      " |  \n",
      " |  __getitem__(self, key, /)\n",
      " |      Return self[key].\n",
      " |  \n",
      " |  __gt__(self, value, /)\n",
      " |      Return self>value.\n",
      " |  \n",
      " |  __hash__(self, /)\n",
      " |      Return hash(self).\n",
      " |  \n",
      " |  __iter__(self, /)\n",
      " |      Implement iter(self).\n",
      " |  \n",
      " |  __le__(self, value, /)\n",
      " |      Return self<=value.\n",
      " |  \n",
      " |  __len__(self, /)\n",
      " |      Return len(self).\n",
      " |  \n",
      " |  __lt__(self, value, /)\n",
      " |      Return self<value.\n",
      " |  \n",
      " |  __ne__(self, value, /)\n",
      " |      Return self!=value.\n",
      " |  \n",
      " |  __reduce__(...)\n",
      " |      Helper for pickle.\n",
      " |  \n",
      " |  __repr__(self, /)\n",
      " |      Return repr(self).\n",
      " |  \n",
      " |  __reversed__(...)\n",
      " |      Return a reverse iterator.\n",
      " |  \n",
      " |  count(...)\n",
      " |      rangeobject.count(value) -> integer -- return number of occurrences of value\n",
      " |  \n",
      " |  index(...)\n",
      " |      rangeobject.index(value) -> integer -- return index of value.\n",
      " |      Raise ValueError if the value is not present.\n",
      " |  \n",
      " |  ----------------------------------------------------------------------\n",
      " |  Static methods defined here:\n",
      " |  \n",
      " |  __new__(*args, **kwargs) from builtins.type\n",
      " |      Create and return a new object.  See help(type) for accurate signature.\n",
      " |  \n",
      " |  ----------------------------------------------------------------------\n",
      " |  Data descriptors defined here:\n",
      " |  \n",
      " |  start\n",
      " |  \n",
      " |  step\n",
      " |  \n",
      " |  stop\n",
      "\n"
     ]
    }
   ],
   "source": [
    "help(range)"
   ]
  },
  {
   "cell_type": "code",
   "execution_count": 64,
   "id": "3b74a9ae",
   "metadata": {},
   "outputs": [
    {
     "name": "stdout",
     "output_type": "stream",
     "text": [
      "Help on built-in function print in module builtins:\n",
      "\n",
      "print(...)\n",
      "    print(value, ..., sep=' ', end='\\n', file=sys.stdout, flush=False)\n",
      "    \n",
      "    Prints the values to a stream, or to sys.stdout by default.\n",
      "    Optional keyword arguments:\n",
      "    file:  a file-like object (stream); defaults to the current sys.stdout.\n",
      "    sep:   string inserted between values, default a space.\n",
      "    end:   string appended after the last value, default a newline.\n",
      "    flush: whether to forcibly flush the stream.\n",
      "\n"
     ]
    }
   ],
   "source": [
    "help(print)"
   ]
  },
  {
   "cell_type": "code",
   "execution_count": null,
   "id": "78e72416",
   "metadata": {},
   "outputs": [],
   "source": [
    "# Very first statement"
   ]
  },
  {
   "cell_type": "code",
   "execution_count": 67,
   "id": "f79c5a1d",
   "metadata": {},
   "outputs": [],
   "source": [
    "def square(x):\n",
    "    \"This function returns square of a number\"\n",
    "    return x * x"
   ]
  },
  {
   "cell_type": "code",
   "execution_count": 68,
   "id": "eb05c8e2",
   "metadata": {},
   "outputs": [
    {
     "name": "stdout",
     "output_type": "stream",
     "text": [
      "Help on function square in module __main__:\n",
      "\n",
      "square(x)\n",
      "    This function returns square of a number\n",
      "\n"
     ]
    }
   ],
   "source": [
    "help(square)"
   ]
  },
  {
   "cell_type": "code",
   "execution_count": null,
   "id": "94eefd78",
   "metadata": {},
   "outputs": [],
   "source": []
  },
  {
   "cell_type": "code",
   "execution_count": 69,
   "id": "7e8c6eb4",
   "metadata": {},
   "outputs": [],
   "source": [
    "def square(x):\n",
    "    \"\"\"\n",
    "    This function returns square of a number\n",
    "    square(4) => 16\n",
    "    square(-9) => 81\n",
    "    \"\"\"\n",
    "    return x * x"
   ]
  },
  {
   "cell_type": "code",
   "execution_count": 70,
   "id": "0c46510f",
   "metadata": {},
   "outputs": [
    {
     "name": "stdout",
     "output_type": "stream",
     "text": [
      "Help on function square in module __main__:\n",
      "\n",
      "square(x)\n",
      "    This function returns square of a number\n",
      "    square(4) => 16\n",
      "    square(-9) => 81\n",
      "\n"
     ]
    }
   ],
   "source": [
    "help(square)"
   ]
  },
  {
   "cell_type": "code",
   "execution_count": null,
   "id": "b2777573",
   "metadata": {},
   "outputs": [],
   "source": []
  },
  {
   "cell_type": "code",
   "execution_count": null,
   "id": "295755d9",
   "metadata": {},
   "outputs": [],
   "source": []
  },
  {
   "cell_type": "code",
   "execution_count": 71,
   "id": "89e1c0e7",
   "metadata": {},
   "outputs": [],
   "source": [
    "s = \"hello world\""
   ]
  },
  {
   "cell_type": "code",
   "execution_count": 75,
   "id": "1e57c481",
   "metadata": {},
   "outputs": [
    {
     "name": "stdout",
     "output_type": "stream",
     "text": [
      "\n",
      "this\n",
      "is a paragraph\n",
      "\n"
     ]
    }
   ],
   "source": [
    "s = \"\"\"\n",
    "this\n",
    "is a paragraph\n",
    "\"\"\"\n",
    "print(s)"
   ]
  },
  {
   "cell_type": "code",
   "execution_count": null,
   "id": "658653ed",
   "metadata": {},
   "outputs": [],
   "source": []
  },
  {
   "cell_type": "code",
   "execution_count": null,
   "id": "2be486cb",
   "metadata": {},
   "outputs": [],
   "source": []
  },
  {
   "cell_type": "code",
   "execution_count": 76,
   "id": "b6030562",
   "metadata": {},
   "outputs": [
    {
     "name": "stdout",
     "output_type": "stream",
     "text": [
      "Help on _Helper in module _sitebuiltins object:\n",
      "\n",
      "class _Helper(builtins.object)\n",
      " |  Define the builtin 'help'.\n",
      " |  \n",
      " |  This is a wrapper around pydoc.help that provides a helpful message\n",
      " |  when 'help' is typed at the Python interactive prompt.\n",
      " |  \n",
      " |  Calling help() at the Python prompt starts an interactive help session.\n",
      " |  Calling help(thing) prints help for the python object 'thing'.\n",
      " |  \n",
      " |  Methods defined here:\n",
      " |  \n",
      " |  __call__(self, *args, **kwds)\n",
      " |      Call self as a function.\n",
      " |  \n",
      " |  __repr__(self)\n",
      " |      Return repr(self).\n",
      " |  \n",
      " |  ----------------------------------------------------------------------\n",
      " |  Data descriptors defined here:\n",
      " |  \n",
      " |  __dict__\n",
      " |      dictionary for instance variables (if defined)\n",
      " |  \n",
      " |  __weakref__\n",
      " |      list of weak references to the object (if defined)\n",
      "\n"
     ]
    }
   ],
   "source": [
    "help(help)"
   ]
  },
  {
   "cell_type": "code",
   "execution_count": null,
   "id": "edc78ef5",
   "metadata": {},
   "outputs": [],
   "source": []
  },
  {
   "cell_type": "code",
   "execution_count": 79,
   "id": "24243d3f",
   "metadata": {},
   "outputs": [],
   "source": [
    "# Only works in notebooks like Jupyter and Colab\n",
    "square?"
   ]
  },
  {
   "cell_type": "code",
   "execution_count": null,
   "id": "0f348c06",
   "metadata": {},
   "outputs": [],
   "source": []
  },
  {
   "cell_type": "code",
   "execution_count": null,
   "id": "cbd17b0f",
   "metadata": {},
   "outputs": [],
   "source": []
  },
  {
   "cell_type": "code",
   "execution_count": null,
   "id": "30865edc",
   "metadata": {},
   "outputs": [],
   "source": []
  },
  {
   "cell_type": "markdown",
   "id": "b2e0cd01",
   "metadata": {},
   "source": [
    "## Pass statement"
   ]
  },
  {
   "cell_type": "code",
   "execution_count": 90,
   "id": "09595f70",
   "metadata": {},
   "outputs": [],
   "source": [
    "def very_powerful_computation_function():\n",
    "    pass\n",
    "    \n",
    "very_powerful_computation_function()"
   ]
  },
  {
   "cell_type": "code",
   "execution_count": 83,
   "id": "8bd51a0a",
   "metadata": {},
   "outputs": [],
   "source": [
    "x = 50\n",
    "if x > 10:\n",
    "    pass"
   ]
  },
  {
   "cell_type": "code",
   "execution_count": null,
   "id": "65372277",
   "metadata": {},
   "outputs": [],
   "source": [
    "# pass statement is simply a placeholder"
   ]
  },
  {
   "cell_type": "code",
   "execution_count": null,
   "id": "96a641f6",
   "metadata": {},
   "outputs": [],
   "source": []
  },
  {
   "cell_type": "code",
   "execution_count": null,
   "id": "b95deced",
   "metadata": {},
   "outputs": [],
   "source": []
  },
  {
   "cell_type": "code",
   "execution_count": null,
   "id": "78731d45",
   "metadata": {},
   "outputs": [],
   "source": []
  },
  {
   "cell_type": "code",
   "execution_count": null,
   "id": "ff628e32",
   "metadata": {},
   "outputs": [],
   "source": []
  },
  {
   "cell_type": "code",
   "execution_count": null,
   "id": "25937fbe",
   "metadata": {},
   "outputs": [],
   "source": []
  },
  {
   "cell_type": "markdown",
   "id": "cf16aff6",
   "metadata": {},
   "source": [
    "# Bonus Reading Material\n",
    "- Functions in Python - https://www.scaler.com/topics/python/functions-in-python/\n",
    "- What are the Types of Functions in Python - https://www.scaler.com/topics/types-of-functions-in-python/\n",
    "- Help() function in Python - https://www.scaler.com/topics/help-function-in-python/\n",
    "- What are Default Arguments in Python? - https://www.scaler.com/topics/default-arguments-in-python/\n",
    "- Namespace and Scope in Python - https://www.scaler.com/topics/namespace-and-scope-in-python/\n",
    "- Scope of Variable in Python - https://www.scaler.com/topics/python/python-functions-scope/"
   ]
  },
  {
   "cell_type": "code",
   "execution_count": null,
   "id": "3bfd6e8d",
   "metadata": {},
   "outputs": [],
   "source": []
  },
  {
   "cell_type": "code",
   "execution_count": null,
   "id": "3871051d",
   "metadata": {},
   "outputs": [],
   "source": []
  },
  {
   "cell_type": "code",
   "execution_count": null,
   "id": "d0a3ca6e",
   "metadata": {},
   "outputs": [],
   "source": []
  },
  {
   "cell_type": "markdown",
   "id": "de958fed",
   "metadata": {},
   "source": [
    "# Doubts"
   ]
  },
  {
   "cell_type": "code",
   "execution_count": null,
   "id": "8ed0da97",
   "metadata": {},
   "outputs": [],
   "source": []
  },
  {
   "cell_type": "code",
   "execution_count": 92,
   "id": "4defda79",
   "metadata": {},
   "outputs": [
    {
     "name": "stdout",
     "output_type": "stream",
     "text": [
      "10\n",
      "* * * * * * * * * * \n",
      "* * * * * * * * * \n",
      "* * * * * * * * \n",
      "* * * * * * * \n",
      "* * * * * * \n",
      "* * * * * \n",
      "* * * * \n",
      "* * * \n",
      "* * \n",
      "* \n"
     ]
    }
   ],
   "source": [
    "N = int(input())\n",
    "\n",
    "for i in range(1, N+1):\n",
    "    # ith row => (N - i + 1) stars\n",
    "    print('* ' * (N - i + 1))"
   ]
  },
  {
   "cell_type": "code",
   "execution_count": 96,
   "id": "e40ab69a",
   "metadata": {},
   "outputs": [
    {
     "name": "stdout",
     "output_type": "stream",
     "text": [
      "10\n",
      "* * * * * * * * * * \n",
      "* * * * * * * * * \n",
      "* * * * * * * * \n",
      "* * * * * * * \n",
      "* * * * * * \n",
      "* * * * * \n",
      "* * * * \n",
      "* * * \n",
      "* * \n",
      "* \n"
     ]
    }
   ],
   "source": [
    "N = int(input())\n",
    "\n",
    "for i in range(1, N+1):\n",
    "    # ith row => (N - i + 1) stars\n",
    "    for j in range(N - i + 1):\n",
    "        print('* ', end='')\n",
    "    print()"
   ]
  },
  {
   "cell_type": "code",
   "execution_count": null,
   "id": "535ad465",
   "metadata": {},
   "outputs": [],
   "source": []
  },
  {
   "cell_type": "code",
   "execution_count": null,
   "id": "cbe7530e",
   "metadata": {},
   "outputs": [],
   "source": []
  },
  {
   "cell_type": "code",
   "execution_count": null,
   "id": "14448640",
   "metadata": {},
   "outputs": [],
   "source": []
  },
  {
   "cell_type": "code",
   "execution_count": 97,
   "id": "c5e6dff9",
   "metadata": {},
   "outputs": [
    {
     "name": "stdout",
     "output_type": "stream",
     "text": [
      "True\n",
      "True\n",
      "True\n",
      "True\n",
      "False\n"
     ]
    }
   ],
   "source": [
    "x = 4\n",
    "while x > 0:\n",
    "    print(True)\n",
    "    x -= 1\n",
    "else:\n",
    "    print(False)"
   ]
  },
  {
   "cell_type": "code",
   "execution_count": null,
   "id": "4e0a6bd6",
   "metadata": {},
   "outputs": [],
   "source": [
    "# True\n",
    "# True\n",
    "# True\n",
    "# True\n",
    "# False"
   ]
  },
  {
   "cell_type": "code",
   "execution_count": null,
   "id": "ab3f3a69",
   "metadata": {},
   "outputs": [],
   "source": [
    "# x = 0"
   ]
  },
  {
   "cell_type": "code",
   "execution_count": null,
   "id": "704574fb",
   "metadata": {},
   "outputs": [],
   "source": []
  },
  {
   "cell_type": "code",
   "execution_count": null,
   "id": "a043702e",
   "metadata": {},
   "outputs": [],
   "source": []
  },
  {
   "cell_type": "code",
   "execution_count": null,
   "id": "505ec1d2",
   "metadata": {},
   "outputs": [],
   "source": [
    "if (a==b or a==c) and b==c:\n",
    "    print(\"equilateral\")\n",
    "elif a==b or b==c or c==a:\n",
    "    print(\"isosceles\")\n",
    "else:\n",
    "    print('scalene')"
   ]
  },
  {
   "cell_type": "code",
   "execution_count": null,
   "id": "50d4c0af",
   "metadata": {},
   "outputs": [],
   "source": [
    "a==b and b==c\n",
    "a==c and b==c"
   ]
  },
  {
   "cell_type": "code",
   "execution_count": null,
   "id": "f71070b4",
   "metadata": {},
   "outputs": [],
   "source": []
  },
  {
   "cell_type": "code",
   "execution_count": null,
   "id": "c7459efd",
   "metadata": {},
   "outputs": [],
   "source": [
    "a==b and b==c => a = c"
   ]
  },
  {
   "cell_type": "code",
   "execution_count": null,
   "id": "b806d7f4",
   "metadata": {},
   "outputs": [],
   "source": [
    "a==c and b==c => a = b"
   ]
  },
  {
   "cell_type": "code",
   "execution_count": null,
   "id": "9e43ed81",
   "metadata": {},
   "outputs": [],
   "source": [
    "# Associativity"
   ]
  },
  {
   "cell_type": "code",
   "execution_count": null,
   "id": "8002e163",
   "metadata": {},
   "outputs": [],
   "source": []
  },
  {
   "cell_type": "code",
   "execution_count": null,
   "id": "515e6b1c",
   "metadata": {},
   "outputs": [],
   "source": []
  },
  {
   "cell_type": "code",
   "execution_count": null,
   "id": "a3ccdd36",
   "metadata": {},
   "outputs": [],
   "source": []
  }
 ],
 "metadata": {
  "kernelspec": {
   "display_name": "Python 3 (ipykernel)",
   "language": "python",
   "name": "python3"
  },
  "language_info": {
   "codemirror_mode": {
    "name": "ipython",
    "version": 3
   },
   "file_extension": ".py",
   "mimetype": "text/x-python",
   "name": "python",
   "nbconvert_exporter": "python",
   "pygments_lexer": "ipython3",
   "version": "3.9.18"
  }
 },
 "nbformat": 4,
 "nbformat_minor": 5
}
