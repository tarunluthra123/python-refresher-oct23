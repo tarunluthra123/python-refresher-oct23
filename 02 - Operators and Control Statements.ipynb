{
 "cells": [
  {
   "cell_type": "markdown",
   "id": "0d9e8a04",
   "metadata": {},
   "source": [
    "# Operators and Control Statements"
   ]
  },
  {
   "cell_type": "code",
   "execution_count": null,
   "id": "8fb51717",
   "metadata": {},
   "outputs": [],
   "source": []
  },
  {
   "cell_type": "markdown",
   "id": "52cfcb23",
   "metadata": {},
   "source": [
    "### Revision"
   ]
  },
  {
   "cell_type": "code",
   "execution_count": 1,
   "id": "a6bf394c",
   "metadata": {},
   "outputs": [
    {
     "name": "stdout",
     "output_type": "stream",
     "text": [
      "<class 'str'>\n"
     ]
    }
   ],
   "source": [
    "print(type(\"0\"))"
   ]
  },
  {
   "cell_type": "code",
   "execution_count": 2,
   "id": "c411dc3b",
   "metadata": {},
   "outputs": [
    {
     "name": "stdout",
     "output_type": "stream",
     "text": [
      "<class 'int'>\n"
     ]
    }
   ],
   "source": [
    "print(type(0))"
   ]
  },
  {
   "cell_type": "code",
   "execution_count": null,
   "id": "066389bc",
   "metadata": {},
   "outputs": [],
   "source": []
  },
  {
   "cell_type": "code",
   "execution_count": null,
   "id": "0f2fc59a",
   "metadata": {},
   "outputs": [],
   "source": []
  },
  {
   "cell_type": "code",
   "execution_count": 3,
   "id": "c57df369",
   "metadata": {},
   "outputs": [
    {
     "ename": "TypeError",
     "evalue": "unsupported operand type(s) for +: 'int' and 'str'",
     "output_type": "error",
     "traceback": [
      "\u001b[0;31m---------------------------------------------------------------------------\u001b[0m",
      "\u001b[0;31mTypeError\u001b[0m                                 Traceback (most recent call last)",
      "\u001b[0;32m/var/folders/jn/1bsrct314hv5xmfm7vrcdrzc0000gn/T/ipykernel_9448/3009315375.py\u001b[0m in \u001b[0;36m<module>\u001b[0;34m\u001b[0m\n\u001b[0;32m----> 1\u001b[0;31m \u001b[0mprint\u001b[0m\u001b[0;34m(\u001b[0m\u001b[0;36m2\u001b[0m \u001b[0;34m+\u001b[0m \u001b[0;34m\"3\"\u001b[0m\u001b[0;34m)\u001b[0m\u001b[0;34m\u001b[0m\u001b[0;34m\u001b[0m\u001b[0m\n\u001b[0m",
      "\u001b[0;31mTypeError\u001b[0m: unsupported operand type(s) for +: 'int' and 'str'"
     ]
    }
   ],
   "source": [
    "print(2 + \"3\")"
   ]
  },
  {
   "cell_type": "code",
   "execution_count": 7,
   "id": "7e571c8b",
   "metadata": {},
   "outputs": [
    {
     "name": "stdout",
     "output_type": "stream",
     "text": [
      "23\n",
      "5\n"
     ]
    }
   ],
   "source": [
    "print(str(2) + \"3\")\n",
    "print(2 + int(\"3\"))"
   ]
  },
  {
   "cell_type": "code",
   "execution_count": 4,
   "id": "25a4b844",
   "metadata": {},
   "outputs": [
    {
     "ename": "TypeError",
     "evalue": "unsupported operand type(s) for +: 'float' and 'str'",
     "output_type": "error",
     "traceback": [
      "\u001b[0;31m---------------------------------------------------------------------------\u001b[0m",
      "\u001b[0;31mTypeError\u001b[0m                                 Traceback (most recent call last)",
      "\u001b[0;32m/var/folders/jn/1bsrct314hv5xmfm7vrcdrzc0000gn/T/ipykernel_9448/2672377902.py\u001b[0m in \u001b[0;36m<module>\u001b[0;34m\u001b[0m\n\u001b[0;32m----> 1\u001b[0;31m \u001b[0mprint\u001b[0m\u001b[0;34m(\u001b[0m\u001b[0;36m2.5\u001b[0m \u001b[0;34m+\u001b[0m \u001b[0;34m\"3\"\u001b[0m\u001b[0;34m)\u001b[0m\u001b[0;34m\u001b[0m\u001b[0;34m\u001b[0m\u001b[0m\n\u001b[0m",
      "\u001b[0;31mTypeError\u001b[0m: unsupported operand type(s) for +: 'float' and 'str'"
     ]
    }
   ],
   "source": [
    "print(2.5 + \"3\")"
   ]
  },
  {
   "cell_type": "code",
   "execution_count": 5,
   "id": "56f0bbe7",
   "metadata": {},
   "outputs": [
    {
     "name": "stdout",
     "output_type": "stream",
     "text": [
      "5.5\n"
     ]
    }
   ],
   "source": [
    "print(2.5 + float(\"3\"))"
   ]
  },
  {
   "cell_type": "code",
   "execution_count": 6,
   "id": "ec08de27",
   "metadata": {},
   "outputs": [
    {
     "name": "stdout",
     "output_type": "stream",
     "text": [
      "2.53\n"
     ]
    }
   ],
   "source": [
    "print(str(2.5) + \"3\")"
   ]
  },
  {
   "cell_type": "code",
   "execution_count": null,
   "id": "cd3d1431",
   "metadata": {},
   "outputs": [],
   "source": []
  },
  {
   "cell_type": "code",
   "execution_count": 8,
   "id": "4202be3f",
   "metadata": {},
   "outputs": [
    {
     "ename": "NameError",
     "evalue": "name 'true' is not defined",
     "output_type": "error",
     "traceback": [
      "\u001b[0;31m---------------------------------------------------------------------------\u001b[0m",
      "\u001b[0;31mNameError\u001b[0m                                 Traceback (most recent call last)",
      "\u001b[0;32m/var/folders/jn/1bsrct314hv5xmfm7vrcdrzc0000gn/T/ipykernel_9448/1588121790.py\u001b[0m in \u001b[0;36m<module>\u001b[0;34m\u001b[0m\n\u001b[1;32m      1\u001b[0m \u001b[0;31m# Quiz 2\u001b[0m\u001b[0;34m\u001b[0m\u001b[0;34m\u001b[0m\u001b[0m\n\u001b[0;32m----> 2\u001b[0;31m \u001b[0mprint\u001b[0m\u001b[0;34m(\u001b[0m\u001b[0mtype\u001b[0m\u001b[0;34m(\u001b[0m\u001b[0mtrue\u001b[0m\u001b[0;34m)\u001b[0m\u001b[0;34m)\u001b[0m\u001b[0;34m\u001b[0m\u001b[0;34m\u001b[0m\u001b[0m\n\u001b[0m",
      "\u001b[0;31mNameError\u001b[0m: name 'true' is not defined"
     ]
    }
   ],
   "source": [
    "# Quiz 2\n",
    "print(type(true))"
   ]
  },
  {
   "cell_type": "code",
   "execution_count": 9,
   "id": "293f0a46",
   "metadata": {},
   "outputs": [
    {
     "name": "stdout",
     "output_type": "stream",
     "text": [
      "<class 'bool'>\n"
     ]
    }
   ],
   "source": [
    "print(type(True))"
   ]
  },
  {
   "cell_type": "code",
   "execution_count": null,
   "id": "d0baedb6",
   "metadata": {},
   "outputs": [],
   "source": []
  },
  {
   "cell_type": "code",
   "execution_count": null,
   "id": "e0f3bb6e",
   "metadata": {},
   "outputs": [],
   "source": [
    "# Quiz 3"
   ]
  },
  {
   "cell_type": "code",
   "execution_count": 10,
   "id": "7580bce3",
   "metadata": {},
   "outputs": [
    {
     "name": "stdout",
     "output_type": "stream",
     "text": [
      "5\n",
      "<class 'str'>\n"
     ]
    }
   ],
   "source": [
    "n = input()\n",
    "# take input as 5\n",
    "print(type(n))"
   ]
  },
  {
   "cell_type": "code",
   "execution_count": null,
   "id": "d68e98f7",
   "metadata": {},
   "outputs": [],
   "source": [
    "n = \"5\"\n",
    "# input() always returns a str"
   ]
  },
  {
   "cell_type": "code",
   "execution_count": null,
   "id": "86540881",
   "metadata": {},
   "outputs": [],
   "source": [
    "n = int(input())"
   ]
  },
  {
   "cell_type": "code",
   "execution_count": null,
   "id": "56ca4e29",
   "metadata": {},
   "outputs": [],
   "source": []
  },
  {
   "cell_type": "code",
   "execution_count": null,
   "id": "42fbc7d4",
   "metadata": {},
   "outputs": [],
   "source": []
  },
  {
   "cell_type": "markdown",
   "id": "82f07a9b",
   "metadata": {},
   "source": [
    "## Arithmetic Operators\n",
    "![](https://scaler.com/topics/images/arithmetic-operation-in-python-featured-image.webp)"
   ]
  },
  {
   "cell_type": "code",
   "execution_count": 11,
   "id": "c9e06015",
   "metadata": {},
   "outputs": [],
   "source": [
    "a = 8\n",
    "b = 3"
   ]
  },
  {
   "cell_type": "code",
   "execution_count": 12,
   "id": "ce36acaa",
   "metadata": {},
   "outputs": [
    {
     "name": "stdout",
     "output_type": "stream",
     "text": [
      "11\n"
     ]
    }
   ],
   "source": [
    "# Addition\n",
    "print(a + b)"
   ]
  },
  {
   "cell_type": "code",
   "execution_count": 13,
   "id": "eedeb4a2",
   "metadata": {},
   "outputs": [
    {
     "name": "stdout",
     "output_type": "stream",
     "text": [
      "5\n"
     ]
    }
   ],
   "source": [
    "# Subtraction\n",
    "print(a - b)"
   ]
  },
  {
   "cell_type": "code",
   "execution_count": 14,
   "id": "17132f82",
   "metadata": {},
   "outputs": [
    {
     "name": "stdout",
     "output_type": "stream",
     "text": [
      "24\n"
     ]
    }
   ],
   "source": [
    "# Multiplication\n",
    "print(a * b)"
   ]
  },
  {
   "cell_type": "code",
   "execution_count": 15,
   "id": "d15ed55d",
   "metadata": {},
   "outputs": [
    {
     "name": "stdout",
     "output_type": "stream",
     "text": [
      "512\n"
     ]
    }
   ],
   "source": [
    "# Exponentiation\n",
    "print(a ** b)\n",
    "# a raised to the power of b"
   ]
  },
  {
   "cell_type": "code",
   "execution_count": 16,
   "id": "fa17df8a",
   "metadata": {},
   "outputs": [
    {
     "name": "stdout",
     "output_type": "stream",
     "text": [
      "2.6666666666666665\n"
     ]
    }
   ],
   "source": [
    "# Division => This will always return a float value \n",
    "a = 8\n",
    "b = 3\n",
    "print(a / b)"
   ]
  },
  {
   "cell_type": "code",
   "execution_count": 17,
   "id": "3fcc91f0",
   "metadata": {},
   "outputs": [
    {
     "name": "stdout",
     "output_type": "stream",
     "text": [
      "5.0\n"
     ]
    }
   ],
   "source": [
    "print(10 / 2)"
   ]
  },
  {
   "cell_type": "code",
   "execution_count": 18,
   "id": "cf7a5589",
   "metadata": {},
   "outputs": [
    {
     "name": "stdout",
     "output_type": "stream",
     "text": [
      "-2.6666666666666665\n"
     ]
    }
   ],
   "source": [
    "print(-8 / 3)"
   ]
  },
  {
   "cell_type": "code",
   "execution_count": null,
   "id": "f5675c20",
   "metadata": {},
   "outputs": [],
   "source": []
  },
  {
   "cell_type": "code",
   "execution_count": 19,
   "id": "bb5f9e31",
   "metadata": {},
   "outputs": [
    {
     "name": "stdout",
     "output_type": "stream",
     "text": [
      "2\n"
     ]
    }
   ],
   "source": [
    "# Floor Division -> Gives floor value of the quotient\n",
    "# Always returns an int answer\n",
    "print(8 // 3)"
   ]
  },
  {
   "cell_type": "code",
   "execution_count": 20,
   "id": "db0af52c",
   "metadata": {},
   "outputs": [
    {
     "name": "stdout",
     "output_type": "stream",
     "text": [
      "-3\n"
     ]
    }
   ],
   "source": [
    "print(-8 // 3)"
   ]
  },
  {
   "cell_type": "code",
   "execution_count": 26,
   "id": "96f04a1a",
   "metadata": {},
   "outputs": [
    {
     "name": "stdout",
     "output_type": "stream",
     "text": [
      "1\n"
     ]
    }
   ],
   "source": [
    "# Modulo Operator => Gives you the remainder\n",
    "print(10 % 3)"
   ]
  },
  {
   "cell_type": "code",
   "execution_count": 27,
   "id": "c7cc2eaa",
   "metadata": {},
   "outputs": [
    {
     "name": "stdout",
     "output_type": "stream",
     "text": [
      "6\n"
     ]
    }
   ],
   "source": [
    "print(20 % 7)"
   ]
  },
  {
   "cell_type": "code",
   "execution_count": 28,
   "id": "b6d527f0",
   "metadata": {},
   "outputs": [
    {
     "name": "stdout",
     "output_type": "stream",
     "text": [
      "1\n"
     ]
    }
   ],
   "source": [
    "print(3 % 2)"
   ]
  },
  {
   "cell_type": "code",
   "execution_count": 29,
   "id": "52cb977d",
   "metadata": {},
   "outputs": [
    {
     "name": "stdout",
     "output_type": "stream",
     "text": [
      "3\n"
     ]
    }
   ],
   "source": [
    "print(3 % 5)"
   ]
  },
  {
   "cell_type": "code",
   "execution_count": null,
   "id": "ea249e6c",
   "metadata": {},
   "outputs": [],
   "source": []
  },
  {
   "cell_type": "code",
   "execution_count": null,
   "id": "b52fec1c",
   "metadata": {},
   "outputs": [],
   "source": []
  },
  {
   "cell_type": "code",
   "execution_count": 22,
   "id": "65110fc8",
   "metadata": {},
   "outputs": [],
   "source": [
    "# How to get the floor of a number in Python ?\n",
    "import math"
   ]
  },
  {
   "cell_type": "code",
   "execution_count": null,
   "id": "9877e875",
   "metadata": {},
   "outputs": [],
   "source": [
    "# Math module provides you with several math related utility functions"
   ]
  },
  {
   "cell_type": "code",
   "execution_count": 23,
   "id": "40e4a494",
   "metadata": {},
   "outputs": [
    {
     "name": "stdout",
     "output_type": "stream",
     "text": [
      "2\n"
     ]
    }
   ],
   "source": [
    "print(math.floor(2.6))"
   ]
  },
  {
   "cell_type": "code",
   "execution_count": 24,
   "id": "c78231ef",
   "metadata": {},
   "outputs": [
    {
     "name": "stdout",
     "output_type": "stream",
     "text": [
      "10\n"
     ]
    }
   ],
   "source": [
    "print(math.floor(10.9))"
   ]
  },
  {
   "cell_type": "code",
   "execution_count": 25,
   "id": "6171f8ec",
   "metadata": {},
   "outputs": [
    {
     "name": "stdout",
     "output_type": "stream",
     "text": [
      "-3\n"
     ]
    }
   ],
   "source": [
    "print(math.floor(-2.6666))"
   ]
  },
  {
   "cell_type": "code",
   "execution_count": null,
   "id": "4a9b2eb9",
   "metadata": {},
   "outputs": [],
   "source": []
  },
  {
   "cell_type": "code",
   "execution_count": 30,
   "id": "2535d302",
   "metadata": {},
   "outputs": [
    {
     "name": "stdout",
     "output_type": "stream",
     "text": [
      "1.2745098039215688\n"
     ]
    }
   ],
   "source": [
    "print((2.6 + 3.9) / 5.1)"
   ]
  },
  {
   "cell_type": "code",
   "execution_count": 31,
   "id": "52f77672",
   "metadata": {},
   "outputs": [
    {
     "name": "stdout",
     "output_type": "stream",
     "text": [
      "2.0\n"
     ]
    }
   ],
   "source": [
    "print(10.9 // 4.1)"
   ]
  },
  {
   "cell_type": "code",
   "execution_count": null,
   "id": "2987a0a1",
   "metadata": {},
   "outputs": [],
   "source": []
  },
  {
   "cell_type": "code",
   "execution_count": null,
   "id": "1c485039",
   "metadata": {},
   "outputs": [],
   "source": []
  },
  {
   "cell_type": "code",
   "execution_count": null,
   "id": "9ec38d98",
   "metadata": {},
   "outputs": [],
   "source": []
  },
  {
   "cell_type": "markdown",
   "id": "1cc91bcb",
   "metadata": {},
   "source": [
    "## Relational Operators\n",
    "```py\n",
    "< > <= >= == !=\n",
    "```\n",
    "![](https://scaler.com/topics/images/relational-operators-in-python.webp)"
   ]
  },
  {
   "cell_type": "code",
   "execution_count": 32,
   "id": "d652b0a6",
   "metadata": {},
   "outputs": [
    {
     "name": "stdout",
     "output_type": "stream",
     "text": [
      "True\n"
     ]
    }
   ],
   "source": [
    "print(4 < 10)"
   ]
  },
  {
   "cell_type": "code",
   "execution_count": 33,
   "id": "386ae328",
   "metadata": {},
   "outputs": [
    {
     "name": "stdout",
     "output_type": "stream",
     "text": [
      "False\n"
     ]
    }
   ],
   "source": [
    "print(4 > 10)"
   ]
  },
  {
   "cell_type": "code",
   "execution_count": 38,
   "id": "364885d2",
   "metadata": {},
   "outputs": [
    {
     "name": "stdout",
     "output_type": "stream",
     "text": [
      "True\n"
     ]
    }
   ],
   "source": [
    "a = 3\n",
    "b = 5\n",
    "print(a <= b)\n",
    "# Checks if a is less or equal to b"
   ]
  },
  {
   "cell_type": "code",
   "execution_count": 41,
   "id": "facb2287",
   "metadata": {},
   "outputs": [
    {
     "name": "stdout",
     "output_type": "stream",
     "text": [
      "False\n"
     ]
    }
   ],
   "source": [
    "a = 4\n",
    "b = 5\n",
    "print(a >= b)\n",
    "# Checks if a is greater or equal to b"
   ]
  },
  {
   "cell_type": "code",
   "execution_count": null,
   "id": "76e1dbec",
   "metadata": {},
   "outputs": [],
   "source": []
  },
  {
   "cell_type": "code",
   "execution_count": 45,
   "id": "abf124a1",
   "metadata": {},
   "outputs": [
    {
     "name": "stdout",
     "output_type": "stream",
     "text": [
      "False\n"
     ]
    }
   ],
   "source": [
    "a = 5\n",
    "b = 10\n",
    "print(a == b)\n",
    "# Checks whether a & b are equal"
   ]
  },
  {
   "cell_type": "code",
   "execution_count": 46,
   "id": "cf59db27",
   "metadata": {},
   "outputs": [
    {
     "name": "stdout",
     "output_type": "stream",
     "text": [
      "True\n"
     ]
    }
   ],
   "source": [
    "a = 5\n",
    "b = 10\n",
    "print(a != b)\n",
    "# Checks whether a & b are not equal"
   ]
  },
  {
   "cell_type": "code",
   "execution_count": null,
   "id": "44e1005e",
   "metadata": {},
   "outputs": [],
   "source": []
  },
  {
   "cell_type": "code",
   "execution_count": null,
   "id": "33f523b2",
   "metadata": {},
   "outputs": [],
   "source": []
  },
  {
   "cell_type": "code",
   "execution_count": null,
   "id": "0b198195",
   "metadata": {},
   "outputs": [],
   "source": []
  },
  {
   "cell_type": "code",
   "execution_count": null,
   "id": "7bb80195",
   "metadata": {},
   "outputs": [],
   "source": []
  },
  {
   "cell_type": "markdown",
   "id": "ea2a8de5",
   "metadata": {},
   "source": [
    "# Compound Assignment\n",
    "![](https://scaler.com/topics/images/what-is-assignment-operator-in-python.webp)"
   ]
  },
  {
   "cell_type": "code",
   "execution_count": 47,
   "id": "72828eec",
   "metadata": {},
   "outputs": [
    {
     "name": "stdout",
     "output_type": "stream",
     "text": [
      "9\n"
     ]
    }
   ],
   "source": [
    "a = 5\n",
    "a = a + 4\n",
    "print(a)"
   ]
  },
  {
   "cell_type": "code",
   "execution_count": null,
   "id": "de8ddcca",
   "metadata": {},
   "outputs": [],
   "source": [
    "# Shorthand way\n",
    "a = 5\n",
    "a += 4\n",
    "print(a)"
   ]
  },
  {
   "cell_type": "code",
   "execution_count": null,
   "id": "534a9107",
   "metadata": {},
   "outputs": [],
   "source": []
  },
  {
   "cell_type": "code",
   "execution_count": 48,
   "id": "6e5fe710",
   "metadata": {},
   "outputs": [
    {
     "name": "stdout",
     "output_type": "stream",
     "text": [
      "8\n"
     ]
    }
   ],
   "source": [
    "b = 10\n",
    "b -= 2 # same as b = b - 2\n",
    "print(b)"
   ]
  },
  {
   "cell_type": "code",
   "execution_count": 49,
   "id": "b88e28fc",
   "metadata": {},
   "outputs": [
    {
     "name": "stdout",
     "output_type": "stream",
     "text": [
      "30\n"
     ]
    }
   ],
   "source": [
    "c = 3\n",
    "c *= 10 # c = c * 10\n",
    "print(c)"
   ]
  },
  {
   "cell_type": "code",
   "execution_count": null,
   "id": "3143fd86",
   "metadata": {},
   "outputs": [],
   "source": []
  },
  {
   "cell_type": "code",
   "execution_count": 50,
   "id": "52272fd7",
   "metadata": {},
   "outputs": [
    {
     "name": "stdout",
     "output_type": "stream",
     "text": [
      "2\n"
     ]
    }
   ],
   "source": [
    "a = 5\n",
    "a =+ 2 # a = +2\n",
    "# reassignment, not a compound statement\n",
    "print(a)"
   ]
  },
  {
   "cell_type": "code",
   "execution_count": 51,
   "id": "9dea8d4f",
   "metadata": {},
   "outputs": [
    {
     "name": "stdout",
     "output_type": "stream",
     "text": [
      "True\n"
     ]
    }
   ],
   "source": [
    "print(\"madhu\" == \"madhu\")"
   ]
  },
  {
   "cell_type": "code",
   "execution_count": 52,
   "id": "e3048024",
   "metadata": {},
   "outputs": [],
   "source": [
    "m = \"madhu\""
   ]
  },
  {
   "cell_type": "code",
   "execution_count": null,
   "id": "04ac4a90",
   "metadata": {},
   "outputs": [],
   "source": []
  },
  {
   "cell_type": "markdown",
   "id": "e1575db0",
   "metadata": {},
   "source": [
    "# Logical Operators - and, or, not\n",
    "![](https://scaler.com/topics/images/logical-operators-in-python.webp)"
   ]
  },
  {
   "cell_type": "code",
   "execution_count": 54,
   "id": "b13821e6",
   "metadata": {},
   "outputs": [
    {
     "name": "stdout",
     "output_type": "stream",
     "text": [
      "and operator\n",
      "False\n",
      "False\n",
      "False\n",
      "True\n"
     ]
    }
   ],
   "source": [
    "print('and operator')\n",
    "print(False and False)\n",
    "print(False and True)\n",
    "print(True and False)\n",
    "print(True and True)"
   ]
  },
  {
   "cell_type": "code",
   "execution_count": 55,
   "id": "e3c63539",
   "metadata": {},
   "outputs": [
    {
     "name": "stdout",
     "output_type": "stream",
     "text": [
      "or operator\n",
      "False\n",
      "True\n",
      "True\n",
      "True\n"
     ]
    }
   ],
   "source": [
    "print('or operator')\n",
    "print(False or False)\n",
    "print(False or True)\n",
    "print(True or False)\n",
    "print(True or True)"
   ]
  },
  {
   "cell_type": "code",
   "execution_count": 56,
   "id": "c59fc7f0",
   "metadata": {},
   "outputs": [
    {
     "name": "stdout",
     "output_type": "stream",
     "text": [
      "False\n"
     ]
    }
   ],
   "source": [
    "# not operator\n",
    "# Gives you the opposite bool result\n",
    "print(not True)"
   ]
  },
  {
   "cell_type": "code",
   "execution_count": 57,
   "id": "57624d9d",
   "metadata": {},
   "outputs": [
    {
     "name": "stdout",
     "output_type": "stream",
     "text": [
      "True\n"
     ]
    }
   ],
   "source": [
    "print(not False)"
   ]
  },
  {
   "cell_type": "code",
   "execution_count": null,
   "id": "071313b4",
   "metadata": {},
   "outputs": [],
   "source": [
    "!= => two operands whose value is being compared, Relational Operator\n",
    "not => takes a single operand only, Logical Operator"
   ]
  },
  {
   "cell_type": "code",
   "execution_count": 59,
   "id": "5bfda87d",
   "metadata": {},
   "outputs": [
    {
     "name": "stdout",
     "output_type": "stream",
     "text": [
      "False\n",
      "False\n"
     ]
    }
   ],
   "source": [
    "print(10 != 10)\n",
    "print(not (10 == 10))\n",
    "# Both are equivalant"
   ]
  },
  {
   "cell_type": "code",
   "execution_count": null,
   "id": "1b606c03",
   "metadata": {},
   "outputs": [],
   "source": []
  },
  {
   "cell_type": "code",
   "execution_count": 60,
   "id": "653dfe21",
   "metadata": {},
   "outputs": [
    {
     "name": "stdout",
     "output_type": "stream",
     "text": [
      "True\n"
     ]
    }
   ],
   "source": [
    "print(True and (not False))"
   ]
  },
  {
   "cell_type": "code",
   "execution_count": null,
   "id": "4da94ddd",
   "metadata": {},
   "outputs": [],
   "source": [
    "(not False) => True\n",
    "True and True"
   ]
  },
  {
   "cell_type": "code",
   "execution_count": null,
   "id": "5bde342b",
   "metadata": {},
   "outputs": [],
   "source": []
  },
  {
   "cell_type": "code",
   "execution_count": null,
   "id": "38f68bed",
   "metadata": {},
   "outputs": [],
   "source": []
  },
  {
   "cell_type": "markdown",
   "id": "455f0eeb",
   "metadata": {},
   "source": [
    "# Control Statements\n",
    "![](https://scaler.com/topics/images/Python-Flow-control-statements.webp)"
   ]
  },
  {
   "cell_type": "code",
   "execution_count": 62,
   "id": "84a24f3d",
   "metadata": {},
   "outputs": [
    {
     "name": "stdout",
     "output_type": "stream",
     "text": [
      "Hello\n",
      "Hi\n"
     ]
    }
   ],
   "source": [
    "# If the input is Hello, print Hi\n",
    "s = input()\n",
    "\n",
    "if s == \"Hello\":\n",
    "    print(\"Hi\")\n",
    "    \n",
    "print(\"After the if\")"
   ]
  },
  {
   "cell_type": "code",
   "execution_count": 68,
   "id": "faade231",
   "metadata": {},
   "outputs": [
    {
     "name": "stdout",
     "output_type": "stream",
     "text": [
      "After the if\n"
     ]
    }
   ],
   "source": [
    "s = \"ok\"\n",
    "\n",
    "if s == \"Hello\":\n",
    "    print(\"Hi\")\n",
    "    print(\"How are you\")\n",
    "    \n",
    "print(\"After the if\")"
   ]
  },
  {
   "cell_type": "code",
   "execution_count": null,
   "id": "0f7d078b",
   "metadata": {},
   "outputs": [],
   "source": [
    "# Recommendation - Use tab spaces for indentation"
   ]
  },
  {
   "cell_type": "code",
   "execution_count": null,
   "id": "6b64f3ae",
   "metadata": {},
   "outputs": [],
   "source": []
  },
  {
   "cell_type": "code",
   "execution_count": null,
   "id": "d238f4d8",
   "metadata": {},
   "outputs": [],
   "source": [
    "# if-else case"
   ]
  },
  {
   "cell_type": "code",
   "execution_count": 77,
   "id": "b2d183e5",
   "metadata": {},
   "outputs": [
    {
     "name": "stdout",
     "output_type": "stream",
     "text": [
      "Wear sunglasses\n"
     ]
    }
   ],
   "source": [
    "temperature = 55\n",
    "\n",
    "if temperature <= 20:\n",
    "    print(\"Wear a jacket\")\n",
    "else:\n",
    "    print(\"Wear sunglasses\")"
   ]
  },
  {
   "cell_type": "code",
   "execution_count": 74,
   "id": "29abe2a1",
   "metadata": {},
   "outputs": [],
   "source": [
    "# else case runs when all other previous cases fail"
   ]
  },
  {
   "cell_type": "code",
   "execution_count": null,
   "id": "854372a5",
   "metadata": {},
   "outputs": [],
   "source": []
  },
  {
   "cell_type": "code",
   "execution_count": null,
   "id": "697e55a1",
   "metadata": {},
   "outputs": [],
   "source": [
    "# if-elif-else\n",
    "# elif = else if"
   ]
  },
  {
   "cell_type": "code",
   "execution_count": 80,
   "id": "729d908a",
   "metadata": {},
   "outputs": [
    {
     "name": "stdout",
     "output_type": "stream",
     "text": [
      "Invalid\n"
     ]
    }
   ],
   "source": [
    "light == \"blue\"\n",
    "\n",
    "if light == \"red\":\n",
    "    print(\"Stop\")\n",
    "elif light == \"yellow\":\n",
    "    print(\"Get ready\")\n",
    "elif light == \"green\":\n",
    "    print(\"Go\")\n",
    "else:\n",
    "    print(\"Invalid\")"
   ]
  },
  {
   "cell_type": "code",
   "execution_count": null,
   "id": "a22f8fbb",
   "metadata": {},
   "outputs": [],
   "source": []
  },
  {
   "cell_type": "code",
   "execution_count": 82,
   "id": "76b14fd4",
   "metadata": {},
   "outputs": [
    {
     "name": "stdout",
     "output_type": "stream",
     "text": [
      "Medium number\n"
     ]
    }
   ],
   "source": [
    "x = 50\n",
    "\n",
    "if x <= 10:\n",
    "    print(\"Small number\")\n",
    "elif x <= 100:\n",
    "    print(\"Medium number\")\n",
    "elif x <= 1000:\n",
    "    print(\"Large number\")\n",
    "elif x <= 10000:\n",
    "    print(\"very large number\")\n",
    "else:\n",
    "    print(\"No idea\")"
   ]
  },
  {
   "cell_type": "code",
   "execution_count": null,
   "id": "630f66d1",
   "metadata": {},
   "outputs": [],
   "source": []
  },
  {
   "cell_type": "code",
   "execution_count": 83,
   "id": "19650004",
   "metadata": {},
   "outputs": [
    {
     "ename": "NameError",
     "evalue": "name 'l' is not defined",
     "output_type": "error",
     "traceback": [
      "\u001b[0;31m---------------------------------------------------------------------------\u001b[0m",
      "\u001b[0;31mNameError\u001b[0m                                 Traceback (most recent call last)",
      "\u001b[0;32m/var/folders/jn/1bsrct314hv5xmfm7vrcdrzc0000gn/T/ipykernel_9448/3544461938.py\u001b[0m in \u001b[0;36m<module>\u001b[0;34m\u001b[0m\n\u001b[0;32m----> 1\u001b[0;31m \u001b[0ml\u001b[0m \u001b[0;34m==\u001b[0m \u001b[0;34m\"blue\"\u001b[0m\u001b[0;34m\u001b[0m\u001b[0;34m\u001b[0m\u001b[0m\n\u001b[0m\u001b[1;32m      2\u001b[0m \u001b[0;34m\u001b[0m\u001b[0m\n\u001b[1;32m      3\u001b[0m \u001b[0;32mif\u001b[0m \u001b[0ml\u001b[0m \u001b[0;34m==\u001b[0m \u001b[0;34m\"red\"\u001b[0m\u001b[0;34m:\u001b[0m\u001b[0;34m\u001b[0m\u001b[0;34m\u001b[0m\u001b[0m\n\u001b[1;32m      4\u001b[0m     \u001b[0mprint\u001b[0m\u001b[0;34m(\u001b[0m\u001b[0;34m\"Stop\"\u001b[0m\u001b[0;34m)\u001b[0m\u001b[0;34m\u001b[0m\u001b[0;34m\u001b[0m\u001b[0m\n\u001b[1;32m      5\u001b[0m \u001b[0;32melif\u001b[0m \u001b[0ml\u001b[0m \u001b[0;34m==\u001b[0m \u001b[0;34m\"yellow\"\u001b[0m\u001b[0;34m:\u001b[0m\u001b[0;34m\u001b[0m\u001b[0;34m\u001b[0m\u001b[0m\n",
      "\u001b[0;31mNameError\u001b[0m: name 'l' is not defined"
     ]
    }
   ],
   "source": [
    "l == \"blue\"\n",
    "\n",
    "if l == \"red\":\n",
    "    print(\"Stop\")\n",
    "elif l == \"yellow\":\n",
    "    print(\"Get ready\")\n",
    "elif l == \"green\":\n",
    "    print(\"Go\")\n",
    "else:\n",
    "    print(\"Invalid\")"
   ]
  },
  {
   "cell_type": "code",
   "execution_count": null,
   "id": "6f1bf68f",
   "metadata": {},
   "outputs": [],
   "source": []
  },
  {
   "cell_type": "code",
   "execution_count": null,
   "id": "70316d10",
   "metadata": {},
   "outputs": [],
   "source": []
  },
  {
   "cell_type": "markdown",
   "id": "da266cb3",
   "metadata": {},
   "source": [
    "#### Quiz\n",
    "Assume input is \"Rainy\", what is the output of the following code ?\n",
    "\n",
    "```py\n",
    "weather = input()\n",
    "if weather == \"Sunny\" :\n",
    "   print(\"Wow\")\n",
    "\n",
    "print(\"Fun!\")\n",
    "```"
   ]
  },
  {
   "cell_type": "code",
   "execution_count": 84,
   "id": "fbe68270",
   "metadata": {},
   "outputs": [
    {
     "name": "stdout",
     "output_type": "stream",
     "text": [
      "Rainy\n",
      "Fun!\n"
     ]
    }
   ],
   "source": [
    "weather = input()\n",
    "if weather == \"Sunny\" :\n",
    "    print(\"Wow\")\n",
    "\n",
    "print(\"Fun!\")"
   ]
  },
  {
   "cell_type": "code",
   "execution_count": null,
   "id": "d6cba228",
   "metadata": {},
   "outputs": [],
   "source": []
  },
  {
   "cell_type": "code",
   "execution_count": null,
   "id": "00de9b19",
   "metadata": {},
   "outputs": [],
   "source": []
  },
  {
   "cell_type": "code",
   "execution_count": null,
   "id": "a889e763",
   "metadata": {},
   "outputs": [],
   "source": []
  },
  {
   "cell_type": "markdown",
   "id": "5c84fbdd",
   "metadata": {},
   "source": [
    "#### Quiz\n",
    "Assume input is \"Sunny\", what is the output of the following code ?\n",
    "\n",
    "```py\n",
    "weather = input()\n",
    "if weather == \"Sunny\" :\n",
    "   print(\"Wow\")\n",
    "\n",
    "print(\"Fun!\")\n",
    "```"
   ]
  },
  {
   "cell_type": "code",
   "execution_count": 85,
   "id": "463f345a",
   "metadata": {},
   "outputs": [
    {
     "name": "stdout",
     "output_type": "stream",
     "text": [
      "Sunny\n",
      "Wow\n",
      "Fun!\n"
     ]
    }
   ],
   "source": [
    "weather = input()\n",
    "if weather == \"Sunny\" :\n",
    "    print(\"Wow\")\n",
    "\n",
    "print(\"Fun!\")"
   ]
  },
  {
   "cell_type": "code",
   "execution_count": null,
   "id": "c2b64b3c",
   "metadata": {},
   "outputs": [],
   "source": []
  },
  {
   "cell_type": "code",
   "execution_count": null,
   "id": "fa9d1928",
   "metadata": {},
   "outputs": [],
   "source": []
  },
  {
   "cell_type": "code",
   "execution_count": null,
   "id": "610d6357",
   "metadata": {},
   "outputs": [],
   "source": []
  },
  {
   "cell_type": "code",
   "execution_count": 86,
   "id": "1849d64a",
   "metadata": {},
   "outputs": [
    {
     "name": "stdout",
     "output_type": "stream",
     "text": [
      "ML is fun\n",
      "I love DS\n"
     ]
    }
   ],
   "source": [
    "# Quiz\n",
    "a = 1 # True\n",
    "b = 0 # False\n",
    "c = 1 # True\n",
    "\n",
    "if (a and b):\n",
    "    print(\"Scaler is awesome\")\n",
    "elif (a and c):\n",
    "    print(\"ML is fun\")\n",
    "    \n",
    "if (a and b and c):\n",
    "    print(\"Python is amazing\")\n",
    "    \n",
    "if (a or b or c):\n",
    "    print(\"I love DS\")"
   ]
  },
  {
   "cell_type": "code",
   "execution_count": null,
   "id": "336aadd8",
   "metadata": {},
   "outputs": [],
   "source": [
    "# ML is fun\n",
    "# I love DS"
   ]
  },
  {
   "cell_type": "code",
   "execution_count": null,
   "id": "3a9da603",
   "metadata": {},
   "outputs": [],
   "source": []
  },
  {
   "cell_type": "code",
   "execution_count": null,
   "id": "54f5805e",
   "metadata": {},
   "outputs": [],
   "source": []
  },
  {
   "cell_type": "code",
   "execution_count": null,
   "id": "c62f191e",
   "metadata": {},
   "outputs": [],
   "source": [
    "if (a and b):\n",
    "    print(\"Scaler is awesome\")\n",
    "    \n",
    "if (a and b and c):\n",
    "    print(\"Python is amazing\")\n",
    "    \n",
    "if (a or b or c):\n",
    "    print(\"I love DS\")\n",
    "else:\n",
    "    print(\"Hi there\")"
   ]
  },
  {
   "cell_type": "code",
   "execution_count": null,
   "id": "c55b8da3",
   "metadata": {},
   "outputs": [],
   "source": []
  },
  {
   "cell_type": "code",
   "execution_count": null,
   "id": "c25be44d",
   "metadata": {},
   "outputs": [],
   "source": []
  },
  {
   "cell_type": "code",
   "execution_count": null,
   "id": "9461bc22",
   "metadata": {},
   "outputs": [],
   "source": []
  },
  {
   "cell_type": "code",
   "execution_count": 87,
   "id": "207c9b35",
   "metadata": {},
   "outputs": [
    {
     "name": "stdout",
     "output_type": "stream",
     "text": [
      "Machine Learning\n"
     ]
    }
   ],
   "source": [
    "if False:\n",
    "    print(\"Artificial Intelligence\")\n",
    "elif True:\n",
    "    print(\"Machine Learning\")\n",
    "elif True:\n",
    "    print(\"Data Science\")\n",
    "else:\n",
    "    print(\"Deep Learning\") "
   ]
  },
  {
   "cell_type": "code",
   "execution_count": null,
   "id": "b1ded9ff",
   "metadata": {},
   "outputs": [],
   "source": []
  },
  {
   "cell_type": "code",
   "execution_count": null,
   "id": "e804905a",
   "metadata": {},
   "outputs": [],
   "source": []
  },
  {
   "cell_type": "markdown",
   "id": "bc223917",
   "metadata": {},
   "source": [
    "### Challenge: Max of two integers"
   ]
  },
  {
   "cell_type": "code",
   "execution_count": 90,
   "id": "aeaeef81",
   "metadata": {},
   "outputs": [
    {
     "name": "stdout",
     "output_type": "stream",
     "text": [
      "5\n",
      "5\n",
      "5\n"
     ]
    }
   ],
   "source": [
    "a = int(input())\n",
    "b = int(input())\n",
    "\n",
    "if a >= b:\n",
    "    print(a)\n",
    "else:\n",
    "    print(b)"
   ]
  },
  {
   "cell_type": "code",
   "execution_count": 91,
   "id": "e410fcdd",
   "metadata": {},
   "outputs": [
    {
     "name": "stdout",
     "output_type": "stream",
     "text": [
      "10\n",
      "9\n",
      "5\n"
     ]
    }
   ],
   "source": [
    "# Inbuilt function\n",
    "print(max(10, 3))\n",
    "print(max(4, 9))\n",
    "print(max(5, 5))"
   ]
  },
  {
   "cell_type": "code",
   "execution_count": null,
   "id": "7b52fb81",
   "metadata": {},
   "outputs": [],
   "source": []
  },
  {
   "cell_type": "code",
   "execution_count": null,
   "id": "2266a8a7",
   "metadata": {},
   "outputs": [],
   "source": []
  },
  {
   "cell_type": "code",
   "execution_count": null,
   "id": "f27b2d64",
   "metadata": {},
   "outputs": [],
   "source": []
  },
  {
   "cell_type": "markdown",
   "id": "24223bfd",
   "metadata": {},
   "source": [
    "### Challenge: Electricity bill problem\n",
    "Given A units of electricity have been consumed by your house, print the bill amount\n",
    "- 1 to 50 -> 1 rupee per unit\n",
    "- 51 to 100 -> 2 rupee per unit\n",
    "- 101 and beyond -> 5 rupee per unit"
   ]
  },
  {
   "cell_type": "code",
   "execution_count": null,
   "id": "a902cc06",
   "metadata": {},
   "outputs": [],
   "source": [
    "# Example 1\n",
    "# A = 20\n",
    "# Bill = 20 * 1 = 20 Rs"
   ]
  },
  {
   "cell_type": "code",
   "execution_count": 92,
   "id": "5610ffba",
   "metadata": {},
   "outputs": [],
   "source": [
    "# Example 2\n",
    "# A = 70\n",
    "# Bill = 50 * 1 + 20 * 2 = 50 + 40 = 90 Rs"
   ]
  },
  {
   "cell_type": "code",
   "execution_count": null,
   "id": "665a2985",
   "metadata": {},
   "outputs": [],
   "source": [
    "# Example 3\n",
    "# A = 90\n",
    "# Bill = 50 * 1 + 40 * 2 = 50 + 80 = 130 Rs"
   ]
  },
  {
   "cell_type": "code",
   "execution_count": 97,
   "id": "5ed7e9c1",
   "metadata": {},
   "outputs": [
    {
     "name": "stdout",
     "output_type": "stream",
     "text": [
      "130\n",
      "300\n"
     ]
    }
   ],
   "source": [
    "A = int(input())\n",
    "\n",
    "if A <= 50:\n",
    "    print(A * 1)\n",
    "elif 51 <= A <= 100:\n",
    "    print(50 * 1 + (A - 50) * 2)\n",
    "else:\n",
    "    print(50*1 + 50*2 + (A - 100)*5)"
   ]
  },
  {
   "cell_type": "code",
   "execution_count": null,
   "id": "8066f480",
   "metadata": {},
   "outputs": [],
   "source": []
  },
  {
   "cell_type": "code",
   "execution_count": null,
   "id": "dbb344b3",
   "metadata": {},
   "outputs": [],
   "source": []
  },
  {
   "cell_type": "code",
   "execution_count": null,
   "id": "3b107159",
   "metadata": {},
   "outputs": [],
   "source": []
  },
  {
   "cell_type": "markdown",
   "id": "c9f598ba",
   "metadata": {},
   "source": [
    "### Challenge: FizzBuzz\n",
    "Write a program that takes in a number N as input and does the following:\n",
    "- if N is a multiple of only 3, print Fizz\n",
    "- if N is a multiple of only 5 (not 3), print Buzz\n",
    "- if N is a multiple of both 3 and 5, print FizzBuzz\n",
    "![](https://scaler.com/topics/images/fizzbuzz-program-in-python.webp)"
   ]
  },
  {
   "cell_type": "code",
   "execution_count": 104,
   "id": "53d38d97",
   "metadata": {},
   "outputs": [
    {
     "name": "stdout",
     "output_type": "stream",
     "text": [
      "15\n",
      "FizzBuzz\n"
     ]
    }
   ],
   "source": [
    "N = int(input())\n",
    "\n",
    "if N % 3 == 0 and N % 5 == 0:\n",
    "    print(\"FizzBuzz\")\n",
    "elif N % 3 == 0:\n",
    "    print(\"Fizz\")\n",
    "elif N % 5 == 0:\n",
    "    print(\"Buzz\")"
   ]
  },
  {
   "cell_type": "code",
   "execution_count": null,
   "id": "47b53e62",
   "metadata": {},
   "outputs": [],
   "source": []
  },
  {
   "cell_type": "code",
   "execution_count": null,
   "id": "927ae7f2",
   "metadata": {},
   "outputs": [],
   "source": []
  },
  {
   "cell_type": "code",
   "execution_count": null,
   "id": "d9ba2650",
   "metadata": {},
   "outputs": [],
   "source": []
  },
  {
   "cell_type": "markdown",
   "id": "0d807b91",
   "metadata": {},
   "source": [
    "# Bonus Reading Material\n",
    "- Operators in Python - https://www.scaler.com/topics/python/operators-in-python/\n",
    "- Arithmetic Operators in Python - https://www.scaler.com/topics/arithmetic-operators-in-python/\n",
    "- What are Relational Operators in Python? - https://www.scaler.com/topics/relational-operators-in-python/\n",
    "- Modulus in Python - https://www.scaler.com/topics/modulus-in-python/\n",
    "- What is Assignment Operator in Python? - https://www.scaler.com/topics/assignment-operator-in-python/\n",
    "- What are Logical Operators in Python? - https://www.scaler.com/topics/logical-operators-in-python/\n",
    "- Control Flow Statements in Python - https://www.scaler.com/topics/python/control-flow-statements-in-python/\n",
    "- Python if…else Statement - https://www.scaler.com/topics/python/python-if-else-statement/\n",
    "- Even Odd Program in Python - https://www.scaler.com/topics/even-odd-program-in-python/\n",
    "- FizzBuzz Program in Python - https://www.scaler.com/topics/fizzbuzz-program-in-python/"
   ]
  },
  {
   "cell_type": "code",
   "execution_count": null,
   "id": "fab4f2bd",
   "metadata": {},
   "outputs": [],
   "source": []
  },
  {
   "cell_type": "code",
   "execution_count": null,
   "id": "8d0c01bd",
   "metadata": {},
   "outputs": [],
   "source": []
  },
  {
   "cell_type": "markdown",
   "id": "d0e7bee7",
   "metadata": {},
   "source": [
    "# Doubts"
   ]
  },
  {
   "cell_type": "code",
   "execution_count": null,
   "id": "eb02bb2b",
   "metadata": {},
   "outputs": [],
   "source": [
    "# Identity - is\n",
    "# Membership - in operator => Covered in Lists, Strings, Tuples, Dictionary, Sets\n",
    "# Bitwise - Intermediate, Advanced (Covered later on)"
   ]
  },
  {
   "cell_type": "code",
   "execution_count": null,
   "id": "d39e2618",
   "metadata": {},
   "outputs": [],
   "source": []
  },
  {
   "cell_type": "code",
   "execution_count": 105,
   "id": "bf65f4ab",
   "metadata": {},
   "outputs": [],
   "source": [
    "# is operator => Checks if the operands are referring to the same object"
   ]
  },
  {
   "cell_type": "code",
   "execution_count": 108,
   "id": "ec261f08",
   "metadata": {},
   "outputs": [
    {
     "name": "stdout",
     "output_type": "stream",
     "text": [
      "True\n"
     ]
    }
   ],
   "source": [
    "a = 1000\n",
    "b = a\n",
    "\n",
    "print(a is b)"
   ]
  },
  {
   "cell_type": "code",
   "execution_count": 109,
   "id": "1c4d9a2d",
   "metadata": {},
   "outputs": [
    {
     "name": "stdout",
     "output_type": "stream",
     "text": [
      "False\n"
     ]
    }
   ],
   "source": [
    "a = 1000\n",
    "b = 1000\n",
    "\n",
    "print(a is b)"
   ]
  },
  {
   "cell_type": "code",
   "execution_count": null,
   "id": "eae0ccfd",
   "metadata": {},
   "outputs": [],
   "source": [
    "# Important Note:\n",
    "# Any number in the range of -5 to 256 is going to provide some\n",
    "# very different results\n",
    "# https://github.com/satwikkansal/wtfpython#-how-not-to-use-is-operator"
   ]
  },
  {
   "cell_type": "code",
   "execution_count": null,
   "id": "75539f10",
   "metadata": {},
   "outputs": [],
   "source": []
  },
  {
   "cell_type": "code",
   "execution_count": 111,
   "id": "7c54cccf",
   "metadata": {},
   "outputs": [
    {
     "name": "stdout",
     "output_type": "stream",
     "text": [
      "False\n"
     ]
    }
   ],
   "source": [
    "a = 5\n",
    "print(a is int)"
   ]
  },
  {
   "cell_type": "code",
   "execution_count": null,
   "id": "211f3096",
   "metadata": {},
   "outputs": [],
   "source": []
  },
  {
   "cell_type": "code",
   "execution_count": 112,
   "id": "e7cf4ff0",
   "metadata": {},
   "outputs": [
    {
     "name": "stdout",
     "output_type": "stream",
     "text": [
      "False\n"
     ]
    }
   ],
   "source": [
    "class Foo:\n",
    "    pass\n",
    "\n",
    "f = Foo()\n",
    "\n",
    "print(f is Foo)"
   ]
  },
  {
   "cell_type": "code",
   "execution_count": null,
   "id": "1f8cf466",
   "metadata": {},
   "outputs": [],
   "source": []
  }
 ],
 "metadata": {
  "kernelspec": {
   "display_name": "Python 3 (ipykernel)",
   "language": "python",
   "name": "python3"
  },
  "language_info": {
   "codemirror_mode": {
    "name": "ipython",
    "version": 3
   },
   "file_extension": ".py",
   "mimetype": "text/x-python",
   "name": "python",
   "nbconvert_exporter": "python",
   "pygments_lexer": "ipython3",
   "version": "3.9.18"
  }
 },
 "nbformat": 4,
 "nbformat_minor": 5
}
