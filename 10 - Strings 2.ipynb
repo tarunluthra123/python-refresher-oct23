{
 "cells": [
  {
   "cell_type": "markdown",
   "id": "fa730330-e254-4d45-9ae5-55776184ef00",
   "metadata": {
    "tags": []
   },
   "source": [
    "### Strings2"
   ]
  },
  {
   "cell_type": "code",
   "execution_count": 1,
   "id": "e6907ac6-8a36-4fd5-87c7-da3575f87c5e",
   "metadata": {},
   "outputs": [],
   "source": [
    "# Quizzes"
   ]
  },
  {
   "cell_type": "code",
   "execution_count": 2,
   "id": "d0a63fa8-5523-4525-b894-c77ccb78ec87",
   "metadata": {},
   "outputs": [],
   "source": [
    "# + , *"
   ]
  },
  {
   "cell_type": "code",
   "execution_count": 6,
   "id": "b02015da-af35-4164-9f7c-c27a50ce78f2",
   "metadata": {},
   "outputs": [],
   "source": [
    "# Quiz time"
   ]
  },
  {
   "cell_type": "code",
   "execution_count": 3,
   "id": "2a16c674-ec53-4f57-9f5e-25ffd58af738",
   "metadata": {},
   "outputs": [],
   "source": [
    "name = \"Rahul\"\n",
    "second = \"Janghu\""
   ]
  },
  {
   "cell_type": "code",
   "execution_count": 4,
   "id": "f0f25c46-5784-4197-831b-e503d57c0302",
   "metadata": {},
   "outputs": [
    {
     "data": {
      "text/plain": [
       "'RahulJanghu'"
      ]
     },
     "execution_count": 4,
     "metadata": {},
     "output_type": "execute_result"
    }
   ],
   "source": [
    "name + second"
   ]
  },
  {
   "cell_type": "code",
   "execution_count": 5,
   "id": "c1939dfe-eeea-4200-8f76-14410606741f",
   "metadata": {},
   "outputs": [
    {
     "data": {
      "text/plain": [
       "'RahulRahulRahul'"
      ]
     },
     "execution_count": 5,
     "metadata": {},
     "output_type": "execute_result"
    }
   ],
   "source": [
    "name * 3"
   ]
  },
  {
   "cell_type": "code",
   "execution_count": null,
   "id": "3549147d-5edf-4edd-9d6d-8867d31ce611",
   "metadata": {},
   "outputs": [
    {
     "name": "stdout",
     "output_type": "stream",
     "text": [
      "65\n"
     ]
    }
   ],
   "source": [
    "print(ord('A'))"
   ]
  },
  {
   "cell_type": "code",
   "execution_count": null,
   "id": "9aa4ee7c-a0aa-4e65-82ae-bac1577d6424",
   "metadata": {},
   "outputs": [],
   "source": []
  },
  {
   "cell_type": "code",
   "execution_count": null,
   "id": "1a3bf255-8d38-44e6-bfe9-71bc0e06d3b3",
   "metadata": {},
   "outputs": [],
   "source": []
  },
  {
   "cell_type": "code",
   "execution_count": null,
   "id": "6808b05f-8c34-4080-8746-5267a2d1223b",
   "metadata": {},
   "outputs": [],
   "source": []
  },
  {
   "cell_type": "code",
   "execution_count": null,
   "id": "0011ffe2-ed8c-4301-967e-06a9d3f6fa5e",
   "metadata": {},
   "outputs": [],
   "source": []
  },
  {
   "cell_type": "code",
   "execution_count": null,
   "id": "9f81a983-63a0-426d-b536-389de2dc97db",
   "metadata": {},
   "outputs": [],
   "source": []
  },
  {
   "cell_type": "markdown",
   "id": "402519fd-4df0-4f36-b533-8f9fb25d0d76",
   "metadata": {},
   "source": [
    "### Pattern"
   ]
  },
  {
   "cell_type": "code",
   "execution_count": 8,
   "id": "02e4f592-2a7a-4098-bb5f-f117478d40da",
   "metadata": {},
   "outputs": [],
   "source": [
    "# The cool way to print the pattern:\n",
    "\n",
    "# # # # #\n",
    "# # # # #\n",
    "# # # # #\n",
    "# # # # #\n",
    "# # # # #"
   ]
  },
  {
   "cell_type": "code",
   "execution_count": 9,
   "id": "bf7d1931-0d43-4db5-82ae-74a4867ad506",
   "metadata": {},
   "outputs": [],
   "source": [
    "# Quiz"
   ]
  },
  {
   "cell_type": "code",
   "execution_count": 10,
   "id": "68026315-3c9a-4f89-a966-b8abee0b41a3",
   "metadata": {},
   "outputs": [],
   "source": [
    "# Using nested for loop"
   ]
  },
  {
   "cell_type": "code",
   "execution_count": 12,
   "id": "a76c7b24-22a5-4d3a-81b4-c4572b7976fe",
   "metadata": {},
   "outputs": [
    {
     "name": "stdout",
     "output_type": "stream",
     "text": [
      "# # # # # \n",
      "# # # # # \n",
      "# # # # # \n",
      "# # # # # \n",
      "# # # # # \n"
     ]
    }
   ],
   "source": [
    "for i in range(5):\n",
    "    for j in range(5):\n",
    "        print(\"#\", end=\" \")\n",
    "    print()"
   ]
  },
  {
   "cell_type": "code",
   "execution_count": null,
   "id": "05fdc70a-cae5-4388-9cab-774c8843e29b",
   "metadata": {},
   "outputs": [],
   "source": []
  },
  {
   "cell_type": "code",
   "execution_count": 13,
   "id": "130a2ac0-3e3f-4039-bdc1-4dc0ffe32368",
   "metadata": {},
   "outputs": [],
   "source": [
    "# Quiz"
   ]
  },
  {
   "cell_type": "code",
   "execution_count": 18,
   "id": "39733525-c43e-42c1-acd5-9f9c4995fd4a",
   "metadata": {},
   "outputs": [
    {
     "name": "stdout",
     "output_type": "stream",
     "text": [
      "# # # # # \n",
      "# # # # # \n",
      "# # # # # \n",
      "# # # # # \n",
      "# # # # # "
     ]
    }
   ],
   "source": [
    "for i in range(5):\n",
    "    print(\"#\", end=\" \")\n",
    "print() \n",
    "\n",
    "for i in range(5):\n",
    "    print(\"#\", end=\" \")\n",
    "print()\n",
    "\n",
    "for i in range(5):\n",
    "    print(\"#\", end=\" \")\n",
    "print()\n",
    "\n",
    "for i in range(5):\n",
    "    print(\"#\", end=\" \")\n",
    "print()\n",
    "\n",
    "for i in range(5):\n",
    "    print(\"#\", end=\" \")"
   ]
  },
  {
   "cell_type": "code",
   "execution_count": 20,
   "id": "3ba9e502-b773-43c6-8b4a-09c9620d03ac",
   "metadata": {},
   "outputs": [
    {
     "name": "stdout",
     "output_type": "stream",
     "text": [
      "# # # # # \n",
      "# # # # # \n",
      "# # # # # \n",
      "# # # # # \n",
      "# # # # # \n"
     ]
    }
   ],
   "source": [
    "print(\"# \" * 5)\n",
    "print(\"# \" * 5)\n",
    "print(\"# \" * 5)\n",
    "print(\"# \" * 5)\n",
    "print(\"# \" * 5)"
   ]
  },
  {
   "cell_type": "code",
   "execution_count": null,
   "id": "5c7040ef-2e63-4ff4-b0d8-b64acd39e7f3",
   "metadata": {},
   "outputs": [],
   "source": []
  },
  {
   "cell_type": "code",
   "execution_count": 21,
   "id": "4a46792b-d4ac-429b-a5d2-6293cb8d02e9",
   "metadata": {},
   "outputs": [],
   "source": [
    "# Using a single loop"
   ]
  },
  {
   "cell_type": "code",
   "execution_count": 22,
   "id": "659c65f8-1018-4190-8ba7-a386b6afed57",
   "metadata": {},
   "outputs": [
    {
     "name": "stdout",
     "output_type": "stream",
     "text": [
      "# # # # # \n",
      "# # # # # \n",
      "# # # # # \n",
      "# # # # # \n",
      "# # # # # \n"
     ]
    }
   ],
   "source": [
    "for i in range(5):\n",
    "    print(\"# \" * 5)"
   ]
  },
  {
   "cell_type": "code",
   "execution_count": null,
   "id": "88a7b661-4833-4051-8299-68166e8fc3d7",
   "metadata": {},
   "outputs": [],
   "source": []
  },
  {
   "cell_type": "code",
   "execution_count": 23,
   "id": "4399360e-172c-4e9c-8f0e-dba569351a1c",
   "metadata": {},
   "outputs": [],
   "source": [
    "def pattern(n):\n",
    "    for i in range(n):\n",
    "        print(\"# \" * n)"
   ]
  },
  {
   "cell_type": "code",
   "execution_count": 26,
   "id": "72882df6-486f-4f9c-be4b-078dcd201196",
   "metadata": {},
   "outputs": [
    {
     "name": "stdout",
     "output_type": "stream",
     "text": [
      "# # # # # # # # # \n",
      "# # # # # # # # # \n",
      "# # # # # # # # # \n",
      "# # # # # # # # # \n",
      "# # # # # # # # # \n",
      "# # # # # # # # # \n",
      "# # # # # # # # # \n",
      "# # # # # # # # # \n",
      "# # # # # # # # # \n"
     ]
    }
   ],
   "source": [
    "pattern(9)"
   ]
  },
  {
   "cell_type": "code",
   "execution_count": null,
   "id": "7784b358-420e-4fe2-9f12-03ab2deeabe6",
   "metadata": {},
   "outputs": [],
   "source": []
  },
  {
   "cell_type": "code",
   "execution_count": null,
   "id": "75e517a1-33a0-46a1-b01d-e116f757aecf",
   "metadata": {},
   "outputs": [],
   "source": []
  },
  {
   "cell_type": "code",
   "execution_count": null,
   "id": "1deaa37e-87b4-4b42-8107-a5e897be2e07",
   "metadata": {},
   "outputs": [],
   "source": []
  },
  {
   "cell_type": "markdown",
   "id": "5a627a9c-32e1-43ec-8497-9dc13611a8d0",
   "metadata": {},
   "source": [
    "# Formatted strings"
   ]
  },
  {
   "cell_type": "code",
   "execution_count": 27,
   "id": "a23641c0-d27e-474d-9b13-25fdb5d3a3ed",
   "metadata": {},
   "outputs": [],
   "source": [
    "# intro please :)"
   ]
  },
  {
   "cell_type": "code",
   "execution_count": 29,
   "id": "5e48e997-78cf-43d3-8b72-b6e40509ae1a",
   "metadata": {},
   "outputs": [
    {
     "data": {
      "text/plain": [
       "'Janghu'"
      ]
     },
     "execution_count": 29,
     "metadata": {},
     "output_type": "execute_result"
    }
   ],
   "source": [
    "name = \"Rahul\"\n",
    "second = \"Janghu\""
   ]
  },
  {
   "cell_type": "code",
   "execution_count": 30,
   "id": "68a96338-146d-46e6-a660-aa9ffd4b9163",
   "metadata": {},
   "outputs": [
    {
     "name": "stdout",
     "output_type": "stream",
     "text": [
      "Hey my name is Rahul and second name is  Janghu\n"
     ]
    }
   ],
   "source": [
    "print(\"Hey my name is\", name, \"and second name is \", second)"
   ]
  },
  {
   "cell_type": "code",
   "execution_count": null,
   "id": "46298adb-c4d2-4043-af79-c827fbbdbd65",
   "metadata": {},
   "outputs": [],
   "source": []
  },
  {
   "cell_type": "code",
   "execution_count": null,
   "id": "11595b2d-f8ab-4c8d-bf74-ec36089bfcac",
   "metadata": {},
   "outputs": [],
   "source": []
  },
  {
   "cell_type": "code",
   "execution_count": 31,
   "id": "0212ceee-4146-4553-a4f2-ea5a922d2579",
   "metadata": {},
   "outputs": [],
   "source": [
    "# 1st method"
   ]
  },
  {
   "cell_type": "code",
   "execution_count": 32,
   "id": "ce7a7c71-c018-4c20-965b-acbb7bc542c5",
   "metadata": {},
   "outputs": [],
   "source": [
    "# format"
   ]
  },
  {
   "cell_type": "code",
   "execution_count": 33,
   "id": "6d796152-7676-4630-9595-0773fa508f6d",
   "metadata": {},
   "outputs": [],
   "source": [
    "# quiz"
   ]
  },
  {
   "cell_type": "code",
   "execution_count": 34,
   "id": "7a23bd65-5de9-49d3-9e68-a05bd9477d68",
   "metadata": {},
   "outputs": [
    {
     "name": "stdout",
     "output_type": "stream",
     "text": [
      "Hey my name is Rahul and second name is Janghu\n"
     ]
    }
   ],
   "source": [
    "print(\"Hey my name is {} and second name is {}\".format(name, second))"
   ]
  },
  {
   "cell_type": "code",
   "execution_count": 35,
   "id": "237250d4-e4c6-459c-8af8-277f5f461e58",
   "metadata": {},
   "outputs": [
    {
     "name": "stdout",
     "output_type": "stream",
     "text": [
      "Hey my name is Janghu and second name is Rahul\n"
     ]
    }
   ],
   "source": [
    "print(\"Hey my name is {} and second name is {}.\".format(second, name))"
   ]
  },
  {
   "cell_type": "code",
   "execution_count": null,
   "id": "b01e88f1-93fd-426c-99fe-ba063132ecf4",
   "metadata": {},
   "outputs": [],
   "source": []
  },
  {
   "cell_type": "code",
   "execution_count": null,
   "id": "d6ee78dc-26d5-45a9-bbcb-3db0d40c8297",
   "metadata": {},
   "outputs": [],
   "source": []
  },
  {
   "cell_type": "code",
   "execution_count": 36,
   "id": "47a35d65-e5d0-4370-8cd9-ee7117518df1",
   "metadata": {},
   "outputs": [],
   "source": [
    "# latest way of writing formatted strings\n",
    "# Following is aplicable in python 3.6 and above"
   ]
  },
  {
   "cell_type": "code",
   "execution_count": null,
   "id": "da241156-3895-4bca-afee-f5d44db411a7",
   "metadata": {},
   "outputs": [],
   "source": []
  },
  {
   "cell_type": "code",
   "execution_count": 37,
   "id": "2b3bfaa9-6f62-48b4-ae74-a0694a05a46b",
   "metadata": {},
   "outputs": [
    {
     "name": "stdout",
     "output_type": "stream",
     "text": [
      "Hey my name is Rahul and second name is Janghu.\n"
     ]
    }
   ],
   "source": [
    "print(f\"Hey my name is {name} and second name is {second}.\")"
   ]
  },
  {
   "cell_type": "code",
   "execution_count": null,
   "id": "73e3e701-dd63-4297-8abc-5957016ed904",
   "metadata": {},
   "outputs": [],
   "source": []
  },
  {
   "cell_type": "code",
   "execution_count": 38,
   "id": "1b2c7ebe-1bdd-4917-b95c-ae19ccf66bd7",
   "metadata": {},
   "outputs": [],
   "source": [
    "# Quiz"
   ]
  },
  {
   "cell_type": "code",
   "execution_count": 41,
   "id": "8716fc06-ddb7-4771-a388-437fabb0c5ca",
   "metadata": {},
   "outputs": [
    {
     "name": "stdout",
     "output_type": "stream",
     "text": [
      "Hey my name is Emms Watson, and my age is 32.\n"
     ]
    }
   ],
   "source": [
    "name = \"Emms Watson\"\n",
    "age = 32\n",
    "print(\"Hey my name is {}, and my age is {}.\".format(name, age))"
   ]
  },
  {
   "cell_type": "code",
   "execution_count": 42,
   "id": "c8724008-6c4b-4928-abf0-403319eeac7d",
   "metadata": {},
   "outputs": [
    {
     "ename": "IndexError",
     "evalue": "Replacement index 1 out of range for positional args tuple",
     "output_type": "error",
     "traceback": [
      "\u001b[0;31m---------------------------------------------------------------------------\u001b[0m",
      "\u001b[0;31mIndexError\u001b[0m                                Traceback (most recent call last)",
      "\u001b[0;32m/var/folders/t5/yhjgrjs907zfp250jyxtw54m0000gn/T/ipykernel_95878/2413122943.py\u001b[0m in \u001b[0;36m<module>\u001b[0;34m\u001b[0m\n\u001b[1;32m      1\u001b[0m \u001b[0mname\u001b[0m \u001b[0;34m=\u001b[0m \u001b[0;34m\"Emms Watson\"\u001b[0m\u001b[0;34m\u001b[0m\u001b[0;34m\u001b[0m\u001b[0m\n\u001b[1;32m      2\u001b[0m \u001b[0mage\u001b[0m \u001b[0;34m=\u001b[0m \u001b[0;36m32\u001b[0m\u001b[0;34m\u001b[0m\u001b[0;34m\u001b[0m\u001b[0m\n\u001b[0;32m----> 3\u001b[0;31m \u001b[0mprint\u001b[0m\u001b[0;34m(\u001b[0m\u001b[0;34m\"Hey my name is {}, and my age is {}.\"\u001b[0m\u001b[0;34m.\u001b[0m\u001b[0mformat\u001b[0m\u001b[0;34m(\u001b[0m\u001b[0mage\u001b[0m\u001b[0;34m)\u001b[0m\u001b[0;34m)\u001b[0m\u001b[0;34m\u001b[0m\u001b[0;34m\u001b[0m\u001b[0m\n\u001b[0m",
      "\u001b[0;31mIndexError\u001b[0m: Replacement index 1 out of range for positional args tuple"
     ]
    }
   ],
   "source": [
    "name = \"Emms Watson\"\n",
    "age = 32\n",
    "print(\"Hey my name is {}, and my age is {}.\".format(age))"
   ]
  },
  {
   "cell_type": "code",
   "execution_count": null,
   "id": "ff246d74-44bb-44c1-af0f-ab350b92329c",
   "metadata": {},
   "outputs": [],
   "source": []
  },
  {
   "cell_type": "code",
   "execution_count": null,
   "id": "276cda1b-7254-4c0d-a8c3-52b35a9dc9de",
   "metadata": {},
   "outputs": [],
   "source": []
  },
  {
   "cell_type": "code",
   "execution_count": null,
   "id": "bd275b0f-8d1b-4e94-9830-5d6a61c4febf",
   "metadata": {},
   "outputs": [],
   "source": []
  },
  {
   "cell_type": "code",
   "execution_count": null,
   "id": "b059e08a-4bd8-4f3c-964c-19af9c7a1cba",
   "metadata": {},
   "outputs": [],
   "source": []
  },
  {
   "cell_type": "markdown",
   "id": "014e0abc-7fc4-4862-b790-06da785c509b",
   "metadata": {},
   "source": [
    "### Challenge: For a given string find length without using len function"
   ]
  },
  {
   "cell_type": "code",
   "execution_count": 43,
   "id": "0ad04429-2d09-4f91-957f-6da416c76198",
   "metadata": {},
   "outputs": [],
   "source": [
    "name = \"Rahul Janghu\""
   ]
  },
  {
   "cell_type": "code",
   "execution_count": 45,
   "id": "5553e3ab-25c5-429a-a873-72ca9c2282b7",
   "metadata": {},
   "outputs": [
    {
     "name": "stdout",
     "output_type": "stream",
     "text": [
      "['__add__', '__class__', '__contains__', '__delattr__', '__dir__', '__doc__', '__eq__', '__format__', '__ge__', '__getattribute__', '__getitem__', '__getnewargs__', '__gt__', '__hash__', '__init__', '__init_subclass__', '__iter__', '__le__', '__len__', '__lt__', '__mod__', '__mul__', '__ne__', '__new__', '__reduce__', '__reduce_ex__', '__repr__', '__rmod__', '__rmul__', '__setattr__', '__sizeof__', '__str__', '__subclasshook__', 'capitalize', 'casefold', 'center', 'count', 'encode', 'endswith', 'expandtabs', 'find', 'format', 'format_map', 'index', 'isalnum', 'isalpha', 'isascii', 'isdecimal', 'isdigit', 'isidentifier', 'islower', 'isnumeric', 'isprintable', 'isspace', 'istitle', 'isupper', 'join', 'ljust', 'lower', 'lstrip', 'maketrans', 'partition', 'removeprefix', 'removesuffix', 'replace', 'rfind', 'rindex', 'rjust', 'rpartition', 'rsplit', 'rstrip', 'split', 'splitlines', 'startswith', 'strip', 'swapcase', 'title', 'translate', 'upper', 'zfill']\n"
     ]
    }
   ],
   "source": [
    "print(dir(name))"
   ]
  },
  {
   "cell_type": "code",
   "execution_count": 47,
   "id": "0c313d22-0e7c-4e09-97db-cb31b782bfc4",
   "metadata": {},
   "outputs": [
    {
     "name": "stdout",
     "output_type": "stream",
     "text": [
      "['__abs__', '__add__', '__and__', '__bool__', '__ceil__', '__class__', '__delattr__', '__dir__', '__divmod__', '__doc__', '__eq__', '__float__', '__floor__', '__floordiv__', '__format__', '__ge__', '__getattribute__', '__getnewargs__', '__gt__', '__hash__', '__index__', '__init__', '__init_subclass__', '__int__', '__invert__', '__le__', '__lshift__', '__lt__', '__mod__', '__mul__', '__ne__', '__neg__', '__new__', '__or__', '__pos__', '__pow__', '__radd__', '__rand__', '__rdivmod__', '__reduce__', '__reduce_ex__', '__repr__', '__rfloordiv__', '__rlshift__', '__rmod__', '__rmul__', '__ror__', '__round__', '__rpow__', '__rrshift__', '__rshift__', '__rsub__', '__rtruediv__', '__rxor__', '__setattr__', '__sizeof__', '__str__', '__sub__', '__subclasshook__', '__truediv__', '__trunc__', '__xor__', 'as_integer_ratio', 'bit_length', 'conjugate', 'denominator', 'from_bytes', 'imag', 'numerator', 'real', 'to_bytes']\n"
     ]
    }
   ],
   "source": [
    "print(dir(23))\n",
    "# Integers aren't iterable"
   ]
  },
  {
   "cell_type": "code",
   "execution_count": 50,
   "id": "7ea78b74-8bea-4bf5-9169-f14ee1af0d75",
   "metadata": {},
   "outputs": [
    {
     "name": "stdout",
     "output_type": "stream",
     "text": [
      "R\n",
      "a\n",
      "h\n",
      "u\n",
      "l\n",
      " \n",
      "J\n",
      "a\n",
      "n\n",
      "g\n",
      "h\n",
      "u\n"
     ]
    }
   ],
   "source": [
    "name\n",
    "for i in name:\n",
    "    print(i)"
   ]
  },
  {
   "cell_type": "code",
   "execution_count": 52,
   "id": "2eed6415-1c4b-48cc-87cc-2bebd631be5b",
   "metadata": {},
   "outputs": [
    {
     "data": {
      "text/plain": [
       "'Rahul Janghu'"
      ]
     },
     "execution_count": 52,
     "metadata": {},
     "output_type": "execute_result"
    }
   ],
   "source": [
    "name"
   ]
  },
  {
   "cell_type": "code",
   "execution_count": 53,
   "id": "f433f3a6-4028-4369-b778-1b4fdad045fc",
   "metadata": {},
   "outputs": [
    {
     "data": {
      "text/plain": [
       "12"
      ]
     },
     "execution_count": 53,
     "metadata": {},
     "output_type": "execute_result"
    }
   ],
   "source": [
    "len(name)"
   ]
  },
  {
   "cell_type": "code",
   "execution_count": 55,
   "id": "2aff1d46-2e2e-4f6b-bee4-2616b925c0dc",
   "metadata": {},
   "outputs": [
    {
     "name": "stdout",
     "output_type": "stream",
     "text": [
      "R 1\n",
      "a 2\n",
      "h 3\n",
      "u 4\n",
      "l 5\n",
      "  6\n",
      "J 7\n",
      "a 8\n",
      "n 9\n",
      "g 10\n",
      "h 11\n",
      "u 12\n"
     ]
    }
   ],
   "source": [
    "count = 0\n",
    "for i in name:\n",
    "    count += 1\n",
    "    print(i, count)"
   ]
  },
  {
   "cell_type": "code",
   "execution_count": null,
   "id": "1c5af552-921a-4ecb-bd5a-a0b279362d2f",
   "metadata": {},
   "outputs": [],
   "source": []
  },
  {
   "cell_type": "code",
   "execution_count": null,
   "id": "bbf3fbf5-5088-445e-8578-1779f11f3455",
   "metadata": {},
   "outputs": [],
   "source": []
  },
  {
   "cell_type": "markdown",
   "id": "19e9a29d-03ea-4aa3-955f-daa6d24f0c53",
   "metadata": {},
   "source": [
    "## Challenge: \n",
    "- Given a string as input, count the no of upper case characters"
   ]
  },
  {
   "cell_type": "code",
   "execution_count": 56,
   "id": "0607af88-eb86-4c57-a53f-8d5a0eb9f987",
   "metadata": {},
   "outputs": [],
   "source": [
    "name = \"RaHUl JanGhu\""
   ]
  },
  {
   "cell_type": "code",
   "execution_count": 57,
   "id": "b70e6d85-f97d-4e2b-9748-222da56aef54",
   "metadata": {},
   "outputs": [],
   "source": [
    "# Segregate upper case characters"
   ]
  },
  {
   "cell_type": "code",
   "execution_count": 61,
   "id": "1d26191c-c7d1-45a0-947e-ea90058e7ed9",
   "metadata": {},
   "outputs": [
    {
     "name": "stdout",
     "output_type": "stream",
     "text": [
      "R\n",
      "H\n",
      "U\n",
      "J\n",
      "G\n"
     ]
    }
   ],
   "source": [
    "for i in name:\n",
    "    # Get upper case characters\n",
    "    if ord(i) >= 65 and ord(i) <= 90:\n",
    "        print(i)"
   ]
  },
  {
   "cell_type": "code",
   "execution_count": null,
   "id": "bf5a4186-c51c-417c-a318-7e48ef0fbf60",
   "metadata": {},
   "outputs": [],
   "source": []
  },
  {
   "cell_type": "code",
   "execution_count": null,
   "id": "35bf1186-ab0a-4d6a-b555-ccc2ef47c012",
   "metadata": {},
   "outputs": [],
   "source": []
  },
  {
   "cell_type": "code",
   "execution_count": 62,
   "id": "edb3537e-73cf-4063-928c-2353b82d5d2d",
   "metadata": {},
   "outputs": [],
   "source": [
    "# Count all the upper case chr"
   ]
  },
  {
   "cell_type": "code",
   "execution_count": 63,
   "id": "fd11bc47-50d9-4c3f-8b95-0761e36250ce",
   "metadata": {},
   "outputs": [
    {
     "data": {
      "text/plain": [
       "'RaHUl JanGhu'"
      ]
     },
     "execution_count": 63,
     "metadata": {},
     "output_type": "execute_result"
    }
   ],
   "source": [
    "name"
   ]
  },
  {
   "cell_type": "code",
   "execution_count": 72,
   "id": "cffa92f7-132e-40d0-be3c-0a3b2c3d96ee",
   "metadata": {},
   "outputs": [
    {
     "name": "stdout",
     "output_type": "stream",
     "text": [
      "R 1\n",
      "H 2\n",
      "U 3\n",
      "J 4\n",
      "G 5\n",
      "5\n"
     ]
    }
   ],
   "source": [
    "count = 0\n",
    "for i in name:\n",
    "    # Get upper case characters\n",
    "    if ord(i) >= 65 and ord(i) <= 90:\n",
    "        count += 1\n",
    "        print(i, count)\n",
    "print(count)"
   ]
  },
  {
   "cell_type": "code",
   "execution_count": null,
   "id": "02944ac8-3a71-40f9-9300-2f209408582f",
   "metadata": {},
   "outputs": [],
   "source": []
  },
  {
   "cell_type": "code",
   "execution_count": 67,
   "id": "7c9bf881-da2a-4e88-9660-06e528ca252f",
   "metadata": {},
   "outputs": [],
   "source": [
    "# Final code"
   ]
  },
  {
   "cell_type": "code",
   "execution_count": 68,
   "id": "09afbb23-1d76-4f84-aaf8-a45a4210d856",
   "metadata": {},
   "outputs": [],
   "source": [
    "def upper_count(name):\n",
    "    count = 0\n",
    "    for i in name:\n",
    "        # Get upper case characters\n",
    "        if ord(i) >= 65 and ord(i) <= 90:\n",
    "            count += 1\n",
    "    print(count)"
   ]
  },
  {
   "cell_type": "code",
   "execution_count": 69,
   "id": "76ce4254-66a1-4e2c-8d07-78ba8774eff7",
   "metadata": {},
   "outputs": [
    {
     "name": "stdout",
     "output_type": "stream",
     "text": [
      "5\n"
     ]
    }
   ],
   "source": [
    "upper_count(name)"
   ]
  },
  {
   "cell_type": "code",
   "execution_count": null,
   "id": "e4e717bf-3b93-4358-aa12-bd21a04d7862",
   "metadata": {},
   "outputs": [],
   "source": []
  },
  {
   "cell_type": "code",
   "execution_count": null,
   "id": "6ccf2358-cd42-4722-93d4-5607afa84da4",
   "metadata": {},
   "outputs": [],
   "source": []
  },
  {
   "cell_type": "code",
   "execution_count": 73,
   "id": "4058407e-c367-4f8d-918f-393ec09cbd60",
   "metadata": {},
   "outputs": [],
   "source": [
    "# isupper()"
   ]
  },
  {
   "cell_type": "code",
   "execution_count": 77,
   "id": "544066bc-844d-4952-aed5-38535ebe2932",
   "metadata": {},
   "outputs": [
    {
     "data": {
      "text/plain": [
       "True"
      ]
     },
     "execution_count": 77,
     "metadata": {},
     "output_type": "execute_result"
    }
   ],
   "source": [
    "a = \"R\"\n",
    "a.isupper()"
   ]
  },
  {
   "cell_type": "code",
   "execution_count": 80,
   "id": "d945ffd8-9dae-48a7-b48a-8965be283871",
   "metadata": {},
   "outputs": [
    {
     "data": {
      "text/plain": [
       "False"
      ]
     },
     "execution_count": 80,
     "metadata": {},
     "output_type": "execute_result"
    }
   ],
   "source": [
    "\"r\".isupper()"
   ]
  },
  {
   "cell_type": "code",
   "execution_count": 81,
   "id": "78b98587-97aa-4acd-9a45-e24df3cfff72",
   "metadata": {},
   "outputs": [
    {
     "data": {
      "text/plain": [
       "False"
      ]
     },
     "execution_count": 81,
     "metadata": {},
     "output_type": "execute_result"
    }
   ],
   "source": [
    "\"rAhUl\".isupper()"
   ]
  },
  {
   "cell_type": "code",
   "execution_count": null,
   "id": "2b3e44af-e285-4e3d-b564-65685b0b33ec",
   "metadata": {},
   "outputs": [],
   "source": []
  },
  {
   "cell_type": "code",
   "execution_count": null,
   "id": "dc7627ca-cfc3-45db-86de-d3f54fbafcd1",
   "metadata": {},
   "outputs": [],
   "source": []
  },
  {
   "cell_type": "code",
   "execution_count": 82,
   "id": "dfece032-cf4e-4de1-ae1a-9701a40c3ae2",
   "metadata": {},
   "outputs": [],
   "source": [
    "# HW using this inbuilt function check number of upper case character in str"
   ]
  },
  {
   "cell_type": "code",
   "execution_count": null,
   "id": "8069833e-2605-49f7-9893-d428de8528db",
   "metadata": {},
   "outputs": [],
   "source": []
  },
  {
   "cell_type": "code",
   "execution_count": null,
   "id": "ca996cbd-728c-45a8-8adc-f62fc905030f",
   "metadata": {},
   "outputs": [],
   "source": []
  },
  {
   "cell_type": "markdown",
   "id": "57cc99f7-1a3a-4974-825f-5f57e8037341",
   "metadata": {},
   "source": [
    "## Challenge:\n",
    "- Convert the lower character into upper and upper into lower\n",
    "- Input: \"INdiA\" Output: \"inDIa\""
   ]
  },
  {
   "cell_type": "code",
   "execution_count": 83,
   "id": "348f82a4-f1f8-4542-b8e0-07416d1e6c74",
   "metadata": {},
   "outputs": [],
   "source": [
    "# using loop"
   ]
  },
  {
   "cell_type": "code",
   "execution_count": 84,
   "id": "1a71f130-3bda-4df7-9438-5814ad8aa78e",
   "metadata": {},
   "outputs": [],
   "source": [
    "country = \"INdiA\""
   ]
  },
  {
   "cell_type": "code",
   "execution_count": null,
   "id": "6d781871-2729-421d-8d20-379941688228",
   "metadata": {},
   "outputs": [],
   "source": []
  },
  {
   "cell_type": "code",
   "execution_count": 85,
   "id": "5051faf5-657f-44e0-b051-7fe9bb489fbb",
   "metadata": {},
   "outputs": [],
   "source": [
    "# Segregate upper and lower case characters"
   ]
  },
  {
   "cell_type": "code",
   "execution_count": 87,
   "id": "bb5364ac-16ea-4f3e-9ff5-399fd6946790",
   "metadata": {},
   "outputs": [
    {
     "name": "stdout",
     "output_type": "stream",
     "text": [
      "upper I\n",
      "upper N\n",
      "lower d\n",
      "lower i\n",
      "upper A\n"
     ]
    }
   ],
   "source": [
    "for i in country:\n",
    "    # upper case\n",
    "    if ord(i) >= 65 and ord(i) <= 90:\n",
    "        print('upper', i)\n",
    "        \n",
    "    # lower case\n",
    "    if ord(i) >= 97 and ord(i) <= 122:\n",
    "        print('lower', i)"
   ]
  },
  {
   "cell_type": "code",
   "execution_count": null,
   "id": "53fe5b3e-8872-485e-8c4e-0f2693aef885",
   "metadata": {},
   "outputs": [],
   "source": []
  },
  {
   "cell_type": "code",
   "execution_count": 88,
   "id": "5062b6fc-f3c3-4024-9d60-1480b54a3ef4",
   "metadata": {},
   "outputs": [],
   "source": [
    "# Get corresponding characters "
   ]
  },
  {
   "cell_type": "code",
   "execution_count": 97,
   "id": "68cb7f03-c71b-406d-b661-9cb5da996551",
   "metadata": {},
   "outputs": [
    {
     "data": {
      "text/plain": [
       "'INdiA'"
      ]
     },
     "execution_count": 97,
     "metadata": {},
     "output_type": "execute_result"
    }
   ],
   "source": [
    "country"
   ]
  },
  {
   "cell_type": "code",
   "execution_count": 98,
   "id": "720295f4-4445-4328-8e13-9e09f74ad62b",
   "metadata": {},
   "outputs": [
    {
     "name": "stdout",
     "output_type": "stream",
     "text": [
      "I i\n",
      "N n\n",
      "d D\n",
      "i I\n",
      "A a\n"
     ]
    }
   ],
   "source": [
    "for i in country:\n",
    "    # upper case\n",
    "    if ord(i) >= 65 and ord(i) <= 90:\n",
    "        lower_asci = ord(i) + 32\n",
    "        print(i, chr(lower_asci))\n",
    "        \n",
    "    # lower case\n",
    "    if ord(i) >= 97 and ord(i) <= 122:\n",
    "        upper_asci = ord(i) - 32\n",
    "        print(i, chr(upper_asci))"
   ]
  },
  {
   "cell_type": "code",
   "execution_count": 92,
   "id": "145b9ea3-5e76-406b-9b4c-feb1c3db8bac",
   "metadata": {},
   "outputs": [
    {
     "data": {
      "text/plain": [
       "105"
      ]
     },
     "execution_count": 92,
     "metadata": {},
     "output_type": "execute_result"
    }
   ],
   "source": [
    "ord('i')"
   ]
  },
  {
   "cell_type": "code",
   "execution_count": 93,
   "id": "277d741e-7374-4699-96b9-b3bca3fccea7",
   "metadata": {},
   "outputs": [
    {
     "data": {
      "text/plain": [
       "'i'"
      ]
     },
     "execution_count": 93,
     "metadata": {},
     "output_type": "execute_result"
    }
   ],
   "source": [
    "chr(105)"
   ]
  },
  {
   "cell_type": "code",
   "execution_count": null,
   "id": "55dc5ca9-b80f-4bdf-9623-69b3860c81a1",
   "metadata": {},
   "outputs": [],
   "source": []
  },
  {
   "cell_type": "code",
   "execution_count": null,
   "id": "3c87b6a9-a2ec-4d1e-82bd-ac1376eb8a12",
   "metadata": {},
   "outputs": [],
   "source": []
  },
  {
   "cell_type": "code",
   "execution_count": 99,
   "id": "8b0c606a-2500-4f32-ae65-ac3947b07ec3",
   "metadata": {},
   "outputs": [],
   "source": [
    "# Final code"
   ]
  },
  {
   "cell_type": "code",
   "execution_count": 101,
   "id": "d3ea6cf7-0930-4c17-adbf-2cdfbfb954ab",
   "metadata": {},
   "outputs": [
    {
     "name": "stdout",
     "output_type": "stream",
     "text": [
      "inDIa INdiA\n"
     ]
    }
   ],
   "source": [
    "ans = \"\"\n",
    "for i in country:\n",
    "    # upper case\n",
    "    if ord(i) >= 65 and ord(i) <= 90:\n",
    "        lower_asci = ord(i) + 32\n",
    "        ans += chr(lower_asci)\n",
    "        \n",
    "    # lower case\n",
    "    if ord(i) >= 97 and ord(i) <= 122:\n",
    "        upper_asci = ord(i) - 32\n",
    "        ans += chr(upper_asci)\n",
    "print(ans, country)"
   ]
  },
  {
   "cell_type": "code",
   "execution_count": 102,
   "id": "5594adf4-aebf-4974-9fb0-3da769cf2a21",
   "metadata": {},
   "outputs": [],
   "source": [
    "def toggle(string):\n",
    "    ans = \"\"\n",
    "    for i in string:\n",
    "        # upper case\n",
    "        if ord(i) >= 65 and ord(i) <= 90:\n",
    "            lower_asci = ord(i) + 32\n",
    "            ans += chr(lower_asci)\n",
    "\n",
    "        # lower case\n",
    "        if ord(i) >= 97 and ord(i) <= 122:\n",
    "            upper_asci = ord(i) - 32\n",
    "            ans += chr(upper_asci)\n",
    "    return ans"
   ]
  },
  {
   "cell_type": "code",
   "execution_count": 103,
   "id": "5612b351-a9bf-4b3f-97c4-5e0089a3a4b7",
   "metadata": {},
   "outputs": [
    {
     "data": {
      "text/plain": [
       "'rAhUl'"
      ]
     },
     "execution_count": 103,
     "metadata": {},
     "output_type": "execute_result"
    }
   ],
   "source": [
    "toggle(\"RaHuL\")"
   ]
  },
  {
   "cell_type": "code",
   "execution_count": null,
   "id": "29807cb4-725e-4dc9-8f98-d2f1914318b6",
   "metadata": {},
   "outputs": [],
   "source": []
  },
  {
   "cell_type": "code",
   "execution_count": 109,
   "id": "266acbbf-b042-405f-ac75-21bd8d4423fb",
   "metadata": {},
   "outputs": [
    {
     "data": {
      "text/plain": [
       "'RA->hul'"
      ]
     },
     "execution_count": 109,
     "metadata": {},
     "output_type": "execute_result"
    }
   ],
   "source": [
    "\"Rahul\".replace('a', 'A->')"
   ]
  },
  {
   "cell_type": "code",
   "execution_count": 105,
   "id": "3f8532a7-9602-4106-b0b0-784f1e5d0113",
   "metadata": {},
   "outputs": [],
   "source": [
    "# lower and islower"
   ]
  },
  {
   "cell_type": "code",
   "execution_count": 106,
   "id": "52e592a4-c273-4733-a87e-77ff7b5dee3a",
   "metadata": {},
   "outputs": [],
   "source": [
    "# using isupper and islower"
   ]
  },
  {
   "cell_type": "code",
   "execution_count": 110,
   "id": "9ba3444b-f18d-4b68-ba32-9d43ecba34af",
   "metadata": {},
   "outputs": [
    {
     "data": {
      "text/plain": [
       "False"
      ]
     },
     "execution_count": 110,
     "metadata": {},
     "output_type": "execute_result"
    }
   ],
   "source": [
    "'A'.islower()"
   ]
  },
  {
   "cell_type": "code",
   "execution_count": 111,
   "id": "1984b9e6-c53f-4cc7-9ce7-f356613f3f4a",
   "metadata": {},
   "outputs": [
    {
     "data": {
      "text/plain": [
       "'a'"
      ]
     },
     "execution_count": 111,
     "metadata": {},
     "output_type": "execute_result"
    }
   ],
   "source": [
    "'A'.lower()"
   ]
  },
  {
   "cell_type": "code",
   "execution_count": 112,
   "id": "fd9ee961-4e91-4154-9b02-e47a0047095a",
   "metadata": {},
   "outputs": [
    {
     "data": {
      "text/plain": [
       "'A'"
      ]
     },
     "execution_count": 112,
     "metadata": {},
     "output_type": "execute_result"
    }
   ],
   "source": [
    "'a'.upper()"
   ]
  },
  {
   "cell_type": "code",
   "execution_count": null,
   "id": "c1c398fa-714f-4dc2-b701-4eb12b3016fa",
   "metadata": {},
   "outputs": [],
   "source": []
  },
  {
   "cell_type": "code",
   "execution_count": null,
   "id": "0ed12701-7609-4a6d-a975-e4d65a6361b4",
   "metadata": {},
   "outputs": [],
   "source": []
  },
  {
   "cell_type": "code",
   "execution_count": null,
   "id": "40fe783a-a84a-4330-b892-b8293125e6ce",
   "metadata": {},
   "outputs": [],
   "source": []
  },
  {
   "cell_type": "code",
   "execution_count": null,
   "id": "19d6c8ea-bd71-415f-af5d-e26144998c29",
   "metadata": {},
   "outputs": [],
   "source": []
  },
  {
   "cell_type": "code",
   "execution_count": 113,
   "id": "f05d830d-2330-49e3-85a5-c866dc4e5e4b",
   "metadata": {},
   "outputs": [],
   "source": [
    "# Convert upper to lower and lower to upper"
   ]
  },
  {
   "cell_type": "code",
   "execution_count": 114,
   "id": "45cd2125-71af-475f-bb34-fee1c6177bac",
   "metadata": {},
   "outputs": [],
   "source": [
    "# RaHuL -> rAhUl"
   ]
  },
  {
   "cell_type": "code",
   "execution_count": null,
   "id": "ebefeddc-998e-4086-ac08-910286befd6d",
   "metadata": {},
   "outputs": [],
   "source": []
  },
  {
   "cell_type": "code",
   "execution_count": null,
   "id": "69a728fb-8316-42ac-ba91-e10097e6012f",
   "metadata": {},
   "outputs": [],
   "source": []
  },
  {
   "cell_type": "code",
   "execution_count": null,
   "id": "b9818fc5-68e3-4f95-93db-8f043e434b30",
   "metadata": {},
   "outputs": [],
   "source": []
  },
  {
   "cell_type": "code",
   "execution_count": null,
   "id": "e21e06dd-04e4-4808-8645-01b6cd696024",
   "metadata": {},
   "outputs": [],
   "source": []
  },
  {
   "cell_type": "markdown",
   "id": "1f355c66-3aec-47fb-ad3a-5c34b130a4e8",
   "metadata": {},
   "source": [
    "## Challenge:\n",
    "Write a program which accepts two strings s1 and s2 and checks if s2 is a substring of s1."
   ]
  },
  {
   "cell_type": "code",
   "execution_count": 115,
   "id": "44cdd4ec-c097-4d38-b2e6-b91d636bb9bc",
   "metadata": {},
   "outputs": [],
   "source": [
    "# in operator"
   ]
  },
  {
   "cell_type": "code",
   "execution_count": 116,
   "id": "6b60d5d6-8e84-40b6-ac55-4e4c147c4f74",
   "metadata": {},
   "outputs": [],
   "source": [
    "# using for loop"
   ]
  },
  {
   "cell_type": "code",
   "execution_count": 117,
   "id": "aeeebe7a-a072-4c93-a2e1-2f5ca60d7fb7",
   "metadata": {},
   "outputs": [],
   "source": [
    "name = \"RaHul Janghu\""
   ]
  },
  {
   "cell_type": "code",
   "execution_count": 119,
   "id": "09400f07-d4e1-41db-b658-d4525f52b769",
   "metadata": {},
   "outputs": [
    {
     "data": {
      "text/plain": [
       "False"
      ]
     },
     "execution_count": 119,
     "metadata": {},
     "output_type": "execute_result"
    }
   ],
   "source": [
    "l = [1, 2, 3]\n",
    "45 in l"
   ]
  },
  {
   "cell_type": "code",
   "execution_count": null,
   "id": "6592a29e-1d32-4a24-9ed3-0415fea9bd8b",
   "metadata": {},
   "outputs": [],
   "source": []
  },
  {
   "cell_type": "code",
   "execution_count": null,
   "id": "c874fb7d-539a-47d9-8980-e75fe95503fe",
   "metadata": {},
   "outputs": [],
   "source": []
  },
  {
   "cell_type": "code",
   "execution_count": null,
   "id": "63fd147d-3f66-4f35-93d5-50e713ef5a1c",
   "metadata": {},
   "outputs": [],
   "source": []
  },
  {
   "cell_type": "code",
   "execution_count": 120,
   "id": "7fbd0980-472c-470f-bcdd-71594949f9f3",
   "metadata": {},
   "outputs": [],
   "source": [
    "# Quiz"
   ]
  },
  {
   "cell_type": "code",
   "execution_count": 121,
   "id": "93ac289d-b06d-4798-a29b-71dfb3fa5bfe",
   "metadata": {},
   "outputs": [
    {
     "name": "stdout",
     "output_type": "stream",
     "text": [
      "False\n"
     ]
    }
   ],
   "source": [
    "print(\"Ra\" in \"rahul\")"
   ]
  },
  {
   "cell_type": "code",
   "execution_count": 122,
   "id": "e0721ef1-c9e0-40e0-8bab-45da38d49b01",
   "metadata": {},
   "outputs": [],
   "source": [
    "def citizenship(s1, s2):\n",
    "    if s1 in s2:\n",
    "        return True\n",
    "    else:\n",
    "        return False"
   ]
  },
  {
   "cell_type": "code",
   "execution_count": 124,
   "id": "901b8d56-9941-4c94-a743-82cfd6cd13ab",
   "metadata": {},
   "outputs": [],
   "source": [
    "def citizenship(s1, s2):\n",
    "    return s1 in s2"
   ]
  },
  {
   "cell_type": "code",
   "execution_count": 126,
   "id": "a1ea02f5-59aa-4212-9a1f-a24e2c93bfe8",
   "metadata": {},
   "outputs": [
    {
     "data": {
      "text/plain": [
       "True"
      ]
     },
     "execution_count": 126,
     "metadata": {},
     "output_type": "execute_result"
    }
   ],
   "source": [
    "citizenship('a', 'Rahul')"
   ]
  },
  {
   "cell_type": "code",
   "execution_count": null,
   "id": "49336464-8746-45c2-a509-cf2754b20cea",
   "metadata": {},
   "outputs": [],
   "source": []
  },
  {
   "cell_type": "code",
   "execution_count": null,
   "id": "a243a433-30c8-4e8a-a4ed-a77b93e4c54a",
   "metadata": {},
   "outputs": [],
   "source": []
  },
  {
   "cell_type": "markdown",
   "id": "50e394aa-c799-41b9-8080-5b6b573b8e7b",
   "metadata": {},
   "source": [
    "#### Challenge\n",
    "Write the code for a Python function expand(x) that takes a list of strings, concatenates them, and returns the resulting string repeated three times.\n",
    "\n",
    "Example 1:\n",
    "\n",
    "Input: ['string1', 'string2']\n",
    "\n",
    "Output: 'string1string2string1string2string1string2'\n",
    "\n",
    "Example 2:\n",
    "\n",
    "Input: ['a', 'b', 'c']\n",
    "\n",
    "Output: 'abcabcabc'"
   ]
  },
  {
   "cell_type": "code",
   "execution_count": 128,
   "id": "a2dc8c93-b2ba-4741-a97c-0650e09811bd",
   "metadata": {},
   "outputs": [],
   "source": [
    "# quiz"
   ]
  },
  {
   "cell_type": "code",
   "execution_count": 129,
   "id": "507a1917-4751-4334-bf60-eadcece07f42",
   "metadata": {},
   "outputs": [],
   "source": [
    "# split?"
   ]
  },
  {
   "cell_type": "code",
   "execution_count": 130,
   "id": "e11ce743-4b67-4d13-9238-5386e45fc787",
   "metadata": {},
   "outputs": [],
   "source": [
    "# using for loop"
   ]
  },
  {
   "cell_type": "code",
   "execution_count": 131,
   "id": "b49d213e-eb86-467f-90a1-b7b054b79a41",
   "metadata": {},
   "outputs": [
    {
     "name": "stdout",
     "output_type": "stream",
     "text": [
      "['1', '2', '3', '4']\n"
     ]
    }
   ],
   "source": [
    "s = \"1 2 3 4\"\n",
    "print(s.split())"
   ]
  },
  {
   "cell_type": "code",
   "execution_count": 133,
   "id": "736579f2-2dad-42bd-9542-fc7347c30b22",
   "metadata": {},
   "outputs": [
    {
     "data": {
      "text/plain": [
       "['r', 'h', 'u', 'l', '']"
      ]
     },
     "execution_count": 133,
     "metadata": {},
     "output_type": "execute_result"
    }
   ],
   "source": [
    "'rahauala'.split('a')"
   ]
  },
  {
   "cell_type": "code",
   "execution_count": 134,
   "id": "374865bc-dc1e-430a-a8b8-5937961c919b",
   "metadata": {},
   "outputs": [],
   "source": [
    "# By default split cuts around space and you may use your own cutter as well"
   ]
  },
  {
   "cell_type": "code",
   "execution_count": 135,
   "id": "a7e68d60-fc8a-4b00-baa6-d08ba1559877",
   "metadata": {},
   "outputs": [
    {
     "name": "stdin",
     "output_type": "stream",
     "text": [
      " string1 string2\n"
     ]
    }
   ],
   "source": [
    "l = input().split()"
   ]
  },
  {
   "cell_type": "code",
   "execution_count": 136,
   "id": "2807b830-563b-4f4a-803a-07858111391f",
   "metadata": {},
   "outputs": [
    {
     "data": {
      "text/plain": [
       "['string1', 'string2']"
      ]
     },
     "execution_count": 136,
     "metadata": {},
     "output_type": "execute_result"
    }
   ],
   "source": [
    "l"
   ]
  },
  {
   "cell_type": "code",
   "execution_count": 138,
   "id": "241812a2-bbfc-400e-9817-cee146c31146",
   "metadata": {},
   "outputs": [
    {
     "name": "stdout",
     "output_type": "stream",
     "text": [
      "string1string2string1string2string1string2\n"
     ]
    }
   ],
   "source": [
    "ans = \"\"\n",
    "for i in l:\n",
    "    ans += i\n",
    "print(ans * 3)"
   ]
  },
  {
   "cell_type": "code",
   "execution_count": null,
   "id": "5b0e049b-2330-432a-9827-62792d96666d",
   "metadata": {},
   "outputs": [],
   "source": []
  },
  {
   "cell_type": "code",
   "execution_count": null,
   "id": "0b50d19c-f7fc-4e0d-96cc-0a6bb345eecd",
   "metadata": {},
   "outputs": [],
   "source": []
  },
  {
   "cell_type": "code",
   "execution_count": 139,
   "id": "5a3e59dc-4854-4f37-a339-85488d422c5f",
   "metadata": {},
   "outputs": [],
   "source": [
    "# Final"
   ]
  },
  {
   "cell_type": "code",
   "execution_count": 140,
   "id": "c73d331d-7e38-4fd6-9eef-391e4d20f6ec",
   "metadata": {},
   "outputs": [
    {
     "name": "stdin",
     "output_type": "stream",
     "text": [
      " a b c\n"
     ]
    },
    {
     "name": "stdout",
     "output_type": "stream",
     "text": [
      "abcabcabc\n"
     ]
    }
   ],
   "source": [
    "l = input().split()\n",
    "ans = \"\"\n",
    "for i in l:\n",
    "    ans += i\n",
    "print(ans * 3)"
   ]
  },
  {
   "cell_type": "code",
   "execution_count": null,
   "id": "b213aa52-a547-41ba-9bb7-5c79e52a09bd",
   "metadata": {},
   "outputs": [],
   "source": []
  },
  {
   "cell_type": "code",
   "execution_count": null,
   "id": "989bd420-2abf-4f90-9483-22d223ac4579",
   "metadata": {},
   "outputs": [],
   "source": []
  },
  {
   "cell_type": "code",
   "execution_count": null,
   "id": "d124827e-dfcd-4aee-9282-4de5eb0311ba",
   "metadata": {},
   "outputs": [],
   "source": []
  },
  {
   "cell_type": "markdown",
   "id": "014e195d-1b94-45ce-934b-27b19f52535e",
   "metadata": {},
   "source": [
    "##### Join"
   ]
  },
  {
   "cell_type": "code",
   "execution_count": 141,
   "id": "c9d984fc-aca9-4f2c-a670-ad1cc7afdb5f",
   "metadata": {},
   "outputs": [],
   "source": [
    "# \"how\".join(what)"
   ]
  },
  {
   "cell_type": "code",
   "execution_count": 143,
   "id": "216c5e88-e41e-454a-8a26-c17d97d9c2d8",
   "metadata": {},
   "outputs": [],
   "source": [
    "l = ['a', 'b', 'c']"
   ]
  },
  {
   "cell_type": "code",
   "execution_count": 144,
   "id": "1f375465-22f0-4e49-8c43-0fdf38c3f614",
   "metadata": {},
   "outputs": [
    {
     "data": {
      "text/plain": [
       "'abc'"
      ]
     },
     "execution_count": 144,
     "metadata": {},
     "output_type": "execute_result"
    }
   ],
   "source": [
    "\"\".join(l)"
   ]
  },
  {
   "cell_type": "code",
   "execution_count": 145,
   "id": "5a894bc1-3931-4d04-b3f5-d378dac74800",
   "metadata": {},
   "outputs": [
    {
     "data": {
      "text/plain": [
       "'a->b->c'"
      ]
     },
     "execution_count": 145,
     "metadata": {},
     "output_type": "execute_result"
    }
   ],
   "source": [
    "\"->\".join(l)"
   ]
  },
  {
   "cell_type": "code",
   "execution_count": 146,
   "id": "73d04db2-e366-4e5d-b929-27cfd47639e3",
   "metadata": {},
   "outputs": [
    {
     "data": {
      "text/plain": [
       "'R-a-h-u-l'"
      ]
     },
     "execution_count": 146,
     "metadata": {},
     "output_type": "execute_result"
    }
   ],
   "source": [
    "\"-\".join(\"Rahul\")"
   ]
  },
  {
   "cell_type": "code",
   "execution_count": null,
   "id": "8c348865-abe8-4cf9-bcad-099c28fd42ee",
   "metadata": {},
   "outputs": [],
   "source": []
  },
  {
   "cell_type": "code",
   "execution_count": null,
   "id": "469eeccc-1a68-474c-a51c-9b39f411a0f6",
   "metadata": {},
   "outputs": [],
   "source": []
  },
  {
   "cell_type": "code",
   "execution_count": null,
   "id": "684ed550-3eef-47c4-828f-54c6292788be",
   "metadata": {},
   "outputs": [],
   "source": []
  },
  {
   "cell_type": "code",
   "execution_count": null,
   "id": "d6cbd490-b56f-4a9d-ba55-ee19dc56cd97",
   "metadata": {},
   "outputs": [],
   "source": []
  },
  {
   "cell_type": "code",
   "execution_count": 148,
   "id": "9a9538d2-86c4-47d3-b7ed-9703b176bfb3",
   "metadata": {},
   "outputs": [
    {
     "name": "stdin",
     "output_type": "stream",
     "text": [
      " a b c\n"
     ]
    }
   ],
   "source": [
    "l = input().split()"
   ]
  },
  {
   "cell_type": "code",
   "execution_count": 149,
   "id": "b4663b4d-8373-4f59-86ee-2529d4d0e66a",
   "metadata": {},
   "outputs": [
    {
     "data": {
      "text/plain": [
       "['a', 'b', 'c']"
      ]
     },
     "execution_count": 149,
     "metadata": {},
     "output_type": "execute_result"
    }
   ],
   "source": [
    "l"
   ]
  },
  {
   "cell_type": "code",
   "execution_count": 151,
   "id": "477fc03c-98c4-46b4-a8cf-772667c64d0f",
   "metadata": {},
   "outputs": [],
   "source": [
    "ans = \"\".join(l)"
   ]
  },
  {
   "cell_type": "code",
   "execution_count": 152,
   "id": "85f78ccc-9f35-46be-bf33-dba38067fdf4",
   "metadata": {},
   "outputs": [
    {
     "data": {
      "text/plain": [
       "'abcabcabc'"
      ]
     },
     "execution_count": 152,
     "metadata": {},
     "output_type": "execute_result"
    }
   ],
   "source": [
    "ans * 3"
   ]
  },
  {
   "cell_type": "code",
   "execution_count": null,
   "id": "334ac29c-08f6-42c6-af57-6f1f03f3bbf8",
   "metadata": {},
   "outputs": [],
   "source": []
  },
  {
   "cell_type": "code",
   "execution_count": 153,
   "id": "ced3362e-1ce3-4333-851d-4de3164dfb30",
   "metadata": {},
   "outputs": [],
   "source": [
    "# Final code"
   ]
  },
  {
   "cell_type": "code",
   "execution_count": 155,
   "id": "9ac9bbda-4d8a-4177-b34a-1024c3ff2917",
   "metadata": {},
   "outputs": [
    {
     "name": "stdin",
     "output_type": "stream",
     "text": [
      " a b c\n"
     ]
    },
    {
     "name": "stdout",
     "output_type": "stream",
     "text": [
      "abcabcabc\n"
     ]
    }
   ],
   "source": [
    "l = input().split()\n",
    "ans = \"\".join(l)\n",
    "print(ans * 3)"
   ]
  },
  {
   "cell_type": "code",
   "execution_count": null,
   "id": "7ceccea1-aae8-47ce-94fa-1150862e2bca",
   "metadata": {},
   "outputs": [],
   "source": []
  },
  {
   "cell_type": "code",
   "execution_count": null,
   "id": "486225ef-148f-4dce-b80e-ec1edee2db18",
   "metadata": {},
   "outputs": [],
   "source": []
  },
  {
   "cell_type": "markdown",
   "id": "eb845e88-0c19-431c-b86f-b622bb5652aa",
   "metadata": {},
   "source": [
    "#### Inbuilt methods"
   ]
  },
  {
   "cell_type": "code",
   "execution_count": 157,
   "id": "be5e2ae1-2934-43f7-b4f7-9bf9d868dbde",
   "metadata": {},
   "outputs": [],
   "source": [
    "name = \"Rahul\""
   ]
  },
  {
   "cell_type": "code",
   "execution_count": 159,
   "id": "e6954f85-f7ad-4bf8-b962-a52946db7a3c",
   "metadata": {},
   "outputs": [
    {
     "data": {
      "text/plain": [
       "True"
      ]
     },
     "execution_count": 159,
     "metadata": {},
     "output_type": "execute_result"
    }
   ],
   "source": [
    "name.isalpha()"
   ]
  },
  {
   "cell_type": "code",
   "execution_count": 160,
   "id": "7ff96ea1-d255-4e30-9816-3922820f93c2",
   "metadata": {},
   "outputs": [
    {
     "data": {
      "text/plain": [
       "False"
      ]
     },
     "execution_count": 160,
     "metadata": {},
     "output_type": "execute_result"
    }
   ],
   "source": [
    "\"\".isalpha()"
   ]
  },
  {
   "cell_type": "code",
   "execution_count": 162,
   "id": "12bbf7bb-7fa9-44a5-8c19-7d55e1e0c889",
   "metadata": {},
   "outputs": [
    {
     "data": {
      "text/plain": [
       "True"
      ]
     },
     "execution_count": 162,
     "metadata": {},
     "output_type": "execute_result"
    }
   ],
   "source": [
    "\"23\".isnumeric()"
   ]
  },
  {
   "cell_type": "code",
   "execution_count": 163,
   "id": "36f46b6e-6896-4cea-8cf9-11ca0c8d9e9c",
   "metadata": {},
   "outputs": [
    {
     "data": {
      "text/plain": [
       "False"
      ]
     },
     "execution_count": 163,
     "metadata": {},
     "output_type": "execute_result"
    }
   ],
   "source": [
    "\"2a\".isnumeric()"
   ]
  },
  {
   "cell_type": "code",
   "execution_count": 164,
   "id": "879d8bd1-1dab-4a02-8b52-fc28c978cbc3",
   "metadata": {},
   "outputs": [
    {
     "data": {
      "text/plain": [
       "True"
      ]
     },
     "execution_count": 164,
     "metadata": {},
     "output_type": "execute_result"
    }
   ],
   "source": [
    "\"13\".isdigit()"
   ]
  },
  {
   "cell_type": "code",
   "execution_count": 165,
   "id": "1c621910-c413-460c-b11a-03d8eaf22960",
   "metadata": {},
   "outputs": [
    {
     "data": {
      "text/plain": [
       "True"
      ]
     },
     "execution_count": 165,
     "metadata": {},
     "output_type": "execute_result"
    }
   ],
   "source": [
    "\"123asd\".isalnum()"
   ]
  },
  {
   "cell_type": "code",
   "execution_count": 166,
   "id": "f9dbd62c-2682-498e-9288-120a51863c1e",
   "metadata": {},
   "outputs": [
    {
     "data": {
      "text/plain": [
       "False"
      ]
     },
     "execution_count": 166,
     "metadata": {},
     "output_type": "execute_result"
    }
   ],
   "source": [
    "\"as 3\".isalnum()"
   ]
  },
  {
   "cell_type": "code",
   "execution_count": null,
   "id": "085554cb-eab0-4fac-8074-630aae208b09",
   "metadata": {},
   "outputs": [],
   "source": []
  },
  {
   "cell_type": "code",
   "execution_count": null,
   "id": "bfab7374-a806-4617-80e7-e34c16ee08b4",
   "metadata": {},
   "outputs": [],
   "source": []
  },
  {
   "cell_type": "markdown",
   "id": "fb0bb23d-c8ff-4000-8cf0-422737a3d7da",
   "metadata": {},
   "source": [
    "## Challenge\n",
    "- Given a string count number of digits in a string"
   ]
  },
  {
   "cell_type": "code",
   "execution_count": 156,
   "id": "664bfa8e-694f-4fc5-9fdd-d9d4e7d74dbe",
   "metadata": {},
   "outputs": [],
   "source": [
    "# final code"
   ]
  },
  {
   "cell_type": "code",
   "execution_count": 171,
   "id": "3836d579-ef87-4f49-839f-6534ed70b982",
   "metadata": {},
   "outputs": [],
   "source": [
    "s = \"Rah1h2 7 h\""
   ]
  },
  {
   "cell_type": "code",
   "execution_count": 172,
   "id": "8bafe08e-8ff6-48e0-80da-5276987c7820",
   "metadata": {},
   "outputs": [
    {
     "name": "stdout",
     "output_type": "stream",
     "text": [
      "3\n"
     ]
    }
   ],
   "source": [
    "count = 0\n",
    "for i in s:\n",
    "    if i.isdigit():\n",
    "        count += 1\n",
    "        \n",
    "print(count)"
   ]
  },
  {
   "cell_type": "code",
   "execution_count": null,
   "id": "98df46ca-1a91-4bf3-bf88-7086ad3b6e97",
   "metadata": {},
   "outputs": [],
   "source": []
  },
  {
   "cell_type": "code",
   "execution_count": null,
   "id": "f2f859be-cab6-4253-a5f8-703c5482f78f",
   "metadata": {},
   "outputs": [],
   "source": []
  },
  {
   "cell_type": "code",
   "execution_count": null,
   "id": "13e3dbb6-6ecc-4915-85f7-b0562c5232e5",
   "metadata": {},
   "outputs": [],
   "source": []
  },
  {
   "cell_type": "code",
   "execution_count": null,
   "id": "ef257cb6-a854-441c-b79a-25f5cd1141fc",
   "metadata": {},
   "outputs": [],
   "source": []
  },
  {
   "cell_type": "code",
   "execution_count": 173,
   "id": "2f7c5608-19ec-4cd3-b69e-09a331a02c5d",
   "metadata": {},
   "outputs": [],
   "source": [
    "# isspace"
   ]
  },
  {
   "cell_type": "code",
   "execution_count": 175,
   "id": "bd3ef4c1-dea2-4706-af16-7b4d99cb78d1",
   "metadata": {},
   "outputs": [
    {
     "name": "stdout",
     "output_type": "stream",
     "text": [
      "False\n"
     ]
    }
   ],
   "source": [
    "print(\" a\".isspace())"
   ]
  },
  {
   "cell_type": "code",
   "execution_count": 177,
   "id": "aa4e967b-677d-4985-a870-a61bb2ef91e2",
   "metadata": {},
   "outputs": [
    {
     "data": {
      "text/plain": [
       "True"
      ]
     },
     "execution_count": 177,
     "metadata": {},
     "output_type": "execute_result"
    }
   ],
   "source": [
    "\"  \".isspace()"
   ]
  },
  {
   "cell_type": "code",
   "execution_count": 178,
   "id": "e26fce24-b59a-40ec-a985-bc151178ca22",
   "metadata": {},
   "outputs": [
    {
     "name": "stdout",
     "output_type": "stream",
     "text": [
      "False\n"
     ]
    }
   ],
   "source": [
    "print(\"2a\".isdigit())"
   ]
  },
  {
   "cell_type": "code",
   "execution_count": null,
   "id": "eeaeb4f2-f0c7-4ef5-b6ad-3ccafcf0400c",
   "metadata": {},
   "outputs": [],
   "source": []
  },
  {
   "cell_type": "code",
   "execution_count": 179,
   "id": "862e8354-00e9-44b8-afaf-31d358cd6dbe",
   "metadata": {},
   "outputs": [],
   "source": [
    "# Quiz"
   ]
  },
  {
   "cell_type": "code",
   "execution_count": 180,
   "id": "b213243a-a6a6-4535-91ca-7f082160eca3",
   "metadata": {},
   "outputs": [
    {
     "name": "stdout",
     "output_type": "stream",
     "text": [
      "string1Rahulstring2\n"
     ]
    }
   ],
   "source": [
    "n = ['string1', 'string2']\n",
    "print(\"Rahul\".join(n))"
   ]
  },
  {
   "cell_type": "code",
   "execution_count": null,
   "id": "47916e40-a09b-426c-8154-400608e8a14d",
   "metadata": {},
   "outputs": [],
   "source": []
  },
  {
   "cell_type": "code",
   "execution_count": null,
   "id": "3dbe5397-11ed-4ec1-aa04-e8477fb479ac",
   "metadata": {},
   "outputs": [],
   "source": []
  },
  {
   "cell_type": "code",
   "execution_count": 181,
   "id": "62171b9f-193c-4e1d-a2d7-f346c5d34751",
   "metadata": {},
   "outputs": [
    {
     "data": {
      "text/plain": [
       "'R->a->h->u->l'"
      ]
     },
     "execution_count": 181,
     "metadata": {},
     "output_type": "execute_result"
    }
   ],
   "source": [
    "\"->\".join(\"Rahul\")"
   ]
  },
  {
   "cell_type": "code",
   "execution_count": null,
   "id": "13f76d90-43c7-4cf1-bae8-c5810ee43bb1",
   "metadata": {},
   "outputs": [],
   "source": []
  },
  {
   "cell_type": "code",
   "execution_count": null,
   "id": "2a7c57b8-ec86-4809-9535-a4670747b7ae",
   "metadata": {},
   "outputs": [],
   "source": []
  },
  {
   "cell_type": "code",
   "execution_count": 182,
   "id": "a41ffa8c-c01d-4157-8a33-74a6195b7d7c",
   "metadata": {},
   "outputs": [],
   "source": [
    "# Doubts"
   ]
  },
  {
   "cell_type": "code",
   "execution_count": 184,
   "id": "f4c383ec-9afd-4fe3-b6a5-0e08f2a0ecf6",
   "metadata": {},
   "outputs": [
    {
     "name": "stdout",
     "output_type": "stream",
     "text": [
      "abc\n"
     ]
    }
   ],
   "source": [
    "s = [\"abc\"]\n",
    "print(\"kalyan\".join(s))"
   ]
  },
  {
   "cell_type": "code",
   "execution_count": null,
   "id": "286a7f36-081f-4a73-a50b-777e5bf04ade",
   "metadata": {},
   "outputs": [],
   "source": []
  },
  {
   "cell_type": "code",
   "execution_count": null,
   "id": "b7348fcf-7d13-47cb-a963-cafc23ea103a",
   "metadata": {},
   "outputs": [],
   "source": []
  },
  {
   "cell_type": "code",
   "execution_count": 185,
   "id": "fe8e481f-c718-408c-885f-027c2c1646ed",
   "metadata": {},
   "outputs": [],
   "source": [
    "# Hw:"
   ]
  },
  {
   "cell_type": "code",
   "execution_count": 186,
   "id": "00fa73da-ba6b-4855-8247-c08ff68e8a7e",
   "metadata": {},
   "outputs": [],
   "source": [
    "####\n",
    "###\n",
    "##\n",
    "#"
   ]
  },
  {
   "cell_type": "code",
   "execution_count": 193,
   "id": "05e0218e-b5a3-4267-9e95-516091db7c70",
   "metadata": {},
   "outputs": [
    {
     "name": "stdout",
     "output_type": "stream",
     "text": [
      "####\n",
      "###\n",
      "##\n",
      "#\n"
     ]
    }
   ],
   "source": [
    "n = 4\n",
    "for i in range(n):\n",
    "    print(\"#\" * (n - i))"
   ]
  },
  {
   "cell_type": "code",
   "execution_count": null,
   "id": "2bb0853f-2900-445b-b597-f49ff07f2d75",
   "metadata": {},
   "outputs": [],
   "source": []
  },
  {
   "cell_type": "code",
   "execution_count": null,
   "id": "e135ee01-cd77-42a0-b334-1fced7bd8166",
   "metadata": {},
   "outputs": [],
   "source": []
  },
  {
   "cell_type": "code",
   "execution_count": null,
   "id": "e529cdc1-97f0-4f34-86f6-b02f34748776",
   "metadata": {},
   "outputs": [],
   "source": [
    "# HW"
   ]
  },
  {
   "cell_type": "code",
   "execution_count": null,
   "id": "ff332e48-e1b5-4c02-ad6c-3a2ea30622fd",
   "metadata": {},
   "outputs": [],
   "source": [
    "# If n is 4"
   ]
  },
  {
   "cell_type": "code",
   "execution_count": null,
   "id": "3c694dca-62e6-42ad-acdc-37c6e0c3f7fa",
   "metadata": {},
   "outputs": [],
   "source": [
    "#\n",
    "##\n",
    "###\n",
    "####"
   ]
  },
  {
   "cell_type": "code",
   "execution_count": null,
   "id": "10d17fd1-50bd-40d4-b9ce-6b8bc6f3e23e",
   "metadata": {},
   "outputs": [],
   "source": [
    "# If n = 4"
   ]
  },
  {
   "cell_type": "code",
   "execution_count": null,
   "id": "4a353187-8c25-4a24-816c-e80c1e7f4ebc",
   "metadata": {},
   "outputs": [],
   "source": [
    "####\n",
    " ###\n",
    "  ##\n",
    "   #"
   ]
  },
  {
   "cell_type": "code",
   "execution_count": null,
   "id": "d9677877-d0f5-4528-b89c-3b443384a492",
   "metadata": {},
   "outputs": [],
   "source": []
  },
  {
   "cell_type": "code",
   "execution_count": null,
   "id": "01d1a57a-0355-4de4-b62a-3f698476e543",
   "metadata": {},
   "outputs": [],
   "source": []
  }
 ],
 "metadata": {
  "kernelspec": {
   "display_name": "Python 3 (ipykernel)",
   "language": "python",
   "name": "python3"
  },
  "language_info": {
   "codemirror_mode": {
    "name": "ipython",
    "version": 3
   },
   "file_extension": ".py",
   "mimetype": "text/x-python",
   "name": "python",
   "nbconvert_exporter": "python",
   "pygments_lexer": "ipython3",
   "version": "3.9.7"
  }
 },
 "nbformat": 4,
 "nbformat_minor": 5
}
